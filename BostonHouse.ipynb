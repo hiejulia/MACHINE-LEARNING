{
  "nbformat": 4,
  "nbformat_minor": 0,
  "metadata": {
    "kernelspec": {
      "display_name": "Python 3",
      "language": "python",
      "name": "python3"
    },
    "language_info": {
      "codemirror_mode": {
        "name": "ipython",
        "version": 3
      },
      "file_extension": ".py",
      "mimetype": "text/x-python",
      "name": "python",
      "nbconvert_exporter": "python",
      "pygments_lexer": "ipython3",
      "version": "3.7.6"
    },
    "colab": {
      "name": "tf_SyntaxGuide.ipynb",
      "provenance": [],
      "collapsed_sections": []
    }
  },
  "cells": [
    {
      "cell_type": "markdown",
      "metadata": {
        "id": "-4a_0CFzCQiG",
        "colab_type": "text"
      },
      "source": [
        "# Basic tensorflow Syntax Guide"
      ]
    },
    {
      "cell_type": "code",
      "metadata": {
        "id": "E6a4gkxLCQiH",
        "colab_type": "code",
        "colab": {
          "base_uri": "https://localhost:8080/",
          "height": 88
        },
        "outputId": "8885e6ec-e3ed-43d0-d0ce-4bf4dd332421"
      },
      "source": [
        "import tensorflow.compat.v1 as tf\n",
        "tf.disable_v2_behavior() "
      ],
      "execution_count": 6,
      "outputs": [
        {
          "output_type": "stream",
          "text": [
            "WARNING:tensorflow:From /usr/local/lib/python3.6/dist-packages/tensorflow/python/compat/v2_compat.py:96: disable_resource_variables (from tensorflow.python.ops.variable_scope) is deprecated and will be removed in a future version.\n",
            "Instructions for updating:\n",
            "non-resource variables are not supported in the long term\n"
          ],
          "name": "stdout"
        }
      ]
    },
    {
      "cell_type": "markdown",
      "metadata": {
        "id": "GVV2CrYGCQiZ",
        "colab_type": "text"
      },
      "source": [
        "# Gradients and Optimizer"
      ]
    },
    {
      "cell_type": "code",
      "metadata": {
        "id": "xetkdyy4CQia",
        "colab_type": "code",
        "colab": {
          "base_uri": "https://localhost:8080/",
          "height": 51
        },
        "outputId": "eb97bfb8-531a-4584-afc0-a57eebb874b6"
      },
      "source": [
        "# Gradients and Optimizer \n",
        "from sklearn.datasets import load_boston\n",
        "from sklearn.preprocessing import StandardScaler\n",
        "import numpy as np\n",
        "\n",
        "tf.reset_default_graph()\n",
        "\n",
        "# Load data and then normalize the data \n",
        "boston_data = load_boston()\n",
        "m, n = boston_data.data.shape\n",
        "print(m)\n",
        "print(n)"
      ],
      "execution_count": 14,
      "outputs": [
        {
          "output_type": "stream",
          "text": [
            "506\n",
            "13\n"
          ],
          "name": "stdout"
        }
      ]
    },
    {
      "cell_type": "code",
      "metadata": {
        "id": "zwhdIS02D-2N",
        "colab_type": "code",
        "colab": {
          "base_uri": "https://localhost:8080/",
          "height": 238
        },
        "outputId": "febfbee5-2ca8-4989-888c-49f00b962798"
      },
      "source": [
        "# Scaler \n",
        "scaler = StandardScaler()\n",
        "scaled_boston_housing_data = scaler.fit_transform(boston_data.data)\n",
        "\n",
        "scaled_boston_housing_data_plus_bias = np.c_[np.ones((m,1)), scaled_boston_housing_data]\n",
        "\n",
        "print(scaled_boston_housing_data_plus_bias)\n"
      ],
      "execution_count": 19,
      "outputs": [
        {
          "output_type": "stream",
          "text": [
            "[[ 1.         -0.41978194  0.28482986 ... -1.45900038  0.44105193\n",
            "  -1.0755623 ]\n",
            " [ 1.         -0.41733926 -0.48772236 ... -0.30309415  0.44105193\n",
            "  -0.49243937]\n",
            " [ 1.         -0.41734159 -0.48772236 ... -0.30309415  0.39642699\n",
            "  -1.2087274 ]\n",
            " ...\n",
            " [ 1.         -0.41344658 -0.48772236 ...  1.17646583  0.44105193\n",
            "  -0.98304761]\n",
            " [ 1.         -0.40776407 -0.48772236 ...  1.17646583  0.4032249\n",
            "  -0.86530163]\n",
            " [ 1.         -0.41500016 -0.48772236 ...  1.17646583  0.44105193\n",
            "  -0.66905833]]\n"
          ],
          "name": "stdout"
        }
      ]
    },
    {
      "cell_type": "code",
      "metadata": {
        "id": "mPpbn9u2EZuX",
        "colab_type": "code",
        "colab": {
          "base_uri": "https://localhost:8080/",
          "height": 425
        },
        "outputId": "deca1447-af14-436c-cea5-544407a6be58"
      },
      "source": [
        "# Create Nodes for holding the data\n",
        "X = tf.constant(scaled_boston_housing_data_plus_bias, dtype = tf.float32, name = \"X\")\n",
        "y = tf.constant(boston_data.target.reshape(-1,1), dtype = tf.float32, name = \"y\")\n",
        "\n",
        "\n",
        "w = tf.Variable(tf.random_uniform([n+1, 1], -1, 1), name = \"weights\")\n",
        "\n",
        "# MSE\n",
        "y_pred = tf.matmul(X, w, name = \"predictions\")\n",
        "error = y_pred - y\n",
        "mse = tf.reduce_mean(tf.square(error, name = \"mse\"))\n",
        "\n",
        "# Gradient Descent Optimizer \n",
        "optimizer = tf.train.GradientDescentOptimizer(learning_rate = 0.01)\n",
        "training_op = optimizer.minimize(mse)\n",
        "\n",
        "# Init vars of the computation graph \n",
        "init = tf.global_variables_initializer()\n",
        "\n",
        "# Run computation graph \n",
        "with tf.Session() as sess:\n",
        "    sess.run(init)\n",
        "    for epoch in range(100):\n",
        "        if(epoch % 10 == 0):\n",
        "            print(\"Epoch\", epoch, \"MSE=\", mse.eval())\n",
        "        sess.run(training_op)\n",
        "\n",
        "    best_weights = w.eval()\n",
        "    \n",
        "    print(best_weights)"
      ],
      "execution_count": 20,
      "outputs": [
        {
          "output_type": "stream",
          "text": [
            "Epoch 0 MSE= 620.80444\n",
            "Epoch 10 MSE= 399.22894\n",
            "Epoch 20 MSE= 272.19043\n",
            "Epoch 30 MSE= 189.33255\n",
            "Epoch 40 MSE= 134.36688\n",
            "Epoch 50 MSE= 97.78455\n",
            "Epoch 60 MSE= 73.39228\n",
            "Epoch 70 MSE= 57.097534\n",
            "Epoch 80 MSE= 46.188423\n",
            "Epoch 90 MSE= 38.86545\n",
            "[[ 1.9502724e+01]\n",
            " [-9.6654058e-01]\n",
            " [-3.5471410e-02]\n",
            " [ 1.4869579e-02]\n",
            " [ 7.8560567e-01]\n",
            " [-8.5515457e-01]\n",
            " [ 3.6284318e+00]\n",
            " [-5.4000038e-01]\n",
            " [-8.8959038e-01]\n",
            " [ 4.8803285e-01]\n",
            " [-2.2342423e-01]\n",
            " [-1.8968143e+00]\n",
            " [ 6.9918716e-01]\n",
            " [-2.3664408e+00]]\n"
          ],
          "name": "stdout"
        }
      ]
    }
  ]
}