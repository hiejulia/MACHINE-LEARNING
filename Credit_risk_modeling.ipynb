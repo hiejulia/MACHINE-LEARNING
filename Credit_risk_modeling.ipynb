{
  "nbformat": 4,
  "nbformat_minor": 0,
  "metadata": {
    "colab": {
      "name": "Credit-risk-modeling.ipynb",
      "provenance": [],
      "collapsed_sections": []
    },
    "kernelspec": {
      "name": "python3",
      "display_name": "Python 3"
    },
    "accelerator": "GPU"
  },
  "cells": [
    {
      "cell_type": "code",
      "metadata": {
        "id": "X8PxwVV3Smc3"
      },
      "source": [
        "# Load libraries\n",
        "import numpy as np\n",
        "import pandas as pd\n",
        "import matplotlib.pyplot as plt\n",
        "from pandas import read_csv, set_option\n",
        "from pandas.plotting import scatter_matrix\n",
        "import seaborn as sns\n",
        "from sklearn.preprocessing import StandardScaler\n",
        "import datetime\n",
        "import pandas_datareader as dr\n",
        "\n",
        "#Import Model Packages \n",
        "from sklearn.cluster import KMeans, AgglomerativeClustering,AffinityPropagation, DBSCAN\n",
        "from scipy.cluster.hierarchy import fcluster\n",
        "from scipy.cluster.hierarchy import dendrogram, linkage, cophenet\n",
        "from scipy.spatial.distance import pdist\n",
        "from sklearn.metrics import adjusted_mutual_info_score\n",
        "from sklearn import cluster, covariance, manifold\n",
        "\n",
        "from scipy.sparse import csr_matrix\n",
        "import sklearn\n",
        "from sklearn.decomposition import TruncatedSVD\n",
        "\n",
        "#Other Helper Packages and functions\n",
        "import matplotlib.ticker as ticker\n",
        "from itertools import cycle\n",
        "\n",
        "#Diable the warnings\n",
        "import warnings\n",
        "warnings.filterwarnings('ignore')\n",
        "\n",
        "from __future__ import print_function"
      ],
      "execution_count": 108,
      "outputs": []
    },
    {
      "cell_type": "markdown",
      "metadata": {
        "id": "JJB_nGh6S7fG"
      },
      "source": [
        "Whether a person will be doing any default activity for his loan in next 2 year.\n"
      ]
    },
    {
      "cell_type": "code",
      "metadata": {
        "id": "HA0tYbLoS-GJ",
        "outputId": "ed9a2cf7-f3e6-442e-d5aa-12b149415f29",
        "colab": {
          "base_uri": "https://localhost:8080/",
          "height": 34
        }
      },
      "source": [
        "# Load dataset\n",
        "from google.colab import drive\n",
        "\n",
        "# This will prompt for authorization.\n",
        "drive.mount('/content/drive')"
      ],
      "execution_count": 4,
      "outputs": [
        {
          "output_type": "stream",
          "text": [
            "Mounted at /content/drive\n"
          ],
          "name": "stdout"
        }
      ]
    },
    {
      "cell_type": "code",
      "metadata": {
        "id": "oGO-An44S-Ib"
      },
      "source": [
        "# dataset = read_csv('/content/drive/My Drive/SP500Data.csv',index_col=0)"
      ],
      "execution_count": null,
      "outputs": []
    },
    {
      "cell_type": "code",
      "metadata": {
        "id": "z_ZRCbM5S-Kk",
        "outputId": "2e4cb9d8-9697-44a9-a8fb-31ff45aef918",
        "colab": {
          "base_uri": "https://localhost:8080/",
          "height": 34
        }
      },
      "source": [
        "# type(dataset)"
      ],
      "execution_count": null,
      "outputs": [
        {
          "output_type": "execute_result",
          "data": {
            "text/plain": [
              "pandas.core.frame.DataFrame"
            ]
          },
          "metadata": {
            "tags": []
          },
          "execution_count": 7
        }
      ]
    },
    {
      "cell_type": "code",
      "metadata": {
        "id": "YtgfaPtdo0Wv"
      },
      "source": [
        "# Read Training dataset as well as drop the index column\n",
        "training_data = pd.read_csv('/content/drive/My Drive/cs-training.csv').drop('Unnamed: 0', axis = 1)\n",
        "\n",
        "\n",
        "# For each column heading we replace \"-\" and convert the heading in lowercase \n",
        "cleancolumn = []\n",
        "\n",
        "# Process data \n",
        "for i in range(len(training_data.columns)):\n",
        "    cleancolumn.append(training_data.columns[i].replace('-', '').lower())\n",
        "training_data.columns = cleancolumn"
      ],
      "execution_count": 109,
      "outputs": []
    },
    {
      "cell_type": "code",
      "metadata": {
        "id": "Z4NCIgZqo0UK",
        "outputId": "b924ec47-cf02-4894-ad13-da05ec5ff1d3",
        "colab": {
          "base_uri": "https://localhost:8080/",
          "height": 224
        }
      },
      "source": [
        "training_data.head()"
      ],
      "execution_count": 110,
      "outputs": [
        {
          "output_type": "execute_result",
          "data": {
            "text/html": [
              "<div>\n",
              "<style scoped>\n",
              "    .dataframe tbody tr th:only-of-type {\n",
              "        vertical-align: middle;\n",
              "    }\n",
              "\n",
              "    .dataframe tbody tr th {\n",
              "        vertical-align: top;\n",
              "    }\n",
              "\n",
              "    .dataframe thead th {\n",
              "        text-align: right;\n",
              "    }\n",
              "</style>\n",
              "<table border=\"1\" class=\"dataframe\">\n",
              "  <thead>\n",
              "    <tr style=\"text-align: right;\">\n",
              "      <th></th>\n",
              "      <th>seriousdlqin2yrs</th>\n",
              "      <th>revolvingutilizationofunsecuredlines</th>\n",
              "      <th>age</th>\n",
              "      <th>numberoftime3059dayspastduenotworse</th>\n",
              "      <th>debtratio</th>\n",
              "      <th>monthlyincome</th>\n",
              "      <th>numberofopencreditlinesandloans</th>\n",
              "      <th>numberoftimes90dayslate</th>\n",
              "      <th>numberrealestateloansorlines</th>\n",
              "      <th>numberoftime6089dayspastduenotworse</th>\n",
              "      <th>numberofdependents</th>\n",
              "    </tr>\n",
              "  </thead>\n",
              "  <tbody>\n",
              "    <tr>\n",
              "      <th>0</th>\n",
              "      <td>1</td>\n",
              "      <td>0.77</td>\n",
              "      <td>45</td>\n",
              "      <td>2</td>\n",
              "      <td>0.80</td>\n",
              "      <td>9120.00</td>\n",
              "      <td>13</td>\n",
              "      <td>0</td>\n",
              "      <td>6</td>\n",
              "      <td>0</td>\n",
              "      <td>2.00</td>\n",
              "    </tr>\n",
              "    <tr>\n",
              "      <th>1</th>\n",
              "      <td>0</td>\n",
              "      <td>0.96</td>\n",
              "      <td>40</td>\n",
              "      <td>0</td>\n",
              "      <td>0.12</td>\n",
              "      <td>2600.00</td>\n",
              "      <td>4</td>\n",
              "      <td>0</td>\n",
              "      <td>0</td>\n",
              "      <td>0</td>\n",
              "      <td>1.00</td>\n",
              "    </tr>\n",
              "    <tr>\n",
              "      <th>2</th>\n",
              "      <td>0</td>\n",
              "      <td>0.66</td>\n",
              "      <td>38</td>\n",
              "      <td>1</td>\n",
              "      <td>0.09</td>\n",
              "      <td>3042.00</td>\n",
              "      <td>2</td>\n",
              "      <td>1</td>\n",
              "      <td>0</td>\n",
              "      <td>0</td>\n",
              "      <td>0.00</td>\n",
              "    </tr>\n",
              "    <tr>\n",
              "      <th>3</th>\n",
              "      <td>0</td>\n",
              "      <td>0.23</td>\n",
              "      <td>30</td>\n",
              "      <td>0</td>\n",
              "      <td>0.04</td>\n",
              "      <td>3300.00</td>\n",
              "      <td>5</td>\n",
              "      <td>0</td>\n",
              "      <td>0</td>\n",
              "      <td>0</td>\n",
              "      <td>0.00</td>\n",
              "    </tr>\n",
              "    <tr>\n",
              "      <th>4</th>\n",
              "      <td>0</td>\n",
              "      <td>0.91</td>\n",
              "      <td>49</td>\n",
              "      <td>1</td>\n",
              "      <td>0.02</td>\n",
              "      <td>63588.00</td>\n",
              "      <td>7</td>\n",
              "      <td>0</td>\n",
              "      <td>1</td>\n",
              "      <td>0</td>\n",
              "      <td>0.00</td>\n",
              "    </tr>\n",
              "  </tbody>\n",
              "</table>\n",
              "</div>"
            ],
            "text/plain": [
              "   seriousdlqin2yrs  ...  numberofdependents\n",
              "0                 1  ...                2.00\n",
              "1                 0  ...                1.00\n",
              "2                 0  ...                0.00\n",
              "3                 0  ...                0.00\n",
              "4                 0  ...                0.00\n",
              "\n",
              "[5 rows x 11 columns]"
            ]
          },
          "metadata": {
            "tags": []
          },
          "execution_count": 110
        }
      ]
    },
    {
      "cell_type": "code",
      "metadata": {
        "id": "b4aUDgAfnzW5",
        "outputId": "c9347eba-1329-40cc-aad7-cd08a83db364",
        "colab": {
          "base_uri": "https://localhost:8080/",
          "height": 317
        }
      },
      "source": [
        "# Describe the all statistical properties of the training dataset\n",
        "training_data[training_data.columns[1:]].describe()"
      ],
      "execution_count": 111,
      "outputs": [
        {
          "output_type": "execute_result",
          "data": {
            "text/html": [
              "<div>\n",
              "<style scoped>\n",
              "    .dataframe tbody tr th:only-of-type {\n",
              "        vertical-align: middle;\n",
              "    }\n",
              "\n",
              "    .dataframe tbody tr th {\n",
              "        vertical-align: top;\n",
              "    }\n",
              "\n",
              "    .dataframe thead th {\n",
              "        text-align: right;\n",
              "    }\n",
              "</style>\n",
              "<table border=\"1\" class=\"dataframe\">\n",
              "  <thead>\n",
              "    <tr style=\"text-align: right;\">\n",
              "      <th></th>\n",
              "      <th>revolvingutilizationofunsecuredlines</th>\n",
              "      <th>age</th>\n",
              "      <th>numberoftime3059dayspastduenotworse</th>\n",
              "      <th>debtratio</th>\n",
              "      <th>monthlyincome</th>\n",
              "      <th>numberofopencreditlinesandloans</th>\n",
              "      <th>numberoftimes90dayslate</th>\n",
              "      <th>numberrealestateloansorlines</th>\n",
              "      <th>numberoftime6089dayspastduenotworse</th>\n",
              "      <th>numberofdependents</th>\n",
              "    </tr>\n",
              "  </thead>\n",
              "  <tbody>\n",
              "    <tr>\n",
              "      <th>count</th>\n",
              "      <td>150000.00</td>\n",
              "      <td>150000.00</td>\n",
              "      <td>150000.00</td>\n",
              "      <td>150000.00</td>\n",
              "      <td>120269.00</td>\n",
              "      <td>150000.00</td>\n",
              "      <td>150000.00</td>\n",
              "      <td>150000.00</td>\n",
              "      <td>150000.00</td>\n",
              "      <td>146076.00</td>\n",
              "    </tr>\n",
              "    <tr>\n",
              "      <th>mean</th>\n",
              "      <td>6.05</td>\n",
              "      <td>52.30</td>\n",
              "      <td>0.42</td>\n",
              "      <td>353.01</td>\n",
              "      <td>6670.22</td>\n",
              "      <td>8.45</td>\n",
              "      <td>0.27</td>\n",
              "      <td>1.02</td>\n",
              "      <td>0.24</td>\n",
              "      <td>0.76</td>\n",
              "    </tr>\n",
              "    <tr>\n",
              "      <th>std</th>\n",
              "      <td>249.76</td>\n",
              "      <td>14.77</td>\n",
              "      <td>4.19</td>\n",
              "      <td>2037.82</td>\n",
              "      <td>14384.67</td>\n",
              "      <td>5.15</td>\n",
              "      <td>4.17</td>\n",
              "      <td>1.13</td>\n",
              "      <td>4.16</td>\n",
              "      <td>1.12</td>\n",
              "    </tr>\n",
              "    <tr>\n",
              "      <th>min</th>\n",
              "      <td>0.00</td>\n",
              "      <td>0.00</td>\n",
              "      <td>0.00</td>\n",
              "      <td>0.00</td>\n",
              "      <td>0.00</td>\n",
              "      <td>0.00</td>\n",
              "      <td>0.00</td>\n",
              "      <td>0.00</td>\n",
              "      <td>0.00</td>\n",
              "      <td>0.00</td>\n",
              "    </tr>\n",
              "    <tr>\n",
              "      <th>25%</th>\n",
              "      <td>0.03</td>\n",
              "      <td>41.00</td>\n",
              "      <td>0.00</td>\n",
              "      <td>0.18</td>\n",
              "      <td>3400.00</td>\n",
              "      <td>5.00</td>\n",
              "      <td>0.00</td>\n",
              "      <td>0.00</td>\n",
              "      <td>0.00</td>\n",
              "      <td>0.00</td>\n",
              "    </tr>\n",
              "    <tr>\n",
              "      <th>50%</th>\n",
              "      <td>0.15</td>\n",
              "      <td>52.00</td>\n",
              "      <td>0.00</td>\n",
              "      <td>0.37</td>\n",
              "      <td>5400.00</td>\n",
              "      <td>8.00</td>\n",
              "      <td>0.00</td>\n",
              "      <td>1.00</td>\n",
              "      <td>0.00</td>\n",
              "      <td>0.00</td>\n",
              "    </tr>\n",
              "    <tr>\n",
              "      <th>75%</th>\n",
              "      <td>0.56</td>\n",
              "      <td>63.00</td>\n",
              "      <td>0.00</td>\n",
              "      <td>0.87</td>\n",
              "      <td>8249.00</td>\n",
              "      <td>11.00</td>\n",
              "      <td>0.00</td>\n",
              "      <td>2.00</td>\n",
              "      <td>0.00</td>\n",
              "      <td>1.00</td>\n",
              "    </tr>\n",
              "    <tr>\n",
              "      <th>max</th>\n",
              "      <td>50708.00</td>\n",
              "      <td>109.00</td>\n",
              "      <td>98.00</td>\n",
              "      <td>329664.00</td>\n",
              "      <td>3008750.00</td>\n",
              "      <td>58.00</td>\n",
              "      <td>98.00</td>\n",
              "      <td>54.00</td>\n",
              "      <td>98.00</td>\n",
              "      <td>20.00</td>\n",
              "    </tr>\n",
              "  </tbody>\n",
              "</table>\n",
              "</div>"
            ],
            "text/plain": [
              "       revolvingutilizationofunsecuredlines  ...  numberofdependents\n",
              "count                             150000.00  ...           146076.00\n",
              "mean                                   6.05  ...                0.76\n",
              "std                                  249.76  ...                1.12\n",
              "min                                    0.00  ...                0.00\n",
              "25%                                    0.03  ...                0.00\n",
              "50%                                    0.15  ...                0.00\n",
              "75%                                    0.56  ...                1.00\n",
              "max                                50708.00  ...               20.00\n",
              "\n",
              "[8 rows x 10 columns]"
            ]
          },
          "metadata": {
            "tags": []
          },
          "execution_count": 111
        }
      ]
    },
    {
      "cell_type": "code",
      "metadata": {
        "id": "hSiGkdfptxMO",
        "outputId": "bf494842-942f-4eaa-89ec-243b993cbbba",
        "colab": {
          "base_uri": "https://localhost:8080/",
          "height": 204
        }
      },
      "source": [
        "training_data[training_data.columns[1:]].median()"
      ],
      "execution_count": 112,
      "outputs": [
        {
          "output_type": "execute_result",
          "data": {
            "text/plain": [
              "revolvingutilizationofunsecuredlines      0.15\n",
              "age                                      52.00\n",
              "numberoftime3059dayspastduenotworse       0.00\n",
              "debtratio                                 0.37\n",
              "monthlyincome                          5400.00\n",
              "numberofopencreditlinesandloans           8.00\n",
              "numberoftimes90dayslate                   0.00\n",
              "numberrealestateloansorlines              1.00\n",
              "numberoftime6089dayspastduenotworse       0.00\n",
              "numberofdependents                        0.00\n",
              "dtype: float64"
            ]
          },
          "metadata": {
            "tags": []
          },
          "execution_count": 112
        }
      ]
    },
    {
      "cell_type": "code",
      "metadata": {
        "id": "3XT4DM-2txSp",
        "outputId": "8c63bc94-a07f-4788-decc-0f6525d18014",
        "colab": {
          "base_uri": "https://localhost:8080/",
          "height": 204
        }
      },
      "source": [
        "training_data[training_data.columns[1:]].mean()"
      ],
      "execution_count": 113,
      "outputs": [
        {
          "output_type": "execute_result",
          "data": {
            "text/plain": [
              "revolvingutilizationofunsecuredlines      6.05\n",
              "age                                      52.30\n",
              "numberoftime3059dayspastduenotworse       0.42\n",
              "debtratio                               353.01\n",
              "monthlyincome                          6670.22\n",
              "numberofopencreditlinesandloans           8.45\n",
              "numberoftimes90dayslate                   0.27\n",
              "numberrealestateloansorlines              1.02\n",
              "numberoftime6089dayspastduenotworse       0.24\n",
              "numberofdependents                        0.76\n",
              "dtype: float64"
            ]
          },
          "metadata": {
            "tags": []
          },
          "execution_count": 113
        }
      ]
    },
    {
      "cell_type": "code",
      "metadata": {
        "id": "O3Nhv__QtxY-",
        "outputId": "6e015e77-229d-40bd-8d5d-dbb4af6f2775",
        "colab": {
          "base_uri": "https://localhost:8080/",
          "height": 68
        }
      },
      "source": [
        "# This give you the calulation of the target lebels. Which category of the target lebel is how many percentage.\n",
        "total_len = len(training_data['seriousdlqin2yrs'])\n",
        "percentage_labels = (training_data['seriousdlqin2yrs'].value_counts()/total_len)*100\n",
        "percentage_labels"
      ],
      "execution_count": 114,
      "outputs": [
        {
          "output_type": "execute_result",
          "data": {
            "text/plain": [
              "0   93.32\n",
              "1    6.68\n",
              "Name: seriousdlqin2yrs, dtype: float64"
            ]
          },
          "metadata": {
            "tags": []
          },
          "execution_count": 114
        }
      ]
    },
    {
      "cell_type": "code",
      "metadata": {
        "id": "HTx_RFQ6txjd",
        "outputId": "972e1366-9c33-4913-c42c-155c985fb496",
        "colab": {
          "base_uri": "https://localhost:8080/",
          "height": 301
        }
      },
      "source": [
        "# Graphical representation of the target label percentage \n",
        "\n",
        "sns.set()\n",
        "sns.countplot(training_data.seriousdlqin2yrs).set_title('Data Distribution')\n",
        "ax = plt.gca()\n",
        "for p in ax.patches:\n",
        "    height = p.get_height()\n",
        "    ax.text(p.get_x() + p.get_width()/2.,\n",
        "            height + 2,\n",
        "            '{:.2f}%'.format(100*(height/total_len)),\n",
        "            fontsize=12, ha='center', va='bottom')\n",
        "sns.set(font_scale=1.5)\n",
        "ax.set_xlabel(\"Labels for seriousdlqin2yrs attribute\")\n",
        "ax.set_ylabel(\"Numbers of records\")\n",
        "plt.show()"
      ],
      "execution_count": 115,
      "outputs": [
        {
          "output_type": "display_data",
          "data": {
            "image/png": "[encoded data removed]",
            "text/plain": [
              "<Figure size 432x288 with 1 Axes>"
            ]
          },
          "metadata": {
            "tags": []
          }
        }
      ]
    },
    {
      "cell_type": "code",
      "metadata": {
        "id": "S7RE1sAbtxqe",
        "outputId": "be0b8844-f13c-430a-cc74-ac0608802940",
        "colab": {
          "base_uri": "https://localhost:8080/",
          "height": 221
        }
      },
      "source": [
        "# Missing value\n",
        "# You will get to know which column has missing value and it's give the count that how many records are missing \n",
        "training_data.isnull().sum()"
      ],
      "execution_count": 116,
      "outputs": [
        {
          "output_type": "execute_result",
          "data": {
            "text/plain": [
              "seriousdlqin2yrs                            0\n",
              "revolvingutilizationofunsecuredlines        0\n",
              "age                                         0\n",
              "numberoftime3059dayspastduenotworse         0\n",
              "debtratio                                   0\n",
              "monthlyincome                           29731\n",
              "numberofopencreditlinesandloans             0\n",
              "numberoftimes90dayslate                     0\n",
              "numberrealestateloansorlines                0\n",
              "numberoftime6089dayspastduenotworse         0\n",
              "numberofdependents                       3924\n",
              "dtype: int64"
            ]
          },
          "metadata": {
            "tags": []
          },
          "execution_count": 116
        }
      ]
    },
    {
      "cell_type": "code",
      "metadata": {
        "id": "UE5jPFoHtxpK",
        "outputId": "691c1af7-b6a4-4ab0-c791-3866a72ee0db",
        "colab": {
          "base_uri": "https://localhost:8080/",
          "height": 523
        }
      },
      "source": [
        "\n",
        "# Graphical representation of the missing values.\n",
        "x = training_data.columns\n",
        "y = training_data.isnull().sum()\n",
        "sns.set()\n",
        "sns.barplot(x,y)\n",
        "ax = plt.gca()\n",
        "for p in ax.patches:\n",
        "    height = p.get_height()\n",
        "    ax.text(p.get_x() + p.get_width()/2.,\n",
        "            height + 2,\n",
        "            int(height),\n",
        "            fontsize=12, ha='center', va='bottom')\n",
        "ax.set_xlabel(\"Data Attributes\")\n",
        "ax.set_ylabel(\"count of missing records for each attribute\")\n",
        "plt.xticks(rotation=90)\n",
        "plt.show()"
      ],
      "execution_count": 117,
      "outputs": [
        {
          "output_type": "display_data",
          "data": {
            "image/png": "[encoded data removed]",
            "text/plain": [
              "<Figure size 432x288 with 1 Axes>"
            ]
          },
          "metadata": {
            "tags": []
          }
        }
      ]
    },
    {
      "cell_type": "code",
      "metadata": {
        "id": "xkJjipTotxmO",
        "outputId": "a5a1b59a-9f0c-453a-928b-dff2a7cf9e8d",
        "colab": {
          "base_uri": "https://localhost:8080/",
          "height": 224
        }
      },
      "source": [
        "# Actual replacement of the missing value using mean value.\n",
        "training_data_mean_replace = training_data.fillna((training_data.mean()))\n",
        "training_data_mean_replace.head()"
      ],
      "execution_count": 118,
      "outputs": [
        {
          "output_type": "execute_result",
          "data": {
            "text/html": [
              "<div>\n",
              "<style scoped>\n",
              "    .dataframe tbody tr th:only-of-type {\n",
              "        vertical-align: middle;\n",
              "    }\n",
              "\n",
              "    .dataframe tbody tr th {\n",
              "        vertical-align: top;\n",
              "    }\n",
              "\n",
              "    .dataframe thead th {\n",
              "        text-align: right;\n",
              "    }\n",
              "</style>\n",
              "<table border=\"1\" class=\"dataframe\">\n",
              "  <thead>\n",
              "    <tr style=\"text-align: right;\">\n",
              "      <th></th>\n",
              "      <th>seriousdlqin2yrs</th>\n",
              "      <th>revolvingutilizationofunsecuredlines</th>\n",
              "      <th>age</th>\n",
              "      <th>numberoftime3059dayspastduenotworse</th>\n",
              "      <th>debtratio</th>\n",
              "      <th>monthlyincome</th>\n",
              "      <th>numberofopencreditlinesandloans</th>\n",
              "      <th>numberoftimes90dayslate</th>\n",
              "      <th>numberrealestateloansorlines</th>\n",
              "      <th>numberoftime6089dayspastduenotworse</th>\n",
              "      <th>numberofdependents</th>\n",
              "    </tr>\n",
              "  </thead>\n",
              "  <tbody>\n",
              "    <tr>\n",
              "      <th>0</th>\n",
              "      <td>1</td>\n",
              "      <td>0.77</td>\n",
              "      <td>45</td>\n",
              "      <td>2</td>\n",
              "      <td>0.80</td>\n",
              "      <td>9120.00</td>\n",
              "      <td>13</td>\n",
              "      <td>0</td>\n",
              "      <td>6</td>\n",
              "      <td>0</td>\n",
              "      <td>2.00</td>\n",
              "    </tr>\n",
              "    <tr>\n",
              "      <th>1</th>\n",
              "      <td>0</td>\n",
              "      <td>0.96</td>\n",
              "      <td>40</td>\n",
              "      <td>0</td>\n",
              "      <td>0.12</td>\n",
              "      <td>2600.00</td>\n",
              "      <td>4</td>\n",
              "      <td>0</td>\n",
              "      <td>0</td>\n",
              "      <td>0</td>\n",
              "      <td>1.00</td>\n",
              "    </tr>\n",
              "    <tr>\n",
              "      <th>2</th>\n",
              "      <td>0</td>\n",
              "      <td>0.66</td>\n",
              "      <td>38</td>\n",
              "      <td>1</td>\n",
              "      <td>0.09</td>\n",
              "      <td>3042.00</td>\n",
              "      <td>2</td>\n",
              "      <td>1</td>\n",
              "      <td>0</td>\n",
              "      <td>0</td>\n",
              "      <td>0.00</td>\n",
              "    </tr>\n",
              "    <tr>\n",
              "      <th>3</th>\n",
              "      <td>0</td>\n",
              "      <td>0.23</td>\n",
              "      <td>30</td>\n",
              "      <td>0</td>\n",
              "      <td>0.04</td>\n",
              "      <td>3300.00</td>\n",
              "      <td>5</td>\n",
              "      <td>0</td>\n",
              "      <td>0</td>\n",
              "      <td>0</td>\n",
              "      <td>0.00</td>\n",
              "    </tr>\n",
              "    <tr>\n",
              "      <th>4</th>\n",
              "      <td>0</td>\n",
              "      <td>0.91</td>\n",
              "      <td>49</td>\n",
              "      <td>1</td>\n",
              "      <td>0.02</td>\n",
              "      <td>63588.00</td>\n",
              "      <td>7</td>\n",
              "      <td>0</td>\n",
              "      <td>1</td>\n",
              "      <td>0</td>\n",
              "      <td>0.00</td>\n",
              "    </tr>\n",
              "  </tbody>\n",
              "</table>\n",
              "</div>"
            ],
            "text/plain": [
              "   seriousdlqin2yrs  ...  numberofdependents\n",
              "0                 1  ...                2.00\n",
              "1                 0  ...                1.00\n",
              "2                 0  ...                0.00\n",
              "3                 0  ...                0.00\n",
              "4                 0  ...                0.00\n",
              "\n",
              "[5 rows x 11 columns]"
            ]
          },
          "metadata": {
            "tags": []
          },
          "execution_count": 118
        }
      ]
    },
    {
      "cell_type": "code",
      "metadata": {
        "id": "jE-3vpbGtxhV",
        "outputId": "e1762101-70a2-47a3-d40b-af7c613e7792",
        "colab": {
          "base_uri": "https://localhost:8080/",
          "height": 224
        }
      },
      "source": [
        "# Actual replacement of the missing value using median value.\n",
        "training_data_median_replace = training_data.fillna((training_data.median()))\n",
        "training_data_median_replace.head()"
      ],
      "execution_count": 120,
      "outputs": [
        {
          "output_type": "execute_result",
          "data": {
            "text/html": [
              "<div>\n",
              "<style scoped>\n",
              "    .dataframe tbody tr th:only-of-type {\n",
              "        vertical-align: middle;\n",
              "    }\n",
              "\n",
              "    .dataframe tbody tr th {\n",
              "        vertical-align: top;\n",
              "    }\n",
              "\n",
              "    .dataframe thead th {\n",
              "        text-align: right;\n",
              "    }\n",
              "</style>\n",
              "<table border=\"1\" class=\"dataframe\">\n",
              "  <thead>\n",
              "    <tr style=\"text-align: right;\">\n",
              "      <th></th>\n",
              "      <th>seriousdlqin2yrs</th>\n",
              "      <th>revolvingutilizationofunsecuredlines</th>\n",
              "      <th>age</th>\n",
              "      <th>numberoftime3059dayspastduenotworse</th>\n",
              "      <th>debtratio</th>\n",
              "      <th>monthlyincome</th>\n",
              "      <th>numberofopencreditlinesandloans</th>\n",
              "      <th>numberoftimes90dayslate</th>\n",
              "      <th>numberrealestateloansorlines</th>\n",
              "      <th>numberoftime6089dayspastduenotworse</th>\n",
              "      <th>numberofdependents</th>\n",
              "    </tr>\n",
              "  </thead>\n",
              "  <tbody>\n",
              "    <tr>\n",
              "      <th>0</th>\n",
              "      <td>1</td>\n",
              "      <td>0.77</td>\n",
              "      <td>45</td>\n",
              "      <td>2</td>\n",
              "      <td>0.80</td>\n",
              "      <td>9120.00</td>\n",
              "      <td>13</td>\n",
              "      <td>0</td>\n",
              "      <td>6</td>\n",
              "      <td>0</td>\n",
              "      <td>2.00</td>\n",
              "    </tr>\n",
              "    <tr>\n",
              "      <th>1</th>\n",
              "      <td>0</td>\n",
              "      <td>0.96</td>\n",
              "      <td>40</td>\n",
              "      <td>0</td>\n",
              "      <td>0.12</td>\n",
              "      <td>2600.00</td>\n",
              "      <td>4</td>\n",
              "      <td>0</td>\n",
              "      <td>0</td>\n",
              "      <td>0</td>\n",
              "      <td>1.00</td>\n",
              "    </tr>\n",
              "    <tr>\n",
              "      <th>2</th>\n",
              "      <td>0</td>\n",
              "      <td>0.66</td>\n",
              "      <td>38</td>\n",
              "      <td>1</td>\n",
              "      <td>0.09</td>\n",
              "      <td>3042.00</td>\n",
              "      <td>2</td>\n",
              "      <td>1</td>\n",
              "      <td>0</td>\n",
              "      <td>0</td>\n",
              "      <td>0.00</td>\n",
              "    </tr>\n",
              "    <tr>\n",
              "      <th>3</th>\n",
              "      <td>0</td>\n",
              "      <td>0.23</td>\n",
              "      <td>30</td>\n",
              "      <td>0</td>\n",
              "      <td>0.04</td>\n",
              "      <td>3300.00</td>\n",
              "      <td>5</td>\n",
              "      <td>0</td>\n",
              "      <td>0</td>\n",
              "      <td>0</td>\n",
              "      <td>0.00</td>\n",
              "    </tr>\n",
              "    <tr>\n",
              "      <th>4</th>\n",
              "      <td>0</td>\n",
              "      <td>0.91</td>\n",
              "      <td>49</td>\n",
              "      <td>1</td>\n",
              "      <td>0.02</td>\n",
              "      <td>63588.00</td>\n",
              "      <td>7</td>\n",
              "      <td>0</td>\n",
              "      <td>1</td>\n",
              "      <td>0</td>\n",
              "      <td>0.00</td>\n",
              "    </tr>\n",
              "  </tbody>\n",
              "</table>\n",
              "</div>"
            ],
            "text/plain": [
              "   seriousdlqin2yrs  ...  numberofdependents\n",
              "0                 1  ...                2.00\n",
              "1                 0  ...                1.00\n",
              "2                 0  ...                0.00\n",
              "3                 0  ...                0.00\n",
              "4                 0  ...                0.00\n",
              "\n",
              "[5 rows x 11 columns]"
            ]
          },
          "metadata": {
            "tags": []
          },
          "execution_count": 120
        }
      ]
    },
    {
      "cell_type": "code",
      "metadata": {
        "id": "AjxTcr2Xtxft",
        "outputId": "9ae2b3ae-07a7-4da1-d569-ce66b732e554",
        "colab": {
          "base_uri": "https://localhost:8080/",
          "height": 379
        }
      },
      "source": [
        "# Correlation \n",
        "training_data.fillna((training_data.median()), inplace=True)\n",
        "# Get the correlation of the training dataset\n",
        "training_data[training_data.columns[1:]].corr()"
      ],
      "execution_count": 123,
      "outputs": [
        {
          "output_type": "execute_result",
          "data": {
            "text/html": [
              "<div>\n",
              "<style scoped>\n",
              "    .dataframe tbody tr th:only-of-type {\n",
              "        vertical-align: middle;\n",
              "    }\n",
              "\n",
              "    .dataframe tbody tr th {\n",
              "        vertical-align: top;\n",
              "    }\n",
              "\n",
              "    .dataframe thead th {\n",
              "        text-align: right;\n",
              "    }\n",
              "</style>\n",
              "<table border=\"1\" class=\"dataframe\">\n",
              "  <thead>\n",
              "    <tr style=\"text-align: right;\">\n",
              "      <th></th>\n",
              "      <th>revolvingutilizationofunsecuredlines</th>\n",
              "      <th>age</th>\n",
              "      <th>numberoftime3059dayspastduenotworse</th>\n",
              "      <th>debtratio</th>\n",
              "      <th>monthlyincome</th>\n",
              "      <th>numberofopencreditlinesandloans</th>\n",
              "      <th>numberoftimes90dayslate</th>\n",
              "      <th>numberrealestateloansorlines</th>\n",
              "      <th>numberoftime6089dayspastduenotworse</th>\n",
              "      <th>numberofdependents</th>\n",
              "    </tr>\n",
              "  </thead>\n",
              "  <tbody>\n",
              "    <tr>\n",
              "      <th>revolvingutilizationofunsecuredlines</th>\n",
              "      <td>1.00</td>\n",
              "      <td>-0.01</td>\n",
              "      <td>-0.00</td>\n",
              "      <td>0.00</td>\n",
              "      <td>0.01</td>\n",
              "      <td>-0.01</td>\n",
              "      <td>-0.00</td>\n",
              "      <td>0.01</td>\n",
              "      <td>-0.00</td>\n",
              "      <td>0.00</td>\n",
              "    </tr>\n",
              "    <tr>\n",
              "      <th>age</th>\n",
              "      <td>-0.01</td>\n",
              "      <td>1.00</td>\n",
              "      <td>-0.06</td>\n",
              "      <td>0.02</td>\n",
              "      <td>0.03</td>\n",
              "      <td>0.15</td>\n",
              "      <td>-0.06</td>\n",
              "      <td>0.03</td>\n",
              "      <td>-0.06</td>\n",
              "      <td>-0.22</td>\n",
              "    </tr>\n",
              "    <tr>\n",
              "      <th>numberoftime3059dayspastduenotworse</th>\n",
              "      <td>-0.00</td>\n",
              "      <td>-0.06</td>\n",
              "      <td>1.00</td>\n",
              "      <td>-0.01</td>\n",
              "      <td>-0.01</td>\n",
              "      <td>-0.06</td>\n",
              "      <td>0.98</td>\n",
              "      <td>-0.03</td>\n",
              "      <td>0.99</td>\n",
              "      <td>-0.00</td>\n",
              "    </tr>\n",
              "    <tr>\n",
              "      <th>debtratio</th>\n",
              "      <td>0.00</td>\n",
              "      <td>0.02</td>\n",
              "      <td>-0.01</td>\n",
              "      <td>1.00</td>\n",
              "      <td>-0.02</td>\n",
              "      <td>0.05</td>\n",
              "      <td>-0.01</td>\n",
              "      <td>0.12</td>\n",
              "      <td>-0.01</td>\n",
              "      <td>-0.04</td>\n",
              "    </tr>\n",
              "    <tr>\n",
              "      <th>monthlyincome</th>\n",
              "      <td>0.01</td>\n",
              "      <td>0.03</td>\n",
              "      <td>-0.01</td>\n",
              "      <td>-0.02</td>\n",
              "      <td>1.00</td>\n",
              "      <td>0.09</td>\n",
              "      <td>-0.01</td>\n",
              "      <td>0.12</td>\n",
              "      <td>-0.01</td>\n",
              "      <td>0.07</td>\n",
              "    </tr>\n",
              "    <tr>\n",
              "      <th>numberofopencreditlinesandloans</th>\n",
              "      <td>-0.01</td>\n",
              "      <td>0.15</td>\n",
              "      <td>-0.06</td>\n",
              "      <td>0.05</td>\n",
              "      <td>0.09</td>\n",
              "      <td>1.00</td>\n",
              "      <td>-0.08</td>\n",
              "      <td>0.43</td>\n",
              "      <td>-0.07</td>\n",
              "      <td>0.07</td>\n",
              "    </tr>\n",
              "    <tr>\n",
              "      <th>numberoftimes90dayslate</th>\n",
              "      <td>-0.00</td>\n",
              "      <td>-0.06</td>\n",
              "      <td>0.98</td>\n",
              "      <td>-0.01</td>\n",
              "      <td>-0.01</td>\n",
              "      <td>-0.08</td>\n",
              "      <td>1.00</td>\n",
              "      <td>-0.05</td>\n",
              "      <td>0.99</td>\n",
              "      <td>-0.01</td>\n",
              "    </tr>\n",
              "    <tr>\n",
              "      <th>numberrealestateloansorlines</th>\n",
              "      <td>0.01</td>\n",
              "      <td>0.03</td>\n",
              "      <td>-0.03</td>\n",
              "      <td>0.12</td>\n",
              "      <td>0.12</td>\n",
              "      <td>0.43</td>\n",
              "      <td>-0.05</td>\n",
              "      <td>1.00</td>\n",
              "      <td>-0.04</td>\n",
              "      <td>0.13</td>\n",
              "    </tr>\n",
              "    <tr>\n",
              "      <th>numberoftime6089dayspastduenotworse</th>\n",
              "      <td>-0.00</td>\n",
              "      <td>-0.06</td>\n",
              "      <td>0.99</td>\n",
              "      <td>-0.01</td>\n",
              "      <td>-0.01</td>\n",
              "      <td>-0.07</td>\n",
              "      <td>0.99</td>\n",
              "      <td>-0.04</td>\n",
              "      <td>1.00</td>\n",
              "      <td>-0.01</td>\n",
              "    </tr>\n",
              "    <tr>\n",
              "      <th>numberofdependents</th>\n",
              "      <td>0.00</td>\n",
              "      <td>-0.22</td>\n",
              "      <td>-0.00</td>\n",
              "      <td>-0.04</td>\n",
              "      <td>0.07</td>\n",
              "      <td>0.07</td>\n",
              "      <td>-0.01</td>\n",
              "      <td>0.13</td>\n",
              "      <td>-0.01</td>\n",
              "      <td>1.00</td>\n",
              "    </tr>\n",
              "  </tbody>\n",
              "</table>\n",
              "</div>"
            ],
            "text/plain": [
              "                                      revolvingutilizationofunsecuredlines  ...  numberofdependents\n",
              "revolvingutilizationofunsecuredlines                                  1.00  ...                0.00\n",
              "age                                                                  -0.01  ...               -0.22\n",
              "numberoftime3059dayspastduenotworse                                  -0.00  ...               -0.00\n",
              "debtratio                                                             0.00  ...               -0.04\n",
              "monthlyincome                                                         0.01  ...                0.07\n",
              "numberofopencreditlinesandloans                                      -0.01  ...                0.07\n",
              "numberoftimes90dayslate                                              -0.00  ...               -0.01\n",
              "numberrealestateloansorlines                                          0.01  ...                0.13\n",
              "numberoftime6089dayspastduenotworse                                  -0.00  ...               -0.01\n",
              "numberofdependents                                                    0.00  ...                1.00\n",
              "\n",
              "[10 rows x 10 columns]"
            ]
          },
          "metadata": {
            "tags": []
          },
          "execution_count": 123
        }
      ]
    },
    {
      "cell_type": "code",
      "metadata": {
        "id": "cQeMUnMqtxdn",
        "outputId": "38e46ae6-1550-4378-bc9b-77e0a56c6d85",
        "colab": {
          "base_uri": "https://localhost:8080/",
          "height": 490
        }
      },
      "source": [
        "sns.set()\n",
        "sns.heatmap(training_data[training_data.columns[1:]].corr(),annot=True,fmt=\".1f\",\n",
        "            cmap=(sns.cubehelix_palette(8, start=.5, rot=-.75)))\n",
        "plt.show()"
      ],
      "execution_count": 124,
      "outputs": [
        {
          "output_type": "display_data",
          "data": {
            "image/png": "[encoded data removed]",
            "text/plain": [
              "<Figure size 432x288 with 2 Axes>"
            ]
          },
          "metadata": {
            "tags": []
          }
        }
      ]
    },
    {
      "cell_type": "code",
      "metadata": {
        "id": "_Y1OgoxCtxbL"
      },
      "source": [
        "# OUTLIER DETECTION "
      ],
      "execution_count": null,
      "outputs": []
    },
    {
      "cell_type": "code",
      "metadata": {
        "id": "1YYG01ghtxW9"
      },
      "source": [
        "# Percentile based outlier detection\n",
        "def percentile_based_outlier(data, threshold=95):\n",
        "    diff = (100 - threshold) / 2.0\n",
        "    (minval, maxval) = np.percentile(data, [diff, 100 - diff])\n",
        "    return ((data < minval) | (data > maxval))\n",
        "\n",
        "# Another percentile based outlier detection method which is based on inter quertile(IQR) range\n",
        "# import numpy as np\n",
        "# def outliers_iqr(ys):\n",
        "#     quartile_1, quartile_3 = np.percentile(ys, [25, 75])\n",
        "#     iqr = quartile_3 - quartile_1\n",
        "#     lower_bound = quartile_1 - (iqr * 1.5)\n",
        "#     upper_bound = quartile_3 + (iqr * 1.5)\n",
        "#     return np.where((ys > upper_bound) | (ys < lower_bound))"
      ],
      "execution_count": 125,
      "outputs": []
    },
    {
      "cell_type": "code",
      "metadata": {
        "id": "4E4rwU4ltxVK",
        "outputId": "9d3170d8-f70b-4859-9b0e-279ad5e57dfb",
        "colab": {
          "base_uri": "https://localhost:8080/",
          "height": 1000
        }
      },
      "source": [
        "def mad_based_outlier(points, thresh=3.5):\n",
        "    if len(points.shape) == 1:\n",
        "        points = points[:,None]\n",
        "    median_y = np.median(points, axis=0)\n",
        "    median_absolute_deviation_y = np.median([np.abs(y - median_y) for y in points])\n",
        "    modified_z_scores = [0.6745 * (y - median_y) / median_absolute_deviation_y\n",
        "                         for y in points]\n",
        "\n",
        "    return modified_z_scores\n",
        "mad_based_outlier(points=training_data.revolvingutilizationofunsecuredlines)"
      ],
      "execution_count": 127,
      "outputs": [
        {
          "output_type": "execute_result",
          "data": {
            "text/plain": [
              "[array([2.78278459]),\n",
              " array([3.65145584]),\n",
              " array([2.29190495]),\n",
              " array([0.36210795]),\n",
              " array([3.42448596]),\n",
              " array([0.26828937]),\n",
              " array([0.68894439]),\n",
              " array([2.72974803]),\n",
              " array([-0.16930146]),\n",
              " array([0.15910712]),\n",
              " array([2.22844922]),\n",
              " array([-0.61564377]),\n",
              " array([-0.6540526]),\n",
              " array([3.68565955]),\n",
              " array([-0.61173997]),\n",
              " array([1.79295084]),\n",
              " array([-0.42334181]),\n",
              " array([0.05503917]),\n",
              " array([0.30755234]),\n",
              " array([2.0400419]),\n",
              " array([0.21255918]),\n",
              " array([-0.58445947]),\n",
              " array([3.84630838]),\n",
              " array([-0.35812946]),\n",
              " array([-0.48939717]),\n",
              " array([1.0825978]),\n",
              " array([-0.46267724]),\n",
              " array([-0.54459757]),\n",
              " array([1.35665969]),\n",
              " array([1.08599066]),\n",
              " array([2.50060425]),\n",
              " array([3.84630838]),\n",
              " array([-0.32178897]),\n",
              " array([0.14864576]),\n",
              " array([2.45174523]),\n",
              " array([-0.70112701]),\n",
              " array([3.30896727]),\n",
              " array([3.84630838]),\n",
              " array([0.95248603]),\n",
              " array([0.68352477]),\n",
              " array([2.57296]),\n",
              " array([-0.36962999]),\n",
              " array([1.43187889]),\n",
              " array([2.56713959]),\n",
              " array([0.97631263]),\n",
              " array([-0.69838617]),\n",
              " array([-0.42173195]),\n",
              " array([-0.06398289]),\n",
              " array([3.09165289]),\n",
              " array([-0.70076503]),\n",
              " array([3.02312071]),\n",
              " array([2.61009063]),\n",
              " array([3.84630838]),\n",
              " array([-0.57124148]),\n",
              " array([3.81000196]),\n",
              " array([-0.37892404]),\n",
              " array([1.36782859]),\n",
              " array([1.12330326]),\n",
              " array([1.75953056]),\n",
              " array([2.28003526]),\n",
              " array([2.26199789]),\n",
              " array([-0.57652953]),\n",
              " array([-0.2411274]),\n",
              " array([-0.65661279]),\n",
              " array([0.83372673]),\n",
              " array([-0.70112701]),\n",
              " array([2.71342284]),\n",
              " array([-0.67020857]),\n",
              " array([-0.68173638]),\n",
              " array([0.52433305]),\n",
              " array([0.50802886]),\n",
              " array([-0.05533195]),\n",
              " array([3.06282292]),\n",
              " array([-0.42978665]),\n",
              " array([-0.09603251]),\n",
              " array([0.36396483]),\n",
              " array([-0.1449941]),\n",
              " array([1.39240476]),\n",
              " array([0.82480409]),\n",
              " array([0.52905702]),\n",
              " array([0.13249377]),\n",
              " array([-0.36069834]),\n",
              " array([-0.62264292]),\n",
              " array([-0.45330509]),\n",
              " array([-0.56850452]),\n",
              " array([-0.70112701]),\n",
              " array([0.93826741]),\n",
              " array([-0.68407554]),\n",
              " array([2.63886231]),\n",
              " array([-0.33476662]),\n",
              " array([-0.52201358]),\n",
              " array([-0.59304613]),\n",
              " array([2.86786279]),\n",
              " array([3.34073509]),\n",
              " array([2.89668431]),\n",
              " array([0.41460006]),\n",
              " array([1.7646869]),\n",
              " array([-0.65323624]),\n",
              " array([0.95050026]),\n",
              " array([-0.55279885]),\n",
              " array([-0.64189814]),\n",
              " array([-0.61296233]),\n",
              " array([2.18415308]),\n",
              " array([3.3370352]),\n",
              " array([-0.68698972]),\n",
              " array([-0.17894067]),\n",
              " array([-0.61524054]),\n",
              " array([2.18838265]),\n",
              " array([3.84630838]),\n",
              " array([-0.51350932]),\n",
              " array([-0.26122099]),\n",
              " array([0.74698643]),\n",
              " array([0.1491868]),\n",
              " array([-0.67137836]),\n",
              " array([0.12183237]),\n",
              " array([-0.66698645]),\n",
              " array([-0.39232401]),\n",
              " array([-0.5489617]),\n",
              " array([-0.6669276]),\n",
              " array([-0.63167947]),\n",
              " array([1.65044629]),\n",
              " array([0.74484752]),\n",
              " array([0.65216553]),\n",
              " array([1.32174372]),\n",
              " array([0.56286316]),\n",
              " array([-0.68420139]),\n",
              " array([-0.70112701]),\n",
              " array([-0.70112701]),\n",
              " array([-0.01031444]),\n",
              " array([-0.70112701]),\n",
              " array([0.09798295]),\n",
              " array([-0.64883803]),\n",
              " array([-0.70112701]),\n",
              " array([0.04027551]),\n",
              " array([-0.48598063]),\n",
              " array([-0.31968808]),\n",
              " array([-0.29422996]),\n",
              " array([2.81640203]),\n",
              " array([-0.27383959]),\n",
              " array([0.29726444]),\n",
              " array([-0.02812354]),\n",
              " array([1.92055415]),\n",
              " array([0.40786536]),\n",
              " array([0.9472449]),\n",
              " array([-0.17054679]),\n",
              " array([3.84630838]),\n",
              " array([1.55854764]),\n",
              " array([-0.10585808]),\n",
              " array([1.78631499]),\n",
              " array([-0.37245149]),\n",
              " array([-0.70112701]),\n",
              " array([0.09891256]),\n",
              " array([-0.47016346]),\n",
              " array([-0.70112701]),\n",
              " array([0.26684159]),\n",
              " array([-0.64345476]),\n",
              " array([-0.14835407]),\n",
              " array([-0.51561274]),\n",
              " array([-0.02941515]),\n",
              " array([-0.70112701]),\n",
              " array([-0.70112701]),\n",
              " array([-0.37929629]),\n",
              " array([4.05676009]),\n",
              " array([0.77096803]),\n",
              " array([0.95685796]),\n",
              " array([2.19893838]),\n",
              " array([-0.33105747]),\n",
              " array([-0.6057837]),\n",
              " array([0.07240548]),\n",
              " array([2.80879148]),\n",
              " array([-0.44927905]),\n",
              " array([3.84630838]),\n",
              " array([0.05616994]),\n",
              " array([-0.66187338]),\n",
              " array([-0.08595207]),\n",
              " array([0.06089313]),\n",
              " array([3.84630838]),\n",
              " array([-0.3903773]),\n",
              " array([-0.70112701]),\n",
              " array([3.60513046]),\n",
              " array([1.14142111]),\n",
              " array([-0.44852007]),\n",
              " array([2.37382845]),\n",
              " array([0.14008854]),\n",
              " array([-0.3130566]),\n",
              " array([-0.70112701]),\n",
              " array([2.87536492]),\n",
              " array([-0.65015207]),\n",
              " array([-0.52680329]),\n",
              " array([2.5501993]),\n",
              " array([-0.50544156]),\n",
              " array([4.2786943]),\n",
              " array([-0.70112701]),\n",
              " array([3.84630838]),\n",
              " array([-0.23987998]),\n",
              " array([-0.58338267]),\n",
              " array([2.76474015]),\n",
              " array([0.35247871]),\n",
              " array([-0.17876533]),\n",
              " array([-0.5397392]),\n",
              " array([-0.4945649]),\n",
              " array([0.71746683]),\n",
              " array([-0.34306684]),\n",
              " array([-0.07535681]),\n",
              " array([-0.56391706]),\n",
              " array([-0.60118176]),\n",
              " array([1.31655596]),\n",
              " array([-0.66699035]),\n",
              " array([-0.48903311]),\n",
              " array([0.62838839]),\n",
              " array([0.24511599]),\n",
              " array([3.84630838]),\n",
              " array([-0.63973288]),\n",
              " array([3.84630838]),\n",
              " array([2.27888261]),\n",
              " array([3.84630838]),\n",
              " array([-0.57328059]),\n",
              " array([0.3115697]),\n",
              " array([1.99998278]),\n",
              " array([-0.62150969]),\n",
              " array([2.08129291]),\n",
              " array([0.81344484]),\n",
              " array([-0.66008559]),\n",
              " array([0.48244104]),\n",
              " array([1.37227995]),\n",
              " array([-0.33602204]),\n",
              " array([8.18223604]),\n",
              " array([0.12449327]),\n",
              " array([-0.03209222]),\n",
              " array([-0.58470459]),\n",
              " array([-0.70112701]),\n",
              " array([0.1918657]),\n",
              " array([-0.31939141]),\n",
              " array([-0.54272576]),\n",
              " array([2.88007937]),\n",
              " array([-0.70112701]),\n",
              " array([-0.13074599]),\n",
              " array([-0.42657616]),\n",
              " array([3.84630838]),\n",
              " array([0.64458773]),\n",
              " array([3.72507082]),\n",
              " array([-0.68813619]),\n",
              " array([3.28954306]),\n",
              " array([3.84630838]),\n",
              " array([-0.45815046]),\n",
              " array([2.63060037]),\n",
              " array([-0.31813988]),\n",
              " array([-0.18016458]),\n",
              " array([-0.6458711]),\n",
              " array([-0.33137165]),\n",
              " array([-0.25496421]),\n",
              " array([4.06554455]),\n",
              " array([-0.6470858]),\n",
              " array([2.72149817]),\n",
              " array([-0.19035315]),\n",
              " array([-0.70112701]),\n",
              " array([2.18343458]),\n",
              " array([0.00719633]),\n",
              " array([-0.70112701]),\n",
              " array([-0.28906162]),\n",
              " array([-0.54358059]),\n",
              " array([-0.57631634]),\n",
              " array([1.17422927]),\n",
              " array([-0.58893821]),\n",
              " array([-0.48871191]),\n",
              " array([3.73958881]),\n",
              " array([-0.66482655]),\n",
              " array([0.51550005]),\n",
              " array([-0.61118179]),\n",
              " array([-0.65382365]),\n",
              " array([3.84630838]),\n",
              " array([-0.56553854]),\n",
              " array([0.12520453]),\n",
              " array([-0.46753179]),\n",
              " array([0.62965899]),\n",
              " array([0.30305469]),\n",
              " array([-0.66429352]),\n",
              " array([-0.70112701]),\n",
              " array([-0.67338857]),\n",
              " array([3.43494187]),\n",
              " array([3.57833985]),\n",
              " array([3.80841606]),\n",
              " array([2.44337221]),\n",
              " array([-0.18792496]),\n",
              " array([0.48562202]),\n",
              " array([-0.48173827]),\n",
              " array([3.84630838]),\n",
              " array([3.84630838]),\n",
              " array([-0.36345091]),\n",
              " array([-0.04230174]),\n",
              " array([0.16744202]),\n",
              " array([0.29650256]),\n",
              " array([2.39028253]),\n",
              " array([10640.2987555]),\n",
              " array([0.98995252]),\n",
              " array([-0.58354665]),\n",
              " array([1.79035751]),\n",
              " array([0.53426933]),\n",
              " array([-0.31390159]),\n",
              " array([3.37884802]),\n",
              " array([0.4761939]),\n",
              " array([-0.70112701]),\n",
              " array([-0.53768987]),\n",
              " array([3.84630838]),\n",
              " array([1.41451675]),\n",
              " array([3.23432879]),\n",
              " array([2.46576039]),\n",
              " array([1.77494116]),\n",
              " array([-0.33170068]),\n",
              " array([3.613311]),\n",
              " array([-0.70112701]),\n",
              " array([-0.62564461]),\n",
              " array([-0.41313988]),\n",
              " array([-0.27531203]),\n",
              " array([-0.70112701]),\n",
              " array([2.61973787]),\n",
              " array([1.2377684]),\n",
              " array([3.61429179]),\n",
              " array([-0.70112701]),\n",
              " array([3.8583444]),\n",
              " array([-0.62619391]),\n",
              " array([-0.50737513]),\n",
              " array([-0.59703346]),\n",
              " array([0.58953527]),\n",
              " array([0.75304958]),\n",
              " array([0.00481932]),\n",
              " array([-0.64148656]),\n",
              " array([-0.39527007]),\n",
              " array([0.59141866]),\n",
              " array([2.60740551]),\n",
              " array([2.42650431]),\n",
              " array([3.84630838]),\n",
              " array([-0.54783817]),\n",
              " array([-0.70112701]),\n",
              " array([-0.5319729]),\n",
              " array([-0.70112701]),\n",
              " array([-0.45743319]),\n",
              " array([-0.24286776]),\n",
              " array([-0.70112701]),\n",
              " array([1.11760483]),\n",
              " array([-0.46169009]),\n",
              " array([-0.37226274]),\n",
              " array([0.22636617]),\n",
              " array([3.84630838]),\n",
              " array([3.30230312]),\n",
              " array([1.25084285]),\n",
              " array([-0.70112701]),\n",
              " array([-0.47589613]),\n",
              " array([0.94007702]),\n",
              " array([0.82561754]),\n",
              " array([2.18977281]),\n",
              " array([-0.70112701]),\n",
              " array([1.6088461]),\n",
              " array([0.41682219]),\n",
              " array([3.63414231]),\n",
              " array([3.84630838]),\n",
              " array([-0.16064681]),\n",
              " array([2.16409402]),\n",
              " array([3.84630838]),\n",
              " array([-0.57187412]),\n",
              " array([-0.04889801]),\n",
              " array([0.14780096]),\n",
              " array([1.55616822]),\n",
              " array([1.37944603]),\n",
              " array([2.61039817]),\n",
              " array([3.60649915]),\n",
              " array([-0.6378407]),\n",
              " array([-0.39941693]),\n",
              " array([1.58604262]),\n",
              " array([4.06229342]),\n",
              " array([-0.64389137]),\n",
              " array([1.77015724]),\n",
              " array([-0.58025479]),\n",
              " array([-0.32679414]),\n",
              " array([0.62918666]),\n",
              " array([-0.59089502]),\n",
              " array([-0.48444123]),\n",
              " array([2.66009423]),\n",
              " array([0.14874625]),\n",
              " array([-0.66701243]),\n",
              " array([1.67406524]),\n",
              " array([3.84630838]),\n",
              " array([1.89820818]),\n",
              " array([3.40626059]),\n",
              " array([-0.62362271]),\n",
              " array([-0.42494579]),\n",
              " array([-0.69847746]),\n",
              " array([-0.68341618]),\n",
              " array([0.43576999]),\n",
              " array([1.41949769]),\n",
              " array([-0.18004297]),\n",
              " array([3.84630838]),\n",
              " array([0.51715658]),\n",
              " array([-0.56609381]),\n",
              " array([0.68696103]),\n",
              " array([-0.69800895]),\n",
              " array([2.49341877]),\n",
              " array([2.67505326]),\n",
              " array([2.94781363]),\n",
              " array([3.84630838]),\n",
              " array([-0.09089971]),\n",
              " array([-0.68950286]),\n",
              " array([-0.29710754]),\n",
              " array([0.22631326]),\n",
              " array([-0.67081336]),\n",
              " array([-0.63723713]),\n",
              " array([3.84630838]),\n",
              " array([0.9762703]),\n",
              " array([-0.45304931]),\n",
              " array([0.11508209]),\n",
              " array([-0.5788651]),\n",
              " array([0.50715037]),\n",
              " array([-0.70112701]),\n",
              " array([-0.64724904]),\n",
              " array([-0.37899798]),\n",
              " array([-0.56017435]),\n",
              " array([-0.04213984]),\n",
              " array([0.90419815]),\n",
              " array([-0.60983877]),\n",
              " array([-0.55211118]),\n",
              " array([2.63617005]),\n",
              " array([-0.41229925]),\n",
              " array([-0.55755487]),\n",
              " array([3.80766529]),\n",
              " array([1.10740179]),\n",
              " array([3.71603586]),\n",
              " array([3.84630838]),\n",
              " array([-0.70112701]),\n",
              " array([3.84630838]),\n",
              " array([-0.68361161]),\n",
              " array([-0.65161468]),\n",
              " array([2.41879148]),\n",
              " array([0.2650416]),\n",
              " array([-0.66949342]),\n",
              " array([-0.36801936]),\n",
              " array([1.26292899]),\n",
              " array([-0.66929695]),\n",
              " array([-0.63605124]),\n",
              " array([-0.57859869]),\n",
              " array([0.64989163]),\n",
              " array([0.73615724]),\n",
              " array([-0.70112701]),\n",
              " array([3.4946561]),\n",
              " array([-0.46885328]),\n",
              " array([0.75037275]),\n",
              " array([-0.66139446]),\n",
              " array([-0.70112701]),\n",
              " array([0.40696608]),\n",
              " array([3.84630838]),\n",
              " array([-0.70112701]),\n",
              " array([-0.56965743]),\n",
              " array([-0.54542904]),\n",
              " array([1.58759445]),\n",
              " array([2.93673833]),\n",
              " array([-0.38286137]),\n",
              " array([-0.39235005]),\n",
              " array([2.66686387]),\n",
              " array([-0.59479457]),\n",
              " array([3.84630838]),\n",
              " array([-0.68464166]),\n",
              " array([-0.28145499]),\n",
              " array([-0.70112701]),\n",
              " array([3.84630838]),\n",
              " array([-0.43797751]),\n",
              " array([-0.34607563]),\n",
              " array([0.21719875]),\n",
              " array([-0.34661385]),\n",
              " array([0.23417361]),\n",
              " array([3.84630838]),\n",
              " array([1.93570749]),\n",
              " array([-0.36737497]),\n",
              " array([-0.34106914]),\n",
              " array([-0.36860408]),\n",
              " array([2.68750144]),\n",
              " array([-0.24236663]),\n",
              " array([0.87985833]),\n",
              " array([-0.23714527]),\n",
              " array([0.90923823]),\n",
              " array([-0.56632603]),\n",
              " array([1.75541763]),\n",
              " array([2.21344864]),\n",
              " array([-0.43614154]),\n",
              " array([2.56986981]),\n",
              " array([-0.49641344]),\n",
              " array([0.9174336]),\n",
              " array([1.9255713]),\n",
              " array([-0.63266859]),\n",
              " array([0.7567529]),\n",
              " array([-0.4847268]),\n",
              " array([0.08752755]),\n",
              " array([1.12598294]),\n",
              " array([0.6683444]),\n",
              " array([-0.70112701]),\n",
              " array([-0.39411786]),\n",
              " array([-0.70112701]),\n",
              " array([3.8160027]),\n",
              " array([-0.06997209]),\n",
              " array([0.17918745]),\n",
              " array([-0.69601179]),\n",
              " array([1.50691888]),\n",
              " array([3.75318442]),\n",
              " array([-0.28894058]),\n",
              " array([1.04876127]),\n",
              " array([0.13412852]),\n",
              " array([-0.61870625]),\n",
              " array([3.84630838]),\n",
              " array([0.61908671]),\n",
              " array([-0.46392698]),\n",
              " array([3.84630838]),\n",
              " array([3.84630838]),\n",
              " array([1.17540742]),\n",
              " array([-0.28639498]),\n",
              " array([1.57365743]),\n",
              " array([3.45132082]),\n",
              " array([-0.44469707]),\n",
              " array([2.07912348]),\n",
              " array([-0.40267474]),\n",
              " array([1.57107611]),\n",
              " array([3.84630838]),\n",
              " array([0.6152217]),\n",
              " array([3.0011884]),\n",
              " array([-0.62651736]),\n",
              " array([-0.3441652]),\n",
              " array([-0.56610259]),\n",
              " array([-0.64401635]),\n",
              " array([-0.41876186]),\n",
              " array([-0.36370248]),\n",
              " array([1.80855673]),\n",
              " array([2.20949808]),\n",
              " array([1.9446429]),\n",
              " array([-0.70112701]),\n",
              " array([-0.70112701]),\n",
              " array([0.71798581]),\n",
              " array([0.51017884]),\n",
              " array([-0.51838167]),\n",
              " array([2.70764132]),\n",
              " array([3.64415664]),\n",
              " array([-0.30715805]),\n",
              " array([0.26642388]),\n",
              " array([3.63892621]),\n",
              " array([0.15495563]),\n",
              " array([4.9642831]),\n",
              " array([-0.63723605]),\n",
              " array([0.79775258]),\n",
              " array([1.50028662]),\n",
              " array([-0.70112701]),\n",
              " array([-0.5414494]),\n",
              " array([-0.31538172]),\n",
              " array([3.84630838]),\n",
              " array([-0.00877633]),\n",
              " array([0.2669566]),\n",
              " array([3.84630838]),\n",
              " array([3.84630838]),\n",
              " array([-0.70112701]),\n",
              " array([1.91949081]),\n",
              " array([1.15520898]),\n",
              " array([-0.70112701]),\n",
              " array([-0.21546027]),\n",
              " array([-0.68042254]),\n",
              " array([0.56049598]),\n",
              " array([0.59644986]),\n",
              " array([0.03590863]),\n",
              " array([1.89426839]),\n",
              " array([2.12976423]),\n",
              " array([-0.18651615]),\n",
              " array([-0.70112701]),\n",
              " array([2.63083023]),\n",
              " array([1.51188872]),\n",
              " array([1.95841639]),\n",
              " array([3.27988322]),\n",
              " array([-0.50166844]),\n",
              " array([-0.52243065]),\n",
              " array([0.84274368]),\n",
              " array([-0.40629312]),\n",
              " array([-0.66163444]),\n",
              " array([3.84630838]),\n",
              " array([1.58890705]),\n",
              " array([-0.69972164]),\n",
              " array([2.47213144]),\n",
              " array([2.2566753]),\n",
              " array([0.67439053]),\n",
              " array([3.84630838]),\n",
              " array([0.02244391]),\n",
              " array([2.79374656]),\n",
              " array([0.00665609]),\n",
              " array([3.10186635]),\n",
              " array([0.63146183]),\n",
              " array([3.84630838]),\n",
              " array([0.53531283]),\n",
              " array([-0.70112701]),\n",
              " array([0.6265253]),\n",
              " array([-0.21668202]),\n",
              " array([0.43945319]),\n",
              " array([0.12459615]),\n",
              " array([-0.68764597]),\n",
              " array([-0.47870683]),\n",
              " array([1.65010361]),\n",
              " array([-0.59153177]),\n",
              " array([-0.14190009]),\n",
              " array([1.05903069]),\n",
              " array([-0.60225812]),\n",
              " array([0.52330415]),\n",
              " array([3.82949083]),\n",
              " array([-0.6140256]),\n",
              " array([-0.66172116]),\n",
              " array([0.00710071]),\n",
              " array([2.63630155]),\n",
              " array([0.25584716]),\n",
              " array([-0.26623395]),\n",
              " array([-0.13360076]),\n",
              " array([-0.6238425]),\n",
              " array([3.68277421]),\n",
              " array([0.25932089]),\n",
              " array([0.13776811]),\n",
              " array([-0.70112701]),\n",
              " array([-0.30729468]),\n",
              " array([-0.3870366]),\n",
              " array([0.14965548]),\n",
              " array([2.62851542]),\n",
              " array([1.08210954]),\n",
              " array([-0.41150649]),\n",
              " array([2.10456075]),\n",
              " array([0.61099641]),\n",
              " array([0.30434198]),\n",
              " array([0.17931466]),\n",
              " array([-0.63545666]),\n",
              " array([1.71794211]),\n",
              " array([0.87665308]),\n",
              " array([-0.59059779]),\n",
              " array([3.84630838]),\n",
              " array([-0.70112701]),\n",
              " array([2.29354171]),\n",
              " array([-0.22503884]),\n",
              " array([-0.48857964]),\n",
              " array([-0.43788572]),\n",
              " array([3.3150887]),\n",
              " array([-0.6769053]),\n",
              " array([-0.29727112]),\n",
              " array([-0.60417665]),\n",
              " array([0.5807059]),\n",
              " array([-0.41435451]),\n",
              " array([-0.70112701]),\n",
              " array([1.12851444]),\n",
              " array([-0.0494027]),\n",
              " array([0.81906099]),\n",
              " array([-0.65406048]),\n",
              " array([0.82952238]),\n",
              " array([-0.4972067]),\n",
              " array([-0.66605555]),\n",
              " array([3.89784399]),\n",
              " array([-0.39745443]),\n",
              " array([-0.70112701]),\n",
              " array([-0.70112701]),\n",
              " array([0.72988604]),\n",
              " array([-0.02212931]),\n",
              " array([-0.70112701]),\n",
              " array([-0.52900786]),\n",
              " array([0.57722796]),\n",
              " array([-0.67749778]),\n",
              " array([-0.09318546]),\n",
              " array([0.76068191]),\n",
              " array([-0.70112701]),\n",
              " array([3.06028916]),\n",
              " array([1.31246975]),\n",
              " array([-0.58706773]),\n",
              " array([1.93115333]),\n",
              " array([-0.60697914]),\n",
              " array([4.97748918]),\n",
              " array([3.84630838]),\n",
              " array([1.89011204]),\n",
              " array([3.45917255]),\n",
              " array([-0.52714939]),\n",
              " array([3.68515441]),\n",
              " array([-0.57692358]),\n",
              " array([-0.53921287]),\n",
              " array([-0.68023096]),\n",
              " array([-0.50770601]),\n",
              " array([-0.14922582]),\n",
              " array([0.11814878]),\n",
              " array([-0.45129043]),\n",
              " array([-0.24763738]),\n",
              " array([-0.56237018]),\n",
              " array([0.09664944]),\n",
              " array([-0.61070987]),\n",
              " array([3.80431066]),\n",
              " array([1.05456527]),\n",
              " array([-0.66344047]),\n",
              " array([-0.43424804]),\n",
              " array([-0.28682507]),\n",
              " array([-0.59601606]),\n",
              " array([-0.32174955]),\n",
              " array([1.70633903]),\n",
              " array([0.17526488]),\n",
              " array([3.84630838]),\n",
              " array([0.93327638]),\n",
              " array([-0.21674652]),\n",
              " array([-0.33943115]),\n",
              " array([9394.30133336]),\n",
              " array([-0.64474444]),\n",
              " array([3.84630838]),\n",
              " array([-0.68321605]),\n",
              " array([1.66544342]),\n",
              " array([0.03055192]),\n",
              " array([0.44712492]),\n",
              " array([-0.53891881]),\n",
              " array([-0.48854558]),\n",
              " array([-0.65729158]),\n",
              " array([3.78446548]),\n",
              " array([-0.28098006]),\n",
              " array([-0.69649048]),\n",
              " array([-0.70112701]),\n",
              " array([-0.49414264]),\n",
              " array([0.41638112]),\n",
              " array([0.6274486]),\n",
              " array([3.84630838]),\n",
              " array([-0.62772015]),\n",
              " array([2.75168001]),\n",
              " array([0.16167704]),\n",
              " array([-0.47792756]),\n",
              " array([4.58837813]),\n",
              " array([0.38123972]),\n",
              " array([1.16762565]),\n",
              " array([1.46588821]),\n",
              " array([1.00438871]),\n",
              " array([-0.17276876]),\n",
              " array([-0.61700993]),\n",
              " array([0.45641751]),\n",
              " array([-0.63939961]),\n",
              " array([3.84630838]),\n",
              " array([-0.56840827]),\n",
              " array([3.77851686]),\n",
              " array([-0.64699136]),\n",
              " array([-0.70112701]),\n",
              " array([0.72166443]),\n",
              " array([2.54980222]),\n",
              " array([-0.42433459]),\n",
              " array([-0.05605509]),\n",
              " array([-0.36829215]),\n",
              " array([1.45282581]),\n",
              " array([3.79023314]),\n",
              " array([-0.42275772]),\n",
              " array([1.46005313]),\n",
              " array([0.40773327]),\n",
              " array([2.12496307]),\n",
              " array([-0.3164628]),\n",
              " array([3.30170784]),\n",
              " array([-0.3046699]),\n",
              " array([-0.19310974]),\n",
              " array([-0.70112701]),\n",
              " array([-0.70112701]),\n",
              " array([-0.70112701]),\n",
              " array([2.29644689]),\n",
              " array([-0.2417788]),\n",
              " array([1.44436833]),\n",
              " array([0.32123882]),\n",
              " array([0.43537962]),\n",
              " array([-0.70112701]),\n",
              " array([-0.39969984]),\n",
              " array([-0.58420519]),\n",
              " array([3.39843119]),\n",
              " array([-0.59511418]),\n",
              " array([-0.48039201]),\n",
              " array([-0.34934447]),\n",
              " array([-0.32618149]),\n",
              " array([3.84630838]),\n",
              " array([-0.06174612]),\n",
              " array([0.92360556]),\n",
              " array([-0.69139315]),\n",
              " array([-0.70112701]),\n",
              " array([-0.37199386]),\n",
              " array([0.33837694]),\n",
              " array([-0.70112701]),\n",
              " array([-0.70112701]),\n",
              " array([3.84630838]),\n",
              " array([-0.63158077]),\n",
              " array([-0.43199247]),\n",
              " array([0.26229095]),\n",
              " array([-0.63433408]),\n",
              " array([-0.61283513]),\n",
              " array([-0.64548062]),\n",
              " array([3.47081945]),\n",
              " array([2.55612724]),\n",
              " array([-0.69862851]),\n",
              " array([-0.67984205]),\n",
              " array([1.24331518]),\n",
              " array([3.76662802]),\n",
              " array([-0.32147939]),\n",
              " array([-0.65167519]),\n",
              " array([-0.63452289]),\n",
              " array([3.88499174]),\n",
              " array([1.74356074]),\n",
              " array([3.82097395]),\n",
              " array([1.82789748]),\n",
              " array([5.01720549]),\n",
              " array([-0.55745677]),\n",
              " array([0.90898956]),\n",
              " array([-0.35721668]),\n",
              " array([-0.68764107]),\n",
              " array([-0.60840226]),\n",
              " array([-0.49354138]),\n",
              " array([3.67781246]),\n",
              " array([0.02749402]),\n",
              " array([-0.70112701]),\n",
              " array([-0.39462643]),\n",
              " array([-0.09006721]),\n",
              " array([3.84630838]),\n",
              " array([-0.641016]),\n",
              " array([-0.69949519]),\n",
              " array([3.73328872]),\n",
              " array([0.46124496]),\n",
              " array([3.84630838]),\n",
              " array([2.40344824]),\n",
              " array([-0.23932851]),\n",
              " array([-0.64152894]),\n",
              " array([-0.70112701]),\n",
              " array([-0.51678805]),\n",
              " array([-0.70112701]),\n",
              " array([-0.64030202]),\n",
              " array([3.84630838]),\n",
              " array([0.20279382]),\n",
              " array([-0.45740166]),\n",
              " array([0.112701]),\n",
              " array([-0.70112701]),\n",
              " array([-0.68498071]),\n",
              " array([2.55356577]),\n",
              " array([-0.64954374]),\n",
              " array([0.01782381]),\n",
              " array([2.14677815]),\n",
              " array([-0.70112701]),\n",
              " array([1.49386507]),\n",
              " array([1.68589408]),\n",
              " array([0.82429085]),\n",
              " array([-0.69259332]),\n",
              " array([0.3685443]),\n",
              " array([-0.70112701]),\n",
              " array([-0.70112701]),\n",
              " array([-0.69248108]),\n",
              " array([-0.2112753]),\n",
              " array([-0.64019442]),\n",
              " array([-0.4096461]),\n",
              " array([1.78688494]),\n",
              " array([0.62930644]),\n",
              " array([0.01344408]),\n",
              " array([-0.50921174]),\n",
              " array([2.63798411]),\n",
              " array([3.09739848]),\n",
              " array([1.62370273]),\n",
              " array([-0.70112701]),\n",
              " array([-0.53070163]),\n",
              " array([-0.70112701]),\n",
              " array([2.57193578]),\n",
              " array([-0.48605896]),\n",
              " array([0.7935447]),\n",
              " array([-0.57341722]),\n",
              " array([-0.6834445]),\n",
              " array([-0.65722362]),\n",
              " array([2.84004995]),\n",
              " array([-0.70112701]),\n",
              " array([-0.45352274]),\n",
              " array([0.089145]),\n",
              " array([1.37775411]),\n",
              " array([-0.15788738]),\n",
              " array([2.5632656]),\n",
              " array([2.0601016]),\n",
              " array([0.5566623]),\n",
              " array([-0.11714684]),\n",
              " array([-0.43120631]),\n",
              " array([-0.70004798]),\n",
              " array([2.65679478]),\n",
              " array([-0.30780802]),\n",
              " array([0.31055101]),\n",
              " array([-0.53853453]),\n",
              " array([-0.68300071]),\n",
              " array([-0.27484236]),\n",
              " array([0.35378486]),\n",
              " array([-0.2192366]),\n",
              " array([-0.512811]),\n",
              " array([0.31320569]),\n",
              " array([1.35824427]),\n",
              " array([-0.6282237]),\n",
              " array([3.84630838]),\n",
              " array([-0.0104092]),\n",
              " array([2.0547347]),\n",
              " array([-0.35930325]),\n",
              " array([-0.41994304]),\n",
              " array([-0.65480572]),\n",
              " array([1.64523933]),\n",
              " array([0.88102177]),\n",
              " array([-0.20553309]),\n",
              " array([0.05247762]),\n",
              " array([0.18392109]),\n",
              " array([1.52654917]),\n",
              " array([3.6590494]),\n",
              " array([2.93235732]),\n",
              " array([-0.64880677]),\n",
              " array([3.02374947]),\n",
              " array([-0.70112701]),\n",
              " array([-0.14386456]),\n",
              " array([2.3358009]),\n",
              " array([1.0644477]),\n",
              " array([9.57136751]),\n",
              " array([-0.63852192]),\n",
              " array([0.15287147]),\n",
              " array([3.84630838]),\n",
              " array([-0.53114586]),\n",
              " array([-0.6856665]),\n",
              " array([-0.60799328]),\n",
              " array([-0.21693541]),\n",
              " array([1.65529242]),\n",
              " array([-0.68413875]),\n",
              " array([3.84630838]),\n",
              " array([0.19453872]),\n",
              " array([2.95043495]),\n",
              " array([3.84630838]),\n",
              " array([2.51457304]),\n",
              " array([0.61123017]),\n",
              " array([1.10531533]),\n",
              " array([0.19672279]),\n",
              " array([-0.67891353]),\n",
              " array([5.49312519]),\n",
              " array([0.0967303]),\n",
              " array([1.63786048]),\n",
              " array([-0.69794412]),\n",
              " array([3.03868528]),\n",
              " array([-0.50667911]),\n",
              " array([0.31070551]),\n",
              " array([1.07712778]),\n",
              " array([-0.5702717]),\n",
              " array([1.46967221]),\n",
              " array([-0.61682584]),\n",
              " array([-0.51301421]),\n",
              " array([3.82024999]),\n",
              " array([-0.12287687]),\n",
              " array([2.07466741]),\n",
              " array([0.01120963]),\n",
              " array([1.69174129]),\n",
              " array([-0.53114986]),\n",
              " array([0.04351854]),\n",
              " array([-0.30830712]),\n",
              " array([3.84630838]),\n",
              " array([-0.56864849]),\n",
              " array([-0.0024286]),\n",
              " array([-0.32013548]),\n",
              " array([3.45419988]),\n",
              " array([0.44157134]),\n",
              " array([-0.37104172]),\n",
              " array([-0.70112701]),\n",
              " array([-0.0935272]),\n",
              " array([-0.69246195]),\n",
              " array([-0.5167378]),\n",
              " array([-0.54410983]),\n",
              " array([-0.653646]),\n",
              " array([-0.70112701]),\n",
              " array([-0.69256764]),\n",
              " array([-0.62998435]),\n",
              " array([2.16785782]),\n",
              " array([-0.70112701]),\n",
              " array([-0.44997987]),\n",
              " array([3.60306156]),\n",
              " array([-0.70112701]),\n",
              " array([3.08958895]),\n",
              " array([-0.56321324]),\n",
              " array([0.18231893]),\n",
              " array([-0.70112701]),\n",
              " array([0.23407918]),\n",
              " array([0.37094395]),\n",
              " array([-0.56525511]),\n",
              " array([3.86641608]),\n",
              " array([0.00352354]),\n",
              " array([-0.62537386]),\n",
              " array([1.46273117]),\n",
              " array([-0.42173582]),\n",
              " array([1.69948264]),\n",
              " array([0.75122635]),\n",
              " array([3.84630838]),\n",
              " array([-0.34683549]),\n",
              " array([0.56595376]),\n",
              " array([0.90102555]),\n",
              " array([0.46444721]),\n",
              " array([-0.70112701]),\n",
              " array([-0.40047876]),\n",
              " array([2.70550981]),\n",
              " array([-0.51017009]),\n",
              " array([0.26650003]),\n",
              " array([3.62443834]),\n",
              " array([2.48358352]),\n",
              " array([-0.70112701]),\n",
              " array([-0.61323621]),\n",
              " array([3.29263805]),\n",
              " array([-0.39677226]),\n",
              " array([-0.1994206]),\n",
              " array([0.3390667]),\n",
              " array([2.44443574]),\n",
              " array([0.55372135]),\n",
              " array([-0.53080543]),\n",
              " array([0.92541914]),\n",
              " array([-0.23296587]),\n",
              " array([3.84630838]),\n",
              " array([-0.51794157]),\n",
              " array([0.90406957]),\n",
              " ...]"
            ]
          },
          "metadata": {
            "tags": []
          },
          "execution_count": 127
        }
      ]
    },
    {
      "cell_type": "code",
      "metadata": {
        "id": "rY5lZqZQtxQU"
      },
      "source": [
        ""
      ],
      "execution_count": null,
      "outputs": []
    },
    {
      "cell_type": "code",
      "metadata": {
        "id": "DifiVxcBwUZE"
      },
      "source": [
        "\n",
        "def mad_based_outlier(points, threshold=3.5):\n",
        "    median_y = np.median(points)\n",
        "    median_absolute_deviation_y = np.median([np.abs(y - median_y) for y in points])\n",
        "    modified_z_scores = [0.6745 * (y - median_y) / median_absolute_deviation_y\n",
        "                         for y in points]\n",
        "\n",
        "    return np.abs(modified_z_scores) > threshold"
      ],
      "execution_count": 128,
      "outputs": []
    },
    {
      "cell_type": "code",
      "metadata": {
        "id": "4TTN2VK_wUfD"
      },
      "source": [
        "def std_div(data, threshold=3):\n",
        "    std = data.std()\n",
        "    mean = data.mean()\n",
        "    isOutlier = []\n",
        "    for val in data:\n",
        "        if val/std > threshold:\n",
        "            isOutlier.append(True)\n",
        "        else:\n",
        "            isOutlier.append(False)\n",
        "    return isOutlier\n",
        "# std_div(data=training_data.age)"
      ],
      "execution_count": 133,
      "outputs": []
    },
    {
      "cell_type": "code",
      "metadata": {
        "id": "QzpoQS1TwUtv"
      },
      "source": [
        "def outlierVote(data):\n",
        "    x = percentile_based_outlier(data)\n",
        "    y = mad_based_outlier(data)\n",
        "    z = std_div(data)\n",
        "    temp = zip(data.index, x, y, z)\n",
        "    final = []\n",
        "    for i in range(len(temp)):\n",
        "        if temp[i].count(False) >= 2:\n",
        "            final.append(False)\n",
        "        else:\n",
        "            final.append(True)\n",
        "    return final\n",
        "# outlierVote(data=training_data.age)"
      ],
      "execution_count": 134,
      "outputs": []
    },
    {
      "cell_type": "code",
      "metadata": {
        "id": "vzMXIckpwUpv"
      },
      "source": [
        "def plotOutlier(x):\n",
        "    fig, axes = plt.subplots(nrows=4)\n",
        "    for ax, func in zip(axes, [percentile_based_outlier, mad_based_outlier, std_div, outlierVote]):\n",
        "        sns.distplot(x, ax=ax, rug=True, hist=False)\n",
        "        outliers = x[func(x)]\n",
        "        ax.plot(outliers, np.zeros_like(outliers), 'ro', clip_on=False)\n",
        "\n",
        "    kwargs = dict(y=0.95, x=0.05, ha='left', va='top', size=20)\n",
        "    axes[0].set_title('Percentile-based Outliers', **kwargs)\n",
        "    axes[1].set_title('MAD-based Outliers', **kwargs)\n",
        "    axes[2].set_title('STD-based Outliers', **kwargs)\n",
        "    axes[3].set_title('Majority vote based Outliers', **kwargs)\n",
        "    fig.suptitle('Comparing Outlier Tests with n={}'.format(len(x)), size=20)\n",
        "    fig = plt.gcf()\n",
        "    fig.set_size_inches(15,10)"
      ],
      "execution_count": 135,
      "outputs": []
    },
    {
      "cell_type": "markdown",
      "metadata": {
        "id": "QWneyiP-xN16"
      },
      "source": [
        "COMPARING OUTLIER TEST N = 5000"
      ]
    },
    {
      "cell_type": "code",
      "metadata": {
        "id": "ccE0t43ywUof",
        "outputId": "57335c91-ac2e-4a58-e4b3-1686055712bb",
        "colab": {
          "base_uri": "https://localhost:8080/",
          "height": 575
        }
      },
      "source": [
        "plotOutlier(training_data.revolvingutilizationofunsecuredlines.sample(5000))"
      ],
      "execution_count": 136,
      "outputs": [
        {
          "output_type": "error",
          "ename": "TypeError",
          "evalue": "ignored",
          "traceback": [
            "\u001b[0;31m---------------------------------------------------------------------------\u001b[0m",
            "\u001b[0;31mTypeError\u001b[0m                                 Traceback (most recent call last)",
            "\u001b[0;32m<ipython-input-136-a41047e0054c>\u001b[0m in \u001b[0;36m<module>\u001b[0;34m()\u001b[0m\n\u001b[0;32m----> 1\u001b[0;31m \u001b[0mplotOutlier\u001b[0m\u001b[0;34m(\u001b[0m\u001b[0mtraining_data\u001b[0m\u001b[0;34m.\u001b[0m\u001b[0mrevolvingutilizationofunsecuredlines\u001b[0m\u001b[0;34m.\u001b[0m\u001b[0msample\u001b[0m\u001b[0;34m(\u001b[0m\u001b[0;36m5000\u001b[0m\u001b[0;34m)\u001b[0m\u001b[0;34m)\u001b[0m\u001b[0;34m\u001b[0m\u001b[0;34m\u001b[0m\u001b[0m\n\u001b[0m",
            "\u001b[0;32m<ipython-input-135-37676760cfea>\u001b[0m in \u001b[0;36mplotOutlier\u001b[0;34m(x)\u001b[0m\n\u001b[1;32m      3\u001b[0m     \u001b[0;32mfor\u001b[0m \u001b[0max\u001b[0m\u001b[0;34m,\u001b[0m \u001b[0mfunc\u001b[0m \u001b[0;32min\u001b[0m \u001b[0mzip\u001b[0m\u001b[0;34m(\u001b[0m\u001b[0maxes\u001b[0m\u001b[0;34m,\u001b[0m \u001b[0;34m[\u001b[0m\u001b[0mpercentile_based_outlier\u001b[0m\u001b[0;34m,\u001b[0m \u001b[0mmad_based_outlier\u001b[0m\u001b[0;34m,\u001b[0m \u001b[0mstd_div\u001b[0m\u001b[0;34m,\u001b[0m \u001b[0moutlierVote\u001b[0m\u001b[0;34m]\u001b[0m\u001b[0;34m)\u001b[0m\u001b[0;34m:\u001b[0m\u001b[0;34m\u001b[0m\u001b[0;34m\u001b[0m\u001b[0m\n\u001b[1;32m      4\u001b[0m         \u001b[0msns\u001b[0m\u001b[0;34m.\u001b[0m\u001b[0mdistplot\u001b[0m\u001b[0;34m(\u001b[0m\u001b[0mx\u001b[0m\u001b[0;34m,\u001b[0m \u001b[0max\u001b[0m\u001b[0;34m=\u001b[0m\u001b[0max\u001b[0m\u001b[0;34m,\u001b[0m \u001b[0mrug\u001b[0m\u001b[0;34m=\u001b[0m\u001b[0;32mTrue\u001b[0m\u001b[0;34m,\u001b[0m \u001b[0mhist\u001b[0m\u001b[0;34m=\u001b[0m\u001b[0;32mFalse\u001b[0m\u001b[0;34m)\u001b[0m\u001b[0;34m\u001b[0m\u001b[0;34m\u001b[0m\u001b[0m\n\u001b[0;32m----> 5\u001b[0;31m         \u001b[0moutliers\u001b[0m \u001b[0;34m=\u001b[0m \u001b[0mx\u001b[0m\u001b[0;34m[\u001b[0m\u001b[0mfunc\u001b[0m\u001b[0;34m(\u001b[0m\u001b[0mx\u001b[0m\u001b[0;34m)\u001b[0m\u001b[0;34m]\u001b[0m\u001b[0;34m\u001b[0m\u001b[0;34m\u001b[0m\u001b[0m\n\u001b[0m\u001b[1;32m      6\u001b[0m         \u001b[0max\u001b[0m\u001b[0;34m.\u001b[0m\u001b[0mplot\u001b[0m\u001b[0;34m(\u001b[0m\u001b[0moutliers\u001b[0m\u001b[0;34m,\u001b[0m \u001b[0mnp\u001b[0m\u001b[0;34m.\u001b[0m\u001b[0mzeros_like\u001b[0m\u001b[0;34m(\u001b[0m\u001b[0moutliers\u001b[0m\u001b[0;34m)\u001b[0m\u001b[0;34m,\u001b[0m \u001b[0;34m'ro'\u001b[0m\u001b[0;34m,\u001b[0m \u001b[0mclip_on\u001b[0m\u001b[0;34m=\u001b[0m\u001b[0;32mFalse\u001b[0m\u001b[0;34m)\u001b[0m\u001b[0;34m\u001b[0m\u001b[0;34m\u001b[0m\u001b[0m\n\u001b[1;32m      7\u001b[0m \u001b[0;34m\u001b[0m\u001b[0m\n",
            "\u001b[0;32m<ipython-input-134-deae2e02ac57>\u001b[0m in \u001b[0;36moutlierVote\u001b[0;34m(data)\u001b[0m\n\u001b[1;32m      5\u001b[0m     \u001b[0mtemp\u001b[0m \u001b[0;34m=\u001b[0m \u001b[0mzip\u001b[0m\u001b[0;34m(\u001b[0m\u001b[0mdata\u001b[0m\u001b[0;34m.\u001b[0m\u001b[0mindex\u001b[0m\u001b[0;34m,\u001b[0m \u001b[0mx\u001b[0m\u001b[0;34m,\u001b[0m \u001b[0my\u001b[0m\u001b[0;34m,\u001b[0m \u001b[0mz\u001b[0m\u001b[0;34m)\u001b[0m\u001b[0;34m\u001b[0m\u001b[0;34m\u001b[0m\u001b[0m\n\u001b[1;32m      6\u001b[0m     \u001b[0mfinal\u001b[0m \u001b[0;34m=\u001b[0m \u001b[0;34m[\u001b[0m\u001b[0;34m]\u001b[0m\u001b[0;34m\u001b[0m\u001b[0;34m\u001b[0m\u001b[0m\n\u001b[0;32m----> 7\u001b[0;31m     \u001b[0;32mfor\u001b[0m \u001b[0mi\u001b[0m \u001b[0;32min\u001b[0m \u001b[0mrange\u001b[0m\u001b[0;34m(\u001b[0m\u001b[0mlen\u001b[0m\u001b[0;34m(\u001b[0m\u001b[0mtemp\u001b[0m\u001b[0;34m)\u001b[0m\u001b[0;34m)\u001b[0m\u001b[0;34m:\u001b[0m\u001b[0;34m\u001b[0m\u001b[0;34m\u001b[0m\u001b[0m\n\u001b[0m\u001b[1;32m      8\u001b[0m         \u001b[0;32mif\u001b[0m \u001b[0mtemp\u001b[0m\u001b[0;34m[\u001b[0m\u001b[0mi\u001b[0m\u001b[0;34m]\u001b[0m\u001b[0;34m.\u001b[0m\u001b[0mcount\u001b[0m\u001b[0;34m(\u001b[0m\u001b[0;32mFalse\u001b[0m\u001b[0;34m)\u001b[0m \u001b[0;34m>=\u001b[0m \u001b[0;36m2\u001b[0m\u001b[0;34m:\u001b[0m\u001b[0;34m\u001b[0m\u001b[0;34m\u001b[0m\u001b[0m\n\u001b[1;32m      9\u001b[0m             \u001b[0mfinal\u001b[0m\u001b[0;34m.\u001b[0m\u001b[0mappend\u001b[0m\u001b[0;34m(\u001b[0m\u001b[0;32mFalse\u001b[0m\u001b[0;34m)\u001b[0m\u001b[0;34m\u001b[0m\u001b[0;34m\u001b[0m\u001b[0m\n",
            "\u001b[0;31mTypeError\u001b[0m: object of type 'zip' has no len()"
          ]
        },
        {
          "output_type": "display_data",
          "data": {
            "image/png": "[encoded data removed]",
            "text/plain": [
              "<Figure size 432x288 with 4 Axes>"
            ]
          },
          "metadata": {
            "tags": []
          }
        }
      ]
    },
    {
      "cell_type": "code",
      "metadata": {
        "id": "uEmMH3HHwUno",
        "outputId": "f2d6168b-6f3b-4176-fa10-6eed57d408fb",
        "colab": {
          "base_uri": "https://localhost:8080/",
          "height": 577
        }
      },
      "source": [
        "plotOutlier(training_data.age.sample(1000))\n"
      ],
      "execution_count": 137,
      "outputs": [
        {
          "output_type": "error",
          "ename": "TypeError",
          "evalue": "ignored",
          "traceback": [
            "\u001b[0;31m---------------------------------------------------------------------------\u001b[0m",
            "\u001b[0;31mTypeError\u001b[0m                                 Traceback (most recent call last)",
            "\u001b[0;32m<ipython-input-137-f58195a1110c>\u001b[0m in \u001b[0;36m<module>\u001b[0;34m()\u001b[0m\n\u001b[0;32m----> 1\u001b[0;31m \u001b[0mplotOutlier\u001b[0m\u001b[0;34m(\u001b[0m\u001b[0mtraining_data\u001b[0m\u001b[0;34m.\u001b[0m\u001b[0mage\u001b[0m\u001b[0;34m.\u001b[0m\u001b[0msample\u001b[0m\u001b[0;34m(\u001b[0m\u001b[0;36m1000\u001b[0m\u001b[0;34m)\u001b[0m\u001b[0;34m)\u001b[0m\u001b[0;34m\u001b[0m\u001b[0;34m\u001b[0m\u001b[0m\n\u001b[0m",
            "\u001b[0;32m<ipython-input-135-37676760cfea>\u001b[0m in \u001b[0;36mplotOutlier\u001b[0;34m(x)\u001b[0m\n\u001b[1;32m      3\u001b[0m     \u001b[0;32mfor\u001b[0m \u001b[0max\u001b[0m\u001b[0;34m,\u001b[0m \u001b[0mfunc\u001b[0m \u001b[0;32min\u001b[0m \u001b[0mzip\u001b[0m\u001b[0;34m(\u001b[0m\u001b[0maxes\u001b[0m\u001b[0;34m,\u001b[0m \u001b[0;34m[\u001b[0m\u001b[0mpercentile_based_outlier\u001b[0m\u001b[0;34m,\u001b[0m \u001b[0mmad_based_outlier\u001b[0m\u001b[0;34m,\u001b[0m \u001b[0mstd_div\u001b[0m\u001b[0;34m,\u001b[0m \u001b[0moutlierVote\u001b[0m\u001b[0;34m]\u001b[0m\u001b[0;34m)\u001b[0m\u001b[0;34m:\u001b[0m\u001b[0;34m\u001b[0m\u001b[0;34m\u001b[0m\u001b[0m\n\u001b[1;32m      4\u001b[0m         \u001b[0msns\u001b[0m\u001b[0;34m.\u001b[0m\u001b[0mdistplot\u001b[0m\u001b[0;34m(\u001b[0m\u001b[0mx\u001b[0m\u001b[0;34m,\u001b[0m \u001b[0max\u001b[0m\u001b[0;34m=\u001b[0m\u001b[0max\u001b[0m\u001b[0;34m,\u001b[0m \u001b[0mrug\u001b[0m\u001b[0;34m=\u001b[0m\u001b[0;32mTrue\u001b[0m\u001b[0;34m,\u001b[0m \u001b[0mhist\u001b[0m\u001b[0;34m=\u001b[0m\u001b[0;32mFalse\u001b[0m\u001b[0;34m)\u001b[0m\u001b[0;34m\u001b[0m\u001b[0;34m\u001b[0m\u001b[0m\n\u001b[0;32m----> 5\u001b[0;31m         \u001b[0moutliers\u001b[0m \u001b[0;34m=\u001b[0m \u001b[0mx\u001b[0m\u001b[0;34m[\u001b[0m\u001b[0mfunc\u001b[0m\u001b[0;34m(\u001b[0m\u001b[0mx\u001b[0m\u001b[0;34m)\u001b[0m\u001b[0;34m]\u001b[0m\u001b[0;34m\u001b[0m\u001b[0;34m\u001b[0m\u001b[0m\n\u001b[0m\u001b[1;32m      6\u001b[0m         \u001b[0max\u001b[0m\u001b[0;34m.\u001b[0m\u001b[0mplot\u001b[0m\u001b[0;34m(\u001b[0m\u001b[0moutliers\u001b[0m\u001b[0;34m,\u001b[0m \u001b[0mnp\u001b[0m\u001b[0;34m.\u001b[0m\u001b[0mzeros_like\u001b[0m\u001b[0;34m(\u001b[0m\u001b[0moutliers\u001b[0m\u001b[0;34m)\u001b[0m\u001b[0;34m,\u001b[0m \u001b[0;34m'ro'\u001b[0m\u001b[0;34m,\u001b[0m \u001b[0mclip_on\u001b[0m\u001b[0;34m=\u001b[0m\u001b[0;32mFalse\u001b[0m\u001b[0;34m)\u001b[0m\u001b[0;34m\u001b[0m\u001b[0;34m\u001b[0m\u001b[0m\n\u001b[1;32m      7\u001b[0m \u001b[0;34m\u001b[0m\u001b[0m\n",
            "\u001b[0;32m<ipython-input-134-deae2e02ac57>\u001b[0m in \u001b[0;36moutlierVote\u001b[0;34m(data)\u001b[0m\n\u001b[1;32m      5\u001b[0m     \u001b[0mtemp\u001b[0m \u001b[0;34m=\u001b[0m \u001b[0mzip\u001b[0m\u001b[0;34m(\u001b[0m\u001b[0mdata\u001b[0m\u001b[0;34m.\u001b[0m\u001b[0mindex\u001b[0m\u001b[0;34m,\u001b[0m \u001b[0mx\u001b[0m\u001b[0;34m,\u001b[0m \u001b[0my\u001b[0m\u001b[0;34m,\u001b[0m \u001b[0mz\u001b[0m\u001b[0;34m)\u001b[0m\u001b[0;34m\u001b[0m\u001b[0;34m\u001b[0m\u001b[0m\n\u001b[1;32m      6\u001b[0m     \u001b[0mfinal\u001b[0m \u001b[0;34m=\u001b[0m \u001b[0;34m[\u001b[0m\u001b[0;34m]\u001b[0m\u001b[0;34m\u001b[0m\u001b[0;34m\u001b[0m\u001b[0m\n\u001b[0;32m----> 7\u001b[0;31m     \u001b[0;32mfor\u001b[0m \u001b[0mi\u001b[0m \u001b[0;32min\u001b[0m \u001b[0mrange\u001b[0m\u001b[0;34m(\u001b[0m\u001b[0mlen\u001b[0m\u001b[0;34m(\u001b[0m\u001b[0mtemp\u001b[0m\u001b[0;34m)\u001b[0m\u001b[0;34m)\u001b[0m\u001b[0;34m:\u001b[0m\u001b[0;34m\u001b[0m\u001b[0;34m\u001b[0m\u001b[0m\n\u001b[0m\u001b[1;32m      8\u001b[0m         \u001b[0;32mif\u001b[0m \u001b[0mtemp\u001b[0m\u001b[0;34m[\u001b[0m\u001b[0mi\u001b[0m\u001b[0;34m]\u001b[0m\u001b[0;34m.\u001b[0m\u001b[0mcount\u001b[0m\u001b[0;34m(\u001b[0m\u001b[0;32mFalse\u001b[0m\u001b[0;34m)\u001b[0m \u001b[0;34m>=\u001b[0m \u001b[0;36m2\u001b[0m\u001b[0;34m:\u001b[0m\u001b[0;34m\u001b[0m\u001b[0;34m\u001b[0m\u001b[0m\n\u001b[1;32m      9\u001b[0m             \u001b[0mfinal\u001b[0m\u001b[0;34m.\u001b[0m\u001b[0mappend\u001b[0m\u001b[0;34m(\u001b[0m\u001b[0;32mFalse\u001b[0m\u001b[0;34m)\u001b[0m\u001b[0;34m\u001b[0m\u001b[0;34m\u001b[0m\u001b[0m\n",
            "\u001b[0;31mTypeError\u001b[0m: object of type 'zip' has no len()"
          ]
        },
        {
          "output_type": "display_data",
          "data": {
            "image/png": "[encoded data removed]",
            "text/plain": [
              "<Figure size 432x288 with 4 Axes>"
            ]
          },
          "metadata": {
            "tags": []
          }
        }
      ]
    },
    {
      "cell_type": "code",
      "metadata": {
        "id": "qqSlbCTswUmQ",
        "outputId": "9eccdaea-19f3-4b30-cced-b14696ddc1fc",
        "colab": {
          "base_uri": "https://localhost:8080/",
          "height": 575
        }
      },
      "source": [
        "plotOutlier(training_data.numberoftime3059dayspastduenotworse.sample(1000))"
      ],
      "execution_count": 138,
      "outputs": [
        {
          "output_type": "error",
          "ename": "TypeError",
          "evalue": "ignored",
          "traceback": [
            "\u001b[0;31m---------------------------------------------------------------------------\u001b[0m",
            "\u001b[0;31mTypeError\u001b[0m                                 Traceback (most recent call last)",
            "\u001b[0;32m<ipython-input-138-e35351e2871f>\u001b[0m in \u001b[0;36m<module>\u001b[0;34m()\u001b[0m\n\u001b[0;32m----> 1\u001b[0;31m \u001b[0mplotOutlier\u001b[0m\u001b[0;34m(\u001b[0m\u001b[0mtraining_data\u001b[0m\u001b[0;34m.\u001b[0m\u001b[0mnumberoftime3059dayspastduenotworse\u001b[0m\u001b[0;34m.\u001b[0m\u001b[0msample\u001b[0m\u001b[0;34m(\u001b[0m\u001b[0;36m1000\u001b[0m\u001b[0;34m)\u001b[0m\u001b[0;34m)\u001b[0m\u001b[0;34m\u001b[0m\u001b[0;34m\u001b[0m\u001b[0m\n\u001b[0m",
            "\u001b[0;32m<ipython-input-135-37676760cfea>\u001b[0m in \u001b[0;36mplotOutlier\u001b[0;34m(x)\u001b[0m\n\u001b[1;32m      3\u001b[0m     \u001b[0;32mfor\u001b[0m \u001b[0max\u001b[0m\u001b[0;34m,\u001b[0m \u001b[0mfunc\u001b[0m \u001b[0;32min\u001b[0m \u001b[0mzip\u001b[0m\u001b[0;34m(\u001b[0m\u001b[0maxes\u001b[0m\u001b[0;34m,\u001b[0m \u001b[0;34m[\u001b[0m\u001b[0mpercentile_based_outlier\u001b[0m\u001b[0;34m,\u001b[0m \u001b[0mmad_based_outlier\u001b[0m\u001b[0;34m,\u001b[0m \u001b[0mstd_div\u001b[0m\u001b[0;34m,\u001b[0m \u001b[0moutlierVote\u001b[0m\u001b[0;34m]\u001b[0m\u001b[0;34m)\u001b[0m\u001b[0;34m:\u001b[0m\u001b[0;34m\u001b[0m\u001b[0;34m\u001b[0m\u001b[0m\n\u001b[1;32m      4\u001b[0m         \u001b[0msns\u001b[0m\u001b[0;34m.\u001b[0m\u001b[0mdistplot\u001b[0m\u001b[0;34m(\u001b[0m\u001b[0mx\u001b[0m\u001b[0;34m,\u001b[0m \u001b[0max\u001b[0m\u001b[0;34m=\u001b[0m\u001b[0max\u001b[0m\u001b[0;34m,\u001b[0m \u001b[0mrug\u001b[0m\u001b[0;34m=\u001b[0m\u001b[0;32mTrue\u001b[0m\u001b[0;34m,\u001b[0m \u001b[0mhist\u001b[0m\u001b[0;34m=\u001b[0m\u001b[0;32mFalse\u001b[0m\u001b[0;34m)\u001b[0m\u001b[0;34m\u001b[0m\u001b[0;34m\u001b[0m\u001b[0m\n\u001b[0;32m----> 5\u001b[0;31m         \u001b[0moutliers\u001b[0m \u001b[0;34m=\u001b[0m \u001b[0mx\u001b[0m\u001b[0;34m[\u001b[0m\u001b[0mfunc\u001b[0m\u001b[0;34m(\u001b[0m\u001b[0mx\u001b[0m\u001b[0;34m)\u001b[0m\u001b[0;34m]\u001b[0m\u001b[0;34m\u001b[0m\u001b[0;34m\u001b[0m\u001b[0m\n\u001b[0m\u001b[1;32m      6\u001b[0m         \u001b[0max\u001b[0m\u001b[0;34m.\u001b[0m\u001b[0mplot\u001b[0m\u001b[0;34m(\u001b[0m\u001b[0moutliers\u001b[0m\u001b[0;34m,\u001b[0m \u001b[0mnp\u001b[0m\u001b[0;34m.\u001b[0m\u001b[0mzeros_like\u001b[0m\u001b[0;34m(\u001b[0m\u001b[0moutliers\u001b[0m\u001b[0;34m)\u001b[0m\u001b[0;34m,\u001b[0m \u001b[0;34m'ro'\u001b[0m\u001b[0;34m,\u001b[0m \u001b[0mclip_on\u001b[0m\u001b[0;34m=\u001b[0m\u001b[0;32mFalse\u001b[0m\u001b[0;34m)\u001b[0m\u001b[0;34m\u001b[0m\u001b[0;34m\u001b[0m\u001b[0m\n\u001b[1;32m      7\u001b[0m \u001b[0;34m\u001b[0m\u001b[0m\n",
            "\u001b[0;32m<ipython-input-134-deae2e02ac57>\u001b[0m in \u001b[0;36moutlierVote\u001b[0;34m(data)\u001b[0m\n\u001b[1;32m      5\u001b[0m     \u001b[0mtemp\u001b[0m \u001b[0;34m=\u001b[0m \u001b[0mzip\u001b[0m\u001b[0;34m(\u001b[0m\u001b[0mdata\u001b[0m\u001b[0;34m.\u001b[0m\u001b[0mindex\u001b[0m\u001b[0;34m,\u001b[0m \u001b[0mx\u001b[0m\u001b[0;34m,\u001b[0m \u001b[0my\u001b[0m\u001b[0;34m,\u001b[0m \u001b[0mz\u001b[0m\u001b[0;34m)\u001b[0m\u001b[0;34m\u001b[0m\u001b[0;34m\u001b[0m\u001b[0m\n\u001b[1;32m      6\u001b[0m     \u001b[0mfinal\u001b[0m \u001b[0;34m=\u001b[0m \u001b[0;34m[\u001b[0m\u001b[0;34m]\u001b[0m\u001b[0;34m\u001b[0m\u001b[0;34m\u001b[0m\u001b[0m\n\u001b[0;32m----> 7\u001b[0;31m     \u001b[0;32mfor\u001b[0m \u001b[0mi\u001b[0m \u001b[0;32min\u001b[0m \u001b[0mrange\u001b[0m\u001b[0;34m(\u001b[0m\u001b[0mlen\u001b[0m\u001b[0;34m(\u001b[0m\u001b[0mtemp\u001b[0m\u001b[0;34m)\u001b[0m\u001b[0;34m)\u001b[0m\u001b[0;34m:\u001b[0m\u001b[0;34m\u001b[0m\u001b[0;34m\u001b[0m\u001b[0m\n\u001b[0m\u001b[1;32m      8\u001b[0m         \u001b[0;32mif\u001b[0m \u001b[0mtemp\u001b[0m\u001b[0;34m[\u001b[0m\u001b[0mi\u001b[0m\u001b[0;34m]\u001b[0m\u001b[0;34m.\u001b[0m\u001b[0mcount\u001b[0m\u001b[0;34m(\u001b[0m\u001b[0;32mFalse\u001b[0m\u001b[0;34m)\u001b[0m \u001b[0;34m>=\u001b[0m \u001b[0;36m2\u001b[0m\u001b[0;34m:\u001b[0m\u001b[0;34m\u001b[0m\u001b[0;34m\u001b[0m\u001b[0m\n\u001b[1;32m      9\u001b[0m             \u001b[0mfinal\u001b[0m\u001b[0;34m.\u001b[0m\u001b[0mappend\u001b[0m\u001b[0;34m(\u001b[0m\u001b[0;32mFalse\u001b[0m\u001b[0;34m)\u001b[0m\u001b[0;34m\u001b[0m\u001b[0;34m\u001b[0m\u001b[0m\n",
            "\u001b[0;31mTypeError\u001b[0m: object of type 'zip' has no len()"
          ]
        },
        {
          "output_type": "display_data",
          "data": {
            "image/png": "[encoded data removed]",
            "text/plain": [
              "<Figure size 432x288 with 4 Axes>"
            ]
          },
          "metadata": {
            "tags": []
          }
        }
      ]
    },
    {
      "cell_type": "code",
      "metadata": {
        "id": "pI5R6MozwUh0",
        "outputId": "93bf02bf-e833-4929-d0ca-16e0224e912c",
        "colab": {
          "base_uri": "https://localhost:8080/",
          "height": 575
        }
      },
      "source": [
        "plotOutlier(training_data.debtratio.sample(1000))"
      ],
      "execution_count": 139,
      "outputs": [
        {
          "output_type": "error",
          "ename": "TypeError",
          "evalue": "ignored",
          "traceback": [
            "\u001b[0;31m---------------------------------------------------------------------------\u001b[0m",
            "\u001b[0;31mTypeError\u001b[0m                                 Traceback (most recent call last)",
            "\u001b[0;32m<ipython-input-139-6ef4a14cdd0b>\u001b[0m in \u001b[0;36m<module>\u001b[0;34m()\u001b[0m\n\u001b[0;32m----> 1\u001b[0;31m \u001b[0mplotOutlier\u001b[0m\u001b[0;34m(\u001b[0m\u001b[0mtraining_data\u001b[0m\u001b[0;34m.\u001b[0m\u001b[0mdebtratio\u001b[0m\u001b[0;34m.\u001b[0m\u001b[0msample\u001b[0m\u001b[0;34m(\u001b[0m\u001b[0;36m1000\u001b[0m\u001b[0;34m)\u001b[0m\u001b[0;34m)\u001b[0m\u001b[0;34m\u001b[0m\u001b[0;34m\u001b[0m\u001b[0m\n\u001b[0m",
            "\u001b[0;32m<ipython-input-135-37676760cfea>\u001b[0m in \u001b[0;36mplotOutlier\u001b[0;34m(x)\u001b[0m\n\u001b[1;32m      3\u001b[0m     \u001b[0;32mfor\u001b[0m \u001b[0max\u001b[0m\u001b[0;34m,\u001b[0m \u001b[0mfunc\u001b[0m \u001b[0;32min\u001b[0m \u001b[0mzip\u001b[0m\u001b[0;34m(\u001b[0m\u001b[0maxes\u001b[0m\u001b[0;34m,\u001b[0m \u001b[0;34m[\u001b[0m\u001b[0mpercentile_based_outlier\u001b[0m\u001b[0;34m,\u001b[0m \u001b[0mmad_based_outlier\u001b[0m\u001b[0;34m,\u001b[0m \u001b[0mstd_div\u001b[0m\u001b[0;34m,\u001b[0m \u001b[0moutlierVote\u001b[0m\u001b[0;34m]\u001b[0m\u001b[0;34m)\u001b[0m\u001b[0;34m:\u001b[0m\u001b[0;34m\u001b[0m\u001b[0;34m\u001b[0m\u001b[0m\n\u001b[1;32m      4\u001b[0m         \u001b[0msns\u001b[0m\u001b[0;34m.\u001b[0m\u001b[0mdistplot\u001b[0m\u001b[0;34m(\u001b[0m\u001b[0mx\u001b[0m\u001b[0;34m,\u001b[0m \u001b[0max\u001b[0m\u001b[0;34m=\u001b[0m\u001b[0max\u001b[0m\u001b[0;34m,\u001b[0m \u001b[0mrug\u001b[0m\u001b[0;34m=\u001b[0m\u001b[0;32mTrue\u001b[0m\u001b[0;34m,\u001b[0m \u001b[0mhist\u001b[0m\u001b[0;34m=\u001b[0m\u001b[0;32mFalse\u001b[0m\u001b[0;34m)\u001b[0m\u001b[0;34m\u001b[0m\u001b[0;34m\u001b[0m\u001b[0m\n\u001b[0;32m----> 5\u001b[0;31m         \u001b[0moutliers\u001b[0m \u001b[0;34m=\u001b[0m \u001b[0mx\u001b[0m\u001b[0;34m[\u001b[0m\u001b[0mfunc\u001b[0m\u001b[0;34m(\u001b[0m\u001b[0mx\u001b[0m\u001b[0;34m)\u001b[0m\u001b[0;34m]\u001b[0m\u001b[0;34m\u001b[0m\u001b[0;34m\u001b[0m\u001b[0m\n\u001b[0m\u001b[1;32m      6\u001b[0m         \u001b[0max\u001b[0m\u001b[0;34m.\u001b[0m\u001b[0mplot\u001b[0m\u001b[0;34m(\u001b[0m\u001b[0moutliers\u001b[0m\u001b[0;34m,\u001b[0m \u001b[0mnp\u001b[0m\u001b[0;34m.\u001b[0m\u001b[0mzeros_like\u001b[0m\u001b[0;34m(\u001b[0m\u001b[0moutliers\u001b[0m\u001b[0;34m)\u001b[0m\u001b[0;34m,\u001b[0m \u001b[0;34m'ro'\u001b[0m\u001b[0;34m,\u001b[0m \u001b[0mclip_on\u001b[0m\u001b[0;34m=\u001b[0m\u001b[0;32mFalse\u001b[0m\u001b[0;34m)\u001b[0m\u001b[0;34m\u001b[0m\u001b[0;34m\u001b[0m\u001b[0m\n\u001b[1;32m      7\u001b[0m \u001b[0;34m\u001b[0m\u001b[0m\n",
            "\u001b[0;32m<ipython-input-134-deae2e02ac57>\u001b[0m in \u001b[0;36moutlierVote\u001b[0;34m(data)\u001b[0m\n\u001b[1;32m      5\u001b[0m     \u001b[0mtemp\u001b[0m \u001b[0;34m=\u001b[0m \u001b[0mzip\u001b[0m\u001b[0;34m(\u001b[0m\u001b[0mdata\u001b[0m\u001b[0;34m.\u001b[0m\u001b[0mindex\u001b[0m\u001b[0;34m,\u001b[0m \u001b[0mx\u001b[0m\u001b[0;34m,\u001b[0m \u001b[0my\u001b[0m\u001b[0;34m,\u001b[0m \u001b[0mz\u001b[0m\u001b[0;34m)\u001b[0m\u001b[0;34m\u001b[0m\u001b[0;34m\u001b[0m\u001b[0m\n\u001b[1;32m      6\u001b[0m     \u001b[0mfinal\u001b[0m \u001b[0;34m=\u001b[0m \u001b[0;34m[\u001b[0m\u001b[0;34m]\u001b[0m\u001b[0;34m\u001b[0m\u001b[0;34m\u001b[0m\u001b[0m\n\u001b[0;32m----> 7\u001b[0;31m     \u001b[0;32mfor\u001b[0m \u001b[0mi\u001b[0m \u001b[0;32min\u001b[0m \u001b[0mrange\u001b[0m\u001b[0;34m(\u001b[0m\u001b[0mlen\u001b[0m\u001b[0;34m(\u001b[0m\u001b[0mtemp\u001b[0m\u001b[0;34m)\u001b[0m\u001b[0;34m)\u001b[0m\u001b[0;34m:\u001b[0m\u001b[0;34m\u001b[0m\u001b[0;34m\u001b[0m\u001b[0m\n\u001b[0m\u001b[1;32m      8\u001b[0m         \u001b[0;32mif\u001b[0m \u001b[0mtemp\u001b[0m\u001b[0;34m[\u001b[0m\u001b[0mi\u001b[0m\u001b[0;34m]\u001b[0m\u001b[0;34m.\u001b[0m\u001b[0mcount\u001b[0m\u001b[0;34m(\u001b[0m\u001b[0;32mFalse\u001b[0m\u001b[0;34m)\u001b[0m \u001b[0;34m>=\u001b[0m \u001b[0;36m2\u001b[0m\u001b[0;34m:\u001b[0m\u001b[0;34m\u001b[0m\u001b[0;34m\u001b[0m\u001b[0m\n\u001b[1;32m      9\u001b[0m             \u001b[0mfinal\u001b[0m\u001b[0;34m.\u001b[0m\u001b[0mappend\u001b[0m\u001b[0;34m(\u001b[0m\u001b[0;32mFalse\u001b[0m\u001b[0;34m)\u001b[0m\u001b[0;34m\u001b[0m\u001b[0;34m\u001b[0m\u001b[0m\n",
            "\u001b[0;31mTypeError\u001b[0m: object of type 'zip' has no len()"
          ]
        },
        {
          "output_type": "display_data",
          "data": {
            "image/png": "[encoded data removed]",
            "text/plain": [
              "<Figure size 432x288 with 4 Axes>"
            ]
          },
          "metadata": {
            "tags": []
          }
        }
      ]
    },
    {
      "cell_type": "code",
      "metadata": {
        "id": "Dq-nQFLqxf0W",
        "outputId": "e358d39c-9dee-4e23-9951-c1ad801216bc",
        "colab": {
          "base_uri": "https://localhost:8080/",
          "height": 575
        }
      },
      "source": [
        "plotOutlier(training_data.monthlyincome.sample(1000))"
      ],
      "execution_count": 140,
      "outputs": [
        {
          "output_type": "error",
          "ename": "TypeError",
          "evalue": "ignored",
          "traceback": [
            "\u001b[0;31m---------------------------------------------------------------------------\u001b[0m",
            "\u001b[0;31mTypeError\u001b[0m                                 Traceback (most recent call last)",
            "\u001b[0;32m<ipython-input-140-6f5805569167>\u001b[0m in \u001b[0;36m<module>\u001b[0;34m()\u001b[0m\n\u001b[0;32m----> 1\u001b[0;31m \u001b[0mplotOutlier\u001b[0m\u001b[0;34m(\u001b[0m\u001b[0mtraining_data\u001b[0m\u001b[0;34m.\u001b[0m\u001b[0mmonthlyincome\u001b[0m\u001b[0;34m.\u001b[0m\u001b[0msample\u001b[0m\u001b[0;34m(\u001b[0m\u001b[0;36m1000\u001b[0m\u001b[0;34m)\u001b[0m\u001b[0;34m)\u001b[0m\u001b[0;34m\u001b[0m\u001b[0;34m\u001b[0m\u001b[0m\n\u001b[0m",
            "\u001b[0;32m<ipython-input-135-37676760cfea>\u001b[0m in \u001b[0;36mplotOutlier\u001b[0;34m(x)\u001b[0m\n\u001b[1;32m      3\u001b[0m     \u001b[0;32mfor\u001b[0m \u001b[0max\u001b[0m\u001b[0;34m,\u001b[0m \u001b[0mfunc\u001b[0m \u001b[0;32min\u001b[0m \u001b[0mzip\u001b[0m\u001b[0;34m(\u001b[0m\u001b[0maxes\u001b[0m\u001b[0;34m,\u001b[0m \u001b[0;34m[\u001b[0m\u001b[0mpercentile_based_outlier\u001b[0m\u001b[0;34m,\u001b[0m \u001b[0mmad_based_outlier\u001b[0m\u001b[0;34m,\u001b[0m \u001b[0mstd_div\u001b[0m\u001b[0;34m,\u001b[0m \u001b[0moutlierVote\u001b[0m\u001b[0;34m]\u001b[0m\u001b[0;34m)\u001b[0m\u001b[0;34m:\u001b[0m\u001b[0;34m\u001b[0m\u001b[0;34m\u001b[0m\u001b[0m\n\u001b[1;32m      4\u001b[0m         \u001b[0msns\u001b[0m\u001b[0;34m.\u001b[0m\u001b[0mdistplot\u001b[0m\u001b[0;34m(\u001b[0m\u001b[0mx\u001b[0m\u001b[0;34m,\u001b[0m \u001b[0max\u001b[0m\u001b[0;34m=\u001b[0m\u001b[0max\u001b[0m\u001b[0;34m,\u001b[0m \u001b[0mrug\u001b[0m\u001b[0;34m=\u001b[0m\u001b[0;32mTrue\u001b[0m\u001b[0;34m,\u001b[0m \u001b[0mhist\u001b[0m\u001b[0;34m=\u001b[0m\u001b[0;32mFalse\u001b[0m\u001b[0;34m)\u001b[0m\u001b[0;34m\u001b[0m\u001b[0;34m\u001b[0m\u001b[0m\n\u001b[0;32m----> 5\u001b[0;31m         \u001b[0moutliers\u001b[0m \u001b[0;34m=\u001b[0m \u001b[0mx\u001b[0m\u001b[0;34m[\u001b[0m\u001b[0mfunc\u001b[0m\u001b[0;34m(\u001b[0m\u001b[0mx\u001b[0m\u001b[0;34m)\u001b[0m\u001b[0;34m]\u001b[0m\u001b[0;34m\u001b[0m\u001b[0;34m\u001b[0m\u001b[0m\n\u001b[0m\u001b[1;32m      6\u001b[0m         \u001b[0max\u001b[0m\u001b[0;34m.\u001b[0m\u001b[0mplot\u001b[0m\u001b[0;34m(\u001b[0m\u001b[0moutliers\u001b[0m\u001b[0;34m,\u001b[0m \u001b[0mnp\u001b[0m\u001b[0;34m.\u001b[0m\u001b[0mzeros_like\u001b[0m\u001b[0;34m(\u001b[0m\u001b[0moutliers\u001b[0m\u001b[0;34m)\u001b[0m\u001b[0;34m,\u001b[0m \u001b[0;34m'ro'\u001b[0m\u001b[0;34m,\u001b[0m \u001b[0mclip_on\u001b[0m\u001b[0;34m=\u001b[0m\u001b[0;32mFalse\u001b[0m\u001b[0;34m)\u001b[0m\u001b[0;34m\u001b[0m\u001b[0;34m\u001b[0m\u001b[0m\n\u001b[1;32m      7\u001b[0m \u001b[0;34m\u001b[0m\u001b[0m\n",
            "\u001b[0;32m<ipython-input-134-deae2e02ac57>\u001b[0m in \u001b[0;36moutlierVote\u001b[0;34m(data)\u001b[0m\n\u001b[1;32m      5\u001b[0m     \u001b[0mtemp\u001b[0m \u001b[0;34m=\u001b[0m \u001b[0mzip\u001b[0m\u001b[0;34m(\u001b[0m\u001b[0mdata\u001b[0m\u001b[0;34m.\u001b[0m\u001b[0mindex\u001b[0m\u001b[0;34m,\u001b[0m \u001b[0mx\u001b[0m\u001b[0;34m,\u001b[0m \u001b[0my\u001b[0m\u001b[0;34m,\u001b[0m \u001b[0mz\u001b[0m\u001b[0;34m)\u001b[0m\u001b[0;34m\u001b[0m\u001b[0;34m\u001b[0m\u001b[0m\n\u001b[1;32m      6\u001b[0m     \u001b[0mfinal\u001b[0m \u001b[0;34m=\u001b[0m \u001b[0;34m[\u001b[0m\u001b[0;34m]\u001b[0m\u001b[0;34m\u001b[0m\u001b[0;34m\u001b[0m\u001b[0m\n\u001b[0;32m----> 7\u001b[0;31m     \u001b[0;32mfor\u001b[0m \u001b[0mi\u001b[0m \u001b[0;32min\u001b[0m \u001b[0mrange\u001b[0m\u001b[0;34m(\u001b[0m\u001b[0mlen\u001b[0m\u001b[0;34m(\u001b[0m\u001b[0mtemp\u001b[0m\u001b[0;34m)\u001b[0m\u001b[0;34m)\u001b[0m\u001b[0;34m:\u001b[0m\u001b[0;34m\u001b[0m\u001b[0;34m\u001b[0m\u001b[0m\n\u001b[0m\u001b[1;32m      8\u001b[0m         \u001b[0;32mif\u001b[0m \u001b[0mtemp\u001b[0m\u001b[0;34m[\u001b[0m\u001b[0mi\u001b[0m\u001b[0;34m]\u001b[0m\u001b[0;34m.\u001b[0m\u001b[0mcount\u001b[0m\u001b[0;34m(\u001b[0m\u001b[0;32mFalse\u001b[0m\u001b[0;34m)\u001b[0m \u001b[0;34m>=\u001b[0m \u001b[0;36m2\u001b[0m\u001b[0;34m:\u001b[0m\u001b[0;34m\u001b[0m\u001b[0;34m\u001b[0m\u001b[0m\n\u001b[1;32m      9\u001b[0m             \u001b[0mfinal\u001b[0m\u001b[0;34m.\u001b[0m\u001b[0mappend\u001b[0m\u001b[0;34m(\u001b[0m\u001b[0;32mFalse\u001b[0m\u001b[0;34m)\u001b[0m\u001b[0;34m\u001b[0m\u001b[0;34m\u001b[0m\u001b[0m\n",
            "\u001b[0;31mTypeError\u001b[0m: object of type 'zip' has no len()"
          ]
        },
        {
          "output_type": "display_data",
          "data": {
            "image/png": "[encoded data removed]",
            "text/plain": [
              "<Figure size 432x288 with 4 Axes>"
            ]
          },
          "metadata": {
            "tags": []
          }
        }
      ]
    },
    {
      "cell_type": "code",
      "metadata": {
        "id": "zDE3KaEpxf2a",
        "outputId": "f25aacbc-9c2d-471d-8383-2174d62fda3a",
        "colab": {
          "base_uri": "https://localhost:8080/",
          "height": 575
        }
      },
      "source": [
        "plotOutlier(training_data.numberofopencreditlinesandloans.sample(1000))"
      ],
      "execution_count": 141,
      "outputs": [
        {
          "output_type": "error",
          "ename": "TypeError",
          "evalue": "ignored",
          "traceback": [
            "\u001b[0;31m---------------------------------------------------------------------------\u001b[0m",
            "\u001b[0;31mTypeError\u001b[0m                                 Traceback (most recent call last)",
            "\u001b[0;32m<ipython-input-141-633bef45717f>\u001b[0m in \u001b[0;36m<module>\u001b[0;34m()\u001b[0m\n\u001b[0;32m----> 1\u001b[0;31m \u001b[0mplotOutlier\u001b[0m\u001b[0;34m(\u001b[0m\u001b[0mtraining_data\u001b[0m\u001b[0;34m.\u001b[0m\u001b[0mnumberofopencreditlinesandloans\u001b[0m\u001b[0;34m.\u001b[0m\u001b[0msample\u001b[0m\u001b[0;34m(\u001b[0m\u001b[0;36m1000\u001b[0m\u001b[0;34m)\u001b[0m\u001b[0;34m)\u001b[0m\u001b[0;34m\u001b[0m\u001b[0;34m\u001b[0m\u001b[0m\n\u001b[0m",
            "\u001b[0;32m<ipython-input-135-37676760cfea>\u001b[0m in \u001b[0;36mplotOutlier\u001b[0;34m(x)\u001b[0m\n\u001b[1;32m      3\u001b[0m     \u001b[0;32mfor\u001b[0m \u001b[0max\u001b[0m\u001b[0;34m,\u001b[0m \u001b[0mfunc\u001b[0m \u001b[0;32min\u001b[0m \u001b[0mzip\u001b[0m\u001b[0;34m(\u001b[0m\u001b[0maxes\u001b[0m\u001b[0;34m,\u001b[0m \u001b[0;34m[\u001b[0m\u001b[0mpercentile_based_outlier\u001b[0m\u001b[0;34m,\u001b[0m \u001b[0mmad_based_outlier\u001b[0m\u001b[0;34m,\u001b[0m \u001b[0mstd_div\u001b[0m\u001b[0;34m,\u001b[0m \u001b[0moutlierVote\u001b[0m\u001b[0;34m]\u001b[0m\u001b[0;34m)\u001b[0m\u001b[0;34m:\u001b[0m\u001b[0;34m\u001b[0m\u001b[0;34m\u001b[0m\u001b[0m\n\u001b[1;32m      4\u001b[0m         \u001b[0msns\u001b[0m\u001b[0;34m.\u001b[0m\u001b[0mdistplot\u001b[0m\u001b[0;34m(\u001b[0m\u001b[0mx\u001b[0m\u001b[0;34m,\u001b[0m \u001b[0max\u001b[0m\u001b[0;34m=\u001b[0m\u001b[0max\u001b[0m\u001b[0;34m,\u001b[0m \u001b[0mrug\u001b[0m\u001b[0;34m=\u001b[0m\u001b[0;32mTrue\u001b[0m\u001b[0;34m,\u001b[0m \u001b[0mhist\u001b[0m\u001b[0;34m=\u001b[0m\u001b[0;32mFalse\u001b[0m\u001b[0;34m)\u001b[0m\u001b[0;34m\u001b[0m\u001b[0;34m\u001b[0m\u001b[0m\n\u001b[0;32m----> 5\u001b[0;31m         \u001b[0moutliers\u001b[0m \u001b[0;34m=\u001b[0m \u001b[0mx\u001b[0m\u001b[0;34m[\u001b[0m\u001b[0mfunc\u001b[0m\u001b[0;34m(\u001b[0m\u001b[0mx\u001b[0m\u001b[0;34m)\u001b[0m\u001b[0;34m]\u001b[0m\u001b[0;34m\u001b[0m\u001b[0;34m\u001b[0m\u001b[0m\n\u001b[0m\u001b[1;32m      6\u001b[0m         \u001b[0max\u001b[0m\u001b[0;34m.\u001b[0m\u001b[0mplot\u001b[0m\u001b[0;34m(\u001b[0m\u001b[0moutliers\u001b[0m\u001b[0;34m,\u001b[0m \u001b[0mnp\u001b[0m\u001b[0;34m.\u001b[0m\u001b[0mzeros_like\u001b[0m\u001b[0;34m(\u001b[0m\u001b[0moutliers\u001b[0m\u001b[0;34m)\u001b[0m\u001b[0;34m,\u001b[0m \u001b[0;34m'ro'\u001b[0m\u001b[0;34m,\u001b[0m \u001b[0mclip_on\u001b[0m\u001b[0;34m=\u001b[0m\u001b[0;32mFalse\u001b[0m\u001b[0;34m)\u001b[0m\u001b[0;34m\u001b[0m\u001b[0;34m\u001b[0m\u001b[0m\n\u001b[1;32m      7\u001b[0m \u001b[0;34m\u001b[0m\u001b[0m\n",
            "\u001b[0;32m<ipython-input-134-deae2e02ac57>\u001b[0m in \u001b[0;36moutlierVote\u001b[0;34m(data)\u001b[0m\n\u001b[1;32m      5\u001b[0m     \u001b[0mtemp\u001b[0m \u001b[0;34m=\u001b[0m \u001b[0mzip\u001b[0m\u001b[0;34m(\u001b[0m\u001b[0mdata\u001b[0m\u001b[0;34m.\u001b[0m\u001b[0mindex\u001b[0m\u001b[0;34m,\u001b[0m \u001b[0mx\u001b[0m\u001b[0;34m,\u001b[0m \u001b[0my\u001b[0m\u001b[0;34m,\u001b[0m \u001b[0mz\u001b[0m\u001b[0;34m)\u001b[0m\u001b[0;34m\u001b[0m\u001b[0;34m\u001b[0m\u001b[0m\n\u001b[1;32m      6\u001b[0m     \u001b[0mfinal\u001b[0m \u001b[0;34m=\u001b[0m \u001b[0;34m[\u001b[0m\u001b[0;34m]\u001b[0m\u001b[0;34m\u001b[0m\u001b[0;34m\u001b[0m\u001b[0m\n\u001b[0;32m----> 7\u001b[0;31m     \u001b[0;32mfor\u001b[0m \u001b[0mi\u001b[0m \u001b[0;32min\u001b[0m \u001b[0mrange\u001b[0m\u001b[0;34m(\u001b[0m\u001b[0mlen\u001b[0m\u001b[0;34m(\u001b[0m\u001b[0mtemp\u001b[0m\u001b[0;34m)\u001b[0m\u001b[0;34m)\u001b[0m\u001b[0;34m:\u001b[0m\u001b[0;34m\u001b[0m\u001b[0;34m\u001b[0m\u001b[0m\n\u001b[0m\u001b[1;32m      8\u001b[0m         \u001b[0;32mif\u001b[0m \u001b[0mtemp\u001b[0m\u001b[0;34m[\u001b[0m\u001b[0mi\u001b[0m\u001b[0;34m]\u001b[0m\u001b[0;34m.\u001b[0m\u001b[0mcount\u001b[0m\u001b[0;34m(\u001b[0m\u001b[0;32mFalse\u001b[0m\u001b[0;34m)\u001b[0m \u001b[0;34m>=\u001b[0m \u001b[0;36m2\u001b[0m\u001b[0;34m:\u001b[0m\u001b[0;34m\u001b[0m\u001b[0;34m\u001b[0m\u001b[0m\n\u001b[1;32m      9\u001b[0m             \u001b[0mfinal\u001b[0m\u001b[0;34m.\u001b[0m\u001b[0mappend\u001b[0m\u001b[0;34m(\u001b[0m\u001b[0;32mFalse\u001b[0m\u001b[0;34m)\u001b[0m\u001b[0;34m\u001b[0m\u001b[0;34m\u001b[0m\u001b[0m\n",
            "\u001b[0;31mTypeError\u001b[0m: object of type 'zip' has no len()"
          ]
        },
        {
          "output_type": "display_data",
          "data": {
            "image/png": "[encoded data removed]",
            "text/plain": [
              "<Figure size 432x288 with 4 Axes>"
            ]
          },
          "metadata": {
            "tags": []
          }
        }
      ]
    },
    {
      "cell_type": "code",
      "metadata": {
        "id": "JfA3WbN3xf-q",
        "outputId": "8ae9a516-8451-466c-e482-7483572288cd",
        "colab": {
          "base_uri": "https://localhost:8080/",
          "height": 575
        }
      },
      "source": [
        "plotOutlier(training_data.numberoftimes90dayslate.sample(1000))"
      ],
      "execution_count": 142,
      "outputs": [
        {
          "output_type": "error",
          "ename": "TypeError",
          "evalue": "ignored",
          "traceback": [
            "\u001b[0;31m---------------------------------------------------------------------------\u001b[0m",
            "\u001b[0;31mTypeError\u001b[0m                                 Traceback (most recent call last)",
            "\u001b[0;32m<ipython-input-142-0e73e9eaddc3>\u001b[0m in \u001b[0;36m<module>\u001b[0;34m()\u001b[0m\n\u001b[0;32m----> 1\u001b[0;31m \u001b[0mplotOutlier\u001b[0m\u001b[0;34m(\u001b[0m\u001b[0mtraining_data\u001b[0m\u001b[0;34m.\u001b[0m\u001b[0mnumberoftimes90dayslate\u001b[0m\u001b[0;34m.\u001b[0m\u001b[0msample\u001b[0m\u001b[0;34m(\u001b[0m\u001b[0;36m1000\u001b[0m\u001b[0;34m)\u001b[0m\u001b[0;34m)\u001b[0m\u001b[0;34m\u001b[0m\u001b[0;34m\u001b[0m\u001b[0m\n\u001b[0m",
            "\u001b[0;32m<ipython-input-135-37676760cfea>\u001b[0m in \u001b[0;36mplotOutlier\u001b[0;34m(x)\u001b[0m\n\u001b[1;32m      3\u001b[0m     \u001b[0;32mfor\u001b[0m \u001b[0max\u001b[0m\u001b[0;34m,\u001b[0m \u001b[0mfunc\u001b[0m \u001b[0;32min\u001b[0m \u001b[0mzip\u001b[0m\u001b[0;34m(\u001b[0m\u001b[0maxes\u001b[0m\u001b[0;34m,\u001b[0m \u001b[0;34m[\u001b[0m\u001b[0mpercentile_based_outlier\u001b[0m\u001b[0;34m,\u001b[0m \u001b[0mmad_based_outlier\u001b[0m\u001b[0;34m,\u001b[0m \u001b[0mstd_div\u001b[0m\u001b[0;34m,\u001b[0m \u001b[0moutlierVote\u001b[0m\u001b[0;34m]\u001b[0m\u001b[0;34m)\u001b[0m\u001b[0;34m:\u001b[0m\u001b[0;34m\u001b[0m\u001b[0;34m\u001b[0m\u001b[0m\n\u001b[1;32m      4\u001b[0m         \u001b[0msns\u001b[0m\u001b[0;34m.\u001b[0m\u001b[0mdistplot\u001b[0m\u001b[0;34m(\u001b[0m\u001b[0mx\u001b[0m\u001b[0;34m,\u001b[0m \u001b[0max\u001b[0m\u001b[0;34m=\u001b[0m\u001b[0max\u001b[0m\u001b[0;34m,\u001b[0m \u001b[0mrug\u001b[0m\u001b[0;34m=\u001b[0m\u001b[0;32mTrue\u001b[0m\u001b[0;34m,\u001b[0m \u001b[0mhist\u001b[0m\u001b[0;34m=\u001b[0m\u001b[0;32mFalse\u001b[0m\u001b[0;34m)\u001b[0m\u001b[0;34m\u001b[0m\u001b[0;34m\u001b[0m\u001b[0m\n\u001b[0;32m----> 5\u001b[0;31m         \u001b[0moutliers\u001b[0m \u001b[0;34m=\u001b[0m \u001b[0mx\u001b[0m\u001b[0;34m[\u001b[0m\u001b[0mfunc\u001b[0m\u001b[0;34m(\u001b[0m\u001b[0mx\u001b[0m\u001b[0;34m)\u001b[0m\u001b[0;34m]\u001b[0m\u001b[0;34m\u001b[0m\u001b[0;34m\u001b[0m\u001b[0m\n\u001b[0m\u001b[1;32m      6\u001b[0m         \u001b[0max\u001b[0m\u001b[0;34m.\u001b[0m\u001b[0mplot\u001b[0m\u001b[0;34m(\u001b[0m\u001b[0moutliers\u001b[0m\u001b[0;34m,\u001b[0m \u001b[0mnp\u001b[0m\u001b[0;34m.\u001b[0m\u001b[0mzeros_like\u001b[0m\u001b[0;34m(\u001b[0m\u001b[0moutliers\u001b[0m\u001b[0;34m)\u001b[0m\u001b[0;34m,\u001b[0m \u001b[0;34m'ro'\u001b[0m\u001b[0;34m,\u001b[0m \u001b[0mclip_on\u001b[0m\u001b[0;34m=\u001b[0m\u001b[0;32mFalse\u001b[0m\u001b[0;34m)\u001b[0m\u001b[0;34m\u001b[0m\u001b[0;34m\u001b[0m\u001b[0m\n\u001b[1;32m      7\u001b[0m \u001b[0;34m\u001b[0m\u001b[0m\n",
            "\u001b[0;32m<ipython-input-134-deae2e02ac57>\u001b[0m in \u001b[0;36moutlierVote\u001b[0;34m(data)\u001b[0m\n\u001b[1;32m      5\u001b[0m     \u001b[0mtemp\u001b[0m \u001b[0;34m=\u001b[0m \u001b[0mzip\u001b[0m\u001b[0;34m(\u001b[0m\u001b[0mdata\u001b[0m\u001b[0;34m.\u001b[0m\u001b[0mindex\u001b[0m\u001b[0;34m,\u001b[0m \u001b[0mx\u001b[0m\u001b[0;34m,\u001b[0m \u001b[0my\u001b[0m\u001b[0;34m,\u001b[0m \u001b[0mz\u001b[0m\u001b[0;34m)\u001b[0m\u001b[0;34m\u001b[0m\u001b[0;34m\u001b[0m\u001b[0m\n\u001b[1;32m      6\u001b[0m     \u001b[0mfinal\u001b[0m \u001b[0;34m=\u001b[0m \u001b[0;34m[\u001b[0m\u001b[0;34m]\u001b[0m\u001b[0;34m\u001b[0m\u001b[0;34m\u001b[0m\u001b[0m\n\u001b[0;32m----> 7\u001b[0;31m     \u001b[0;32mfor\u001b[0m \u001b[0mi\u001b[0m \u001b[0;32min\u001b[0m \u001b[0mrange\u001b[0m\u001b[0;34m(\u001b[0m\u001b[0mlen\u001b[0m\u001b[0;34m(\u001b[0m\u001b[0mtemp\u001b[0m\u001b[0;34m)\u001b[0m\u001b[0;34m)\u001b[0m\u001b[0;34m:\u001b[0m\u001b[0;34m\u001b[0m\u001b[0;34m\u001b[0m\u001b[0m\n\u001b[0m\u001b[1;32m      8\u001b[0m         \u001b[0;32mif\u001b[0m \u001b[0mtemp\u001b[0m\u001b[0;34m[\u001b[0m\u001b[0mi\u001b[0m\u001b[0;34m]\u001b[0m\u001b[0;34m.\u001b[0m\u001b[0mcount\u001b[0m\u001b[0;34m(\u001b[0m\u001b[0;32mFalse\u001b[0m\u001b[0;34m)\u001b[0m \u001b[0;34m>=\u001b[0m \u001b[0;36m2\u001b[0m\u001b[0;34m:\u001b[0m\u001b[0;34m\u001b[0m\u001b[0;34m\u001b[0m\u001b[0m\n\u001b[1;32m      9\u001b[0m             \u001b[0mfinal\u001b[0m\u001b[0;34m.\u001b[0m\u001b[0mappend\u001b[0m\u001b[0;34m(\u001b[0m\u001b[0;32mFalse\u001b[0m\u001b[0;34m)\u001b[0m\u001b[0;34m\u001b[0m\u001b[0;34m\u001b[0m\u001b[0m\n",
            "\u001b[0;31mTypeError\u001b[0m: object of type 'zip' has no len()"
          ]
        },
        {
          "output_type": "display_data",
          "data": {
            "image/png": "[encoded data removed]",
            "text/plain": [
              "<Figure size 432x288 with 4 Axes>"
            ]
          },
          "metadata": {
            "tags": []
          }
        }
      ]
    },
    {
      "cell_type": "code",
      "metadata": {
        "id": "XZnoSnlVxf7o",
        "outputId": "0a52cde7-11fa-40d7-efaf-316cfd86e8c4",
        "colab": {
          "base_uri": "https://localhost:8080/",
          "height": 575
        }
      },
      "source": [
        "plotOutlier(training_data.numberrealestateloansorlines.sample(1000))"
      ],
      "execution_count": 143,
      "outputs": [
        {
          "output_type": "error",
          "ename": "TypeError",
          "evalue": "ignored",
          "traceback": [
            "\u001b[0;31m---------------------------------------------------------------------------\u001b[0m",
            "\u001b[0;31mTypeError\u001b[0m                                 Traceback (most recent call last)",
            "\u001b[0;32m<ipython-input-143-a1c9d13b7633>\u001b[0m in \u001b[0;36m<module>\u001b[0;34m()\u001b[0m\n\u001b[0;32m----> 1\u001b[0;31m \u001b[0mplotOutlier\u001b[0m\u001b[0;34m(\u001b[0m\u001b[0mtraining_data\u001b[0m\u001b[0;34m.\u001b[0m\u001b[0mnumberrealestateloansorlines\u001b[0m\u001b[0;34m.\u001b[0m\u001b[0msample\u001b[0m\u001b[0;34m(\u001b[0m\u001b[0;36m1000\u001b[0m\u001b[0;34m)\u001b[0m\u001b[0;34m)\u001b[0m\u001b[0;34m\u001b[0m\u001b[0;34m\u001b[0m\u001b[0m\n\u001b[0m",
            "\u001b[0;32m<ipython-input-135-37676760cfea>\u001b[0m in \u001b[0;36mplotOutlier\u001b[0;34m(x)\u001b[0m\n\u001b[1;32m      3\u001b[0m     \u001b[0;32mfor\u001b[0m \u001b[0max\u001b[0m\u001b[0;34m,\u001b[0m \u001b[0mfunc\u001b[0m \u001b[0;32min\u001b[0m \u001b[0mzip\u001b[0m\u001b[0;34m(\u001b[0m\u001b[0maxes\u001b[0m\u001b[0;34m,\u001b[0m \u001b[0;34m[\u001b[0m\u001b[0mpercentile_based_outlier\u001b[0m\u001b[0;34m,\u001b[0m \u001b[0mmad_based_outlier\u001b[0m\u001b[0;34m,\u001b[0m \u001b[0mstd_div\u001b[0m\u001b[0;34m,\u001b[0m \u001b[0moutlierVote\u001b[0m\u001b[0;34m]\u001b[0m\u001b[0;34m)\u001b[0m\u001b[0;34m:\u001b[0m\u001b[0;34m\u001b[0m\u001b[0;34m\u001b[0m\u001b[0m\n\u001b[1;32m      4\u001b[0m         \u001b[0msns\u001b[0m\u001b[0;34m.\u001b[0m\u001b[0mdistplot\u001b[0m\u001b[0;34m(\u001b[0m\u001b[0mx\u001b[0m\u001b[0;34m,\u001b[0m \u001b[0max\u001b[0m\u001b[0;34m=\u001b[0m\u001b[0max\u001b[0m\u001b[0;34m,\u001b[0m \u001b[0mrug\u001b[0m\u001b[0;34m=\u001b[0m\u001b[0;32mTrue\u001b[0m\u001b[0;34m,\u001b[0m \u001b[0mhist\u001b[0m\u001b[0;34m=\u001b[0m\u001b[0;32mFalse\u001b[0m\u001b[0;34m)\u001b[0m\u001b[0;34m\u001b[0m\u001b[0;34m\u001b[0m\u001b[0m\n\u001b[0;32m----> 5\u001b[0;31m         \u001b[0moutliers\u001b[0m \u001b[0;34m=\u001b[0m \u001b[0mx\u001b[0m\u001b[0;34m[\u001b[0m\u001b[0mfunc\u001b[0m\u001b[0;34m(\u001b[0m\u001b[0mx\u001b[0m\u001b[0;34m)\u001b[0m\u001b[0;34m]\u001b[0m\u001b[0;34m\u001b[0m\u001b[0;34m\u001b[0m\u001b[0m\n\u001b[0m\u001b[1;32m      6\u001b[0m         \u001b[0max\u001b[0m\u001b[0;34m.\u001b[0m\u001b[0mplot\u001b[0m\u001b[0;34m(\u001b[0m\u001b[0moutliers\u001b[0m\u001b[0;34m,\u001b[0m \u001b[0mnp\u001b[0m\u001b[0;34m.\u001b[0m\u001b[0mzeros_like\u001b[0m\u001b[0;34m(\u001b[0m\u001b[0moutliers\u001b[0m\u001b[0;34m)\u001b[0m\u001b[0;34m,\u001b[0m \u001b[0;34m'ro'\u001b[0m\u001b[0;34m,\u001b[0m \u001b[0mclip_on\u001b[0m\u001b[0;34m=\u001b[0m\u001b[0;32mFalse\u001b[0m\u001b[0;34m)\u001b[0m\u001b[0;34m\u001b[0m\u001b[0;34m\u001b[0m\u001b[0m\n\u001b[1;32m      7\u001b[0m \u001b[0;34m\u001b[0m\u001b[0m\n",
            "\u001b[0;32m<ipython-input-134-deae2e02ac57>\u001b[0m in \u001b[0;36moutlierVote\u001b[0;34m(data)\u001b[0m\n\u001b[1;32m      5\u001b[0m     \u001b[0mtemp\u001b[0m \u001b[0;34m=\u001b[0m \u001b[0mzip\u001b[0m\u001b[0;34m(\u001b[0m\u001b[0mdata\u001b[0m\u001b[0;34m.\u001b[0m\u001b[0mindex\u001b[0m\u001b[0;34m,\u001b[0m \u001b[0mx\u001b[0m\u001b[0;34m,\u001b[0m \u001b[0my\u001b[0m\u001b[0;34m,\u001b[0m \u001b[0mz\u001b[0m\u001b[0;34m)\u001b[0m\u001b[0;34m\u001b[0m\u001b[0;34m\u001b[0m\u001b[0m\n\u001b[1;32m      6\u001b[0m     \u001b[0mfinal\u001b[0m \u001b[0;34m=\u001b[0m \u001b[0;34m[\u001b[0m\u001b[0;34m]\u001b[0m\u001b[0;34m\u001b[0m\u001b[0;34m\u001b[0m\u001b[0m\n\u001b[0;32m----> 7\u001b[0;31m     \u001b[0;32mfor\u001b[0m \u001b[0mi\u001b[0m \u001b[0;32min\u001b[0m \u001b[0mrange\u001b[0m\u001b[0;34m(\u001b[0m\u001b[0mlen\u001b[0m\u001b[0;34m(\u001b[0m\u001b[0mtemp\u001b[0m\u001b[0;34m)\u001b[0m\u001b[0;34m)\u001b[0m\u001b[0;34m:\u001b[0m\u001b[0;34m\u001b[0m\u001b[0;34m\u001b[0m\u001b[0m\n\u001b[0m\u001b[1;32m      8\u001b[0m         \u001b[0;32mif\u001b[0m \u001b[0mtemp\u001b[0m\u001b[0;34m[\u001b[0m\u001b[0mi\u001b[0m\u001b[0;34m]\u001b[0m\u001b[0;34m.\u001b[0m\u001b[0mcount\u001b[0m\u001b[0;34m(\u001b[0m\u001b[0;32mFalse\u001b[0m\u001b[0;34m)\u001b[0m \u001b[0;34m>=\u001b[0m \u001b[0;36m2\u001b[0m\u001b[0;34m:\u001b[0m\u001b[0;34m\u001b[0m\u001b[0;34m\u001b[0m\u001b[0m\n\u001b[1;32m      9\u001b[0m             \u001b[0mfinal\u001b[0m\u001b[0;34m.\u001b[0m\u001b[0mappend\u001b[0m\u001b[0;34m(\u001b[0m\u001b[0;32mFalse\u001b[0m\u001b[0;34m)\u001b[0m\u001b[0;34m\u001b[0m\u001b[0;34m\u001b[0m\u001b[0m\n",
            "\u001b[0;31mTypeError\u001b[0m: object of type 'zip' has no len()"
          ]
        },
        {
          "output_type": "display_data",
          "data": {
            "image/png": "[encoded data removed]",
            "text/plain": [
              "<Figure size 432x288 with 4 Axes>"
            ]
          },
          "metadata": {
            "tags": []
          }
        }
      ]
    },
    {
      "cell_type": "code",
      "metadata": {
        "id": "x4smRgB3xf5s",
        "outputId": "3c9ef0e2-39a5-40bf-8f21-6530546a7225",
        "colab": {
          "base_uri": "https://localhost:8080/",
          "height": 575
        }
      },
      "source": [
        "plotOutlier(training_data.numberoftime6089dayspastduenotworse.sample(1000))"
      ],
      "execution_count": 144,
      "outputs": [
        {
          "output_type": "error",
          "ename": "TypeError",
          "evalue": "ignored",
          "traceback": [
            "\u001b[0;31m---------------------------------------------------------------------------\u001b[0m",
            "\u001b[0;31mTypeError\u001b[0m                                 Traceback (most recent call last)",
            "\u001b[0;32m<ipython-input-144-29d28486a0ed>\u001b[0m in \u001b[0;36m<module>\u001b[0;34m()\u001b[0m\n\u001b[0;32m----> 1\u001b[0;31m \u001b[0mplotOutlier\u001b[0m\u001b[0;34m(\u001b[0m\u001b[0mtraining_data\u001b[0m\u001b[0;34m.\u001b[0m\u001b[0mnumberoftime6089dayspastduenotworse\u001b[0m\u001b[0;34m.\u001b[0m\u001b[0msample\u001b[0m\u001b[0;34m(\u001b[0m\u001b[0;36m1000\u001b[0m\u001b[0;34m)\u001b[0m\u001b[0;34m)\u001b[0m\u001b[0;34m\u001b[0m\u001b[0;34m\u001b[0m\u001b[0m\n\u001b[0m",
            "\u001b[0;32m<ipython-input-135-37676760cfea>\u001b[0m in \u001b[0;36mplotOutlier\u001b[0;34m(x)\u001b[0m\n\u001b[1;32m      3\u001b[0m     \u001b[0;32mfor\u001b[0m \u001b[0max\u001b[0m\u001b[0;34m,\u001b[0m \u001b[0mfunc\u001b[0m \u001b[0;32min\u001b[0m \u001b[0mzip\u001b[0m\u001b[0;34m(\u001b[0m\u001b[0maxes\u001b[0m\u001b[0;34m,\u001b[0m \u001b[0;34m[\u001b[0m\u001b[0mpercentile_based_outlier\u001b[0m\u001b[0;34m,\u001b[0m \u001b[0mmad_based_outlier\u001b[0m\u001b[0;34m,\u001b[0m \u001b[0mstd_div\u001b[0m\u001b[0;34m,\u001b[0m \u001b[0moutlierVote\u001b[0m\u001b[0;34m]\u001b[0m\u001b[0;34m)\u001b[0m\u001b[0;34m:\u001b[0m\u001b[0;34m\u001b[0m\u001b[0;34m\u001b[0m\u001b[0m\n\u001b[1;32m      4\u001b[0m         \u001b[0msns\u001b[0m\u001b[0;34m.\u001b[0m\u001b[0mdistplot\u001b[0m\u001b[0;34m(\u001b[0m\u001b[0mx\u001b[0m\u001b[0;34m,\u001b[0m \u001b[0max\u001b[0m\u001b[0;34m=\u001b[0m\u001b[0max\u001b[0m\u001b[0;34m,\u001b[0m \u001b[0mrug\u001b[0m\u001b[0;34m=\u001b[0m\u001b[0;32mTrue\u001b[0m\u001b[0;34m,\u001b[0m \u001b[0mhist\u001b[0m\u001b[0;34m=\u001b[0m\u001b[0;32mFalse\u001b[0m\u001b[0;34m)\u001b[0m\u001b[0;34m\u001b[0m\u001b[0;34m\u001b[0m\u001b[0m\n\u001b[0;32m----> 5\u001b[0;31m         \u001b[0moutliers\u001b[0m \u001b[0;34m=\u001b[0m \u001b[0mx\u001b[0m\u001b[0;34m[\u001b[0m\u001b[0mfunc\u001b[0m\u001b[0;34m(\u001b[0m\u001b[0mx\u001b[0m\u001b[0;34m)\u001b[0m\u001b[0;34m]\u001b[0m\u001b[0;34m\u001b[0m\u001b[0;34m\u001b[0m\u001b[0m\n\u001b[0m\u001b[1;32m      6\u001b[0m         \u001b[0max\u001b[0m\u001b[0;34m.\u001b[0m\u001b[0mplot\u001b[0m\u001b[0;34m(\u001b[0m\u001b[0moutliers\u001b[0m\u001b[0;34m,\u001b[0m \u001b[0mnp\u001b[0m\u001b[0;34m.\u001b[0m\u001b[0mzeros_like\u001b[0m\u001b[0;34m(\u001b[0m\u001b[0moutliers\u001b[0m\u001b[0;34m)\u001b[0m\u001b[0;34m,\u001b[0m \u001b[0;34m'ro'\u001b[0m\u001b[0;34m,\u001b[0m \u001b[0mclip_on\u001b[0m\u001b[0;34m=\u001b[0m\u001b[0;32mFalse\u001b[0m\u001b[0;34m)\u001b[0m\u001b[0;34m\u001b[0m\u001b[0;34m\u001b[0m\u001b[0m\n\u001b[1;32m      7\u001b[0m \u001b[0;34m\u001b[0m\u001b[0m\n",
            "\u001b[0;32m<ipython-input-134-deae2e02ac57>\u001b[0m in \u001b[0;36moutlierVote\u001b[0;34m(data)\u001b[0m\n\u001b[1;32m      5\u001b[0m     \u001b[0mtemp\u001b[0m \u001b[0;34m=\u001b[0m \u001b[0mzip\u001b[0m\u001b[0;34m(\u001b[0m\u001b[0mdata\u001b[0m\u001b[0;34m.\u001b[0m\u001b[0mindex\u001b[0m\u001b[0;34m,\u001b[0m \u001b[0mx\u001b[0m\u001b[0;34m,\u001b[0m \u001b[0my\u001b[0m\u001b[0;34m,\u001b[0m \u001b[0mz\u001b[0m\u001b[0;34m)\u001b[0m\u001b[0;34m\u001b[0m\u001b[0;34m\u001b[0m\u001b[0m\n\u001b[1;32m      6\u001b[0m     \u001b[0mfinal\u001b[0m \u001b[0;34m=\u001b[0m \u001b[0;34m[\u001b[0m\u001b[0;34m]\u001b[0m\u001b[0;34m\u001b[0m\u001b[0;34m\u001b[0m\u001b[0m\n\u001b[0;32m----> 7\u001b[0;31m     \u001b[0;32mfor\u001b[0m \u001b[0mi\u001b[0m \u001b[0;32min\u001b[0m \u001b[0mrange\u001b[0m\u001b[0;34m(\u001b[0m\u001b[0mlen\u001b[0m\u001b[0;34m(\u001b[0m\u001b[0mtemp\u001b[0m\u001b[0;34m)\u001b[0m\u001b[0;34m)\u001b[0m\u001b[0;34m:\u001b[0m\u001b[0;34m\u001b[0m\u001b[0;34m\u001b[0m\u001b[0m\n\u001b[0m\u001b[1;32m      8\u001b[0m         \u001b[0;32mif\u001b[0m \u001b[0mtemp\u001b[0m\u001b[0;34m[\u001b[0m\u001b[0mi\u001b[0m\u001b[0;34m]\u001b[0m\u001b[0;34m.\u001b[0m\u001b[0mcount\u001b[0m\u001b[0;34m(\u001b[0m\u001b[0;32mFalse\u001b[0m\u001b[0;34m)\u001b[0m \u001b[0;34m>=\u001b[0m \u001b[0;36m2\u001b[0m\u001b[0;34m:\u001b[0m\u001b[0;34m\u001b[0m\u001b[0;34m\u001b[0m\u001b[0m\n\u001b[1;32m      9\u001b[0m             \u001b[0mfinal\u001b[0m\u001b[0;34m.\u001b[0m\u001b[0mappend\u001b[0m\u001b[0;34m(\u001b[0m\u001b[0;32mFalse\u001b[0m\u001b[0;34m)\u001b[0m\u001b[0;34m\u001b[0m\u001b[0;34m\u001b[0m\u001b[0m\n",
            "\u001b[0;31mTypeError\u001b[0m: object of type 'zip' has no len()"
          ]
        },
        {
          "output_type": "display_data",
          "data": {
            "image/png": "[encoded data removed]",
            "text/plain": [
              "<Figure size 432x288 with 4 Axes>"
            ]
          },
          "metadata": {
            "tags": []
          }
        }
      ]
    },
    {
      "cell_type": "code",
      "metadata": {
        "id": "q_e6rVSLxnPl",
        "outputId": "1b17878d-727c-4f92-de52-945f5467b25f",
        "colab": {
          "base_uri": "https://localhost:8080/",
          "height": 575
        }
      },
      "source": [
        "plotOutlier(training_data.numberofdependents.sample(1000))"
      ],
      "execution_count": 145,
      "outputs": [
        {
          "output_type": "error",
          "ename": "TypeError",
          "evalue": "ignored",
          "traceback": [
            "\u001b[0;31m---------------------------------------------------------------------------\u001b[0m",
            "\u001b[0;31mTypeError\u001b[0m                                 Traceback (most recent call last)",
            "\u001b[0;32m<ipython-input-145-aa8e33b0c340>\u001b[0m in \u001b[0;36m<module>\u001b[0;34m()\u001b[0m\n\u001b[0;32m----> 1\u001b[0;31m \u001b[0mplotOutlier\u001b[0m\u001b[0;34m(\u001b[0m\u001b[0mtraining_data\u001b[0m\u001b[0;34m.\u001b[0m\u001b[0mnumberofdependents\u001b[0m\u001b[0;34m.\u001b[0m\u001b[0msample\u001b[0m\u001b[0;34m(\u001b[0m\u001b[0;36m1000\u001b[0m\u001b[0;34m)\u001b[0m\u001b[0;34m)\u001b[0m\u001b[0;34m\u001b[0m\u001b[0;34m\u001b[0m\u001b[0m\n\u001b[0m",
            "\u001b[0;32m<ipython-input-135-37676760cfea>\u001b[0m in \u001b[0;36mplotOutlier\u001b[0;34m(x)\u001b[0m\n\u001b[1;32m      3\u001b[0m     \u001b[0;32mfor\u001b[0m \u001b[0max\u001b[0m\u001b[0;34m,\u001b[0m \u001b[0mfunc\u001b[0m \u001b[0;32min\u001b[0m \u001b[0mzip\u001b[0m\u001b[0;34m(\u001b[0m\u001b[0maxes\u001b[0m\u001b[0;34m,\u001b[0m \u001b[0;34m[\u001b[0m\u001b[0mpercentile_based_outlier\u001b[0m\u001b[0;34m,\u001b[0m \u001b[0mmad_based_outlier\u001b[0m\u001b[0;34m,\u001b[0m \u001b[0mstd_div\u001b[0m\u001b[0;34m,\u001b[0m \u001b[0moutlierVote\u001b[0m\u001b[0;34m]\u001b[0m\u001b[0;34m)\u001b[0m\u001b[0;34m:\u001b[0m\u001b[0;34m\u001b[0m\u001b[0;34m\u001b[0m\u001b[0m\n\u001b[1;32m      4\u001b[0m         \u001b[0msns\u001b[0m\u001b[0;34m.\u001b[0m\u001b[0mdistplot\u001b[0m\u001b[0;34m(\u001b[0m\u001b[0mx\u001b[0m\u001b[0;34m,\u001b[0m \u001b[0max\u001b[0m\u001b[0;34m=\u001b[0m\u001b[0max\u001b[0m\u001b[0;34m,\u001b[0m \u001b[0mrug\u001b[0m\u001b[0;34m=\u001b[0m\u001b[0;32mTrue\u001b[0m\u001b[0;34m,\u001b[0m \u001b[0mhist\u001b[0m\u001b[0;34m=\u001b[0m\u001b[0;32mFalse\u001b[0m\u001b[0;34m)\u001b[0m\u001b[0;34m\u001b[0m\u001b[0;34m\u001b[0m\u001b[0m\n\u001b[0;32m----> 5\u001b[0;31m         \u001b[0moutliers\u001b[0m \u001b[0;34m=\u001b[0m \u001b[0mx\u001b[0m\u001b[0;34m[\u001b[0m\u001b[0mfunc\u001b[0m\u001b[0;34m(\u001b[0m\u001b[0mx\u001b[0m\u001b[0;34m)\u001b[0m\u001b[0;34m]\u001b[0m\u001b[0;34m\u001b[0m\u001b[0;34m\u001b[0m\u001b[0m\n\u001b[0m\u001b[1;32m      6\u001b[0m         \u001b[0max\u001b[0m\u001b[0;34m.\u001b[0m\u001b[0mplot\u001b[0m\u001b[0;34m(\u001b[0m\u001b[0moutliers\u001b[0m\u001b[0;34m,\u001b[0m \u001b[0mnp\u001b[0m\u001b[0;34m.\u001b[0m\u001b[0mzeros_like\u001b[0m\u001b[0;34m(\u001b[0m\u001b[0moutliers\u001b[0m\u001b[0;34m)\u001b[0m\u001b[0;34m,\u001b[0m \u001b[0;34m'ro'\u001b[0m\u001b[0;34m,\u001b[0m \u001b[0mclip_on\u001b[0m\u001b[0;34m=\u001b[0m\u001b[0;32mFalse\u001b[0m\u001b[0;34m)\u001b[0m\u001b[0;34m\u001b[0m\u001b[0;34m\u001b[0m\u001b[0m\n\u001b[1;32m      7\u001b[0m \u001b[0;34m\u001b[0m\u001b[0m\n",
            "\u001b[0;32m<ipython-input-134-deae2e02ac57>\u001b[0m in \u001b[0;36moutlierVote\u001b[0;34m(data)\u001b[0m\n\u001b[1;32m      5\u001b[0m     \u001b[0mtemp\u001b[0m \u001b[0;34m=\u001b[0m \u001b[0mzip\u001b[0m\u001b[0;34m(\u001b[0m\u001b[0mdata\u001b[0m\u001b[0;34m.\u001b[0m\u001b[0mindex\u001b[0m\u001b[0;34m,\u001b[0m \u001b[0mx\u001b[0m\u001b[0;34m,\u001b[0m \u001b[0my\u001b[0m\u001b[0;34m,\u001b[0m \u001b[0mz\u001b[0m\u001b[0;34m)\u001b[0m\u001b[0;34m\u001b[0m\u001b[0;34m\u001b[0m\u001b[0m\n\u001b[1;32m      6\u001b[0m     \u001b[0mfinal\u001b[0m \u001b[0;34m=\u001b[0m \u001b[0;34m[\u001b[0m\u001b[0;34m]\u001b[0m\u001b[0;34m\u001b[0m\u001b[0;34m\u001b[0m\u001b[0m\n\u001b[0;32m----> 7\u001b[0;31m     \u001b[0;32mfor\u001b[0m \u001b[0mi\u001b[0m \u001b[0;32min\u001b[0m \u001b[0mrange\u001b[0m\u001b[0;34m(\u001b[0m\u001b[0mlen\u001b[0m\u001b[0;34m(\u001b[0m\u001b[0mtemp\u001b[0m\u001b[0;34m)\u001b[0m\u001b[0;34m)\u001b[0m\u001b[0;34m:\u001b[0m\u001b[0;34m\u001b[0m\u001b[0;34m\u001b[0m\u001b[0m\n\u001b[0m\u001b[1;32m      8\u001b[0m         \u001b[0;32mif\u001b[0m \u001b[0mtemp\u001b[0m\u001b[0;34m[\u001b[0m\u001b[0mi\u001b[0m\u001b[0;34m]\u001b[0m\u001b[0;34m.\u001b[0m\u001b[0mcount\u001b[0m\u001b[0;34m(\u001b[0m\u001b[0;32mFalse\u001b[0m\u001b[0;34m)\u001b[0m \u001b[0;34m>=\u001b[0m \u001b[0;36m2\u001b[0m\u001b[0;34m:\u001b[0m\u001b[0;34m\u001b[0m\u001b[0;34m\u001b[0m\u001b[0m\n\u001b[1;32m      9\u001b[0m             \u001b[0mfinal\u001b[0m\u001b[0;34m.\u001b[0m\u001b[0mappend\u001b[0m\u001b[0;34m(\u001b[0m\u001b[0;32mFalse\u001b[0m\u001b[0;34m)\u001b[0m\u001b[0;34m\u001b[0m\u001b[0;34m\u001b[0m\u001b[0m\n",
            "\u001b[0;31mTypeError\u001b[0m: object of type 'zip' has no len()"
          ]
        },
        {
          "output_type": "display_data",
          "data": {
            "image/png": "[encoded data removed]",
            "text/plain": [
              "<Figure size 432x288 with 4 Axes>"
            ]
          },
          "metadata": {
            "tags": []
          }
        }
      ]
    },
    {
      "cell_type": "code",
      "metadata": {
        "id": "BEKiAUUhxnb5"
      },
      "source": [
        "# OUTLIER \n",
        "revNew = []\n",
        "training_data.revolvingutilizationofunsecuredlines\n",
        "for val in training_data.revolvingutilizationofunsecuredlines:\n",
        "    if val <= 0.99999:\n",
        "        revNew.append(val)\n",
        "    else:\n",
        "        revNew.append(0.99999)\n",
        "training_data.revolvingutilizationofunsecuredlines = revNew"
      ],
      "execution_count": 146,
      "outputs": []
    },
    {
      "cell_type": "code",
      "metadata": {
        "id": "KcovBVYMxnai",
        "outputId": "b8893b09-1c3a-48f9-d92f-9805ad2cabe6",
        "colab": {
          "base_uri": "https://localhost:8080/",
          "height": 285
        }
      },
      "source": [
        "training_data.age.plot.box()"
      ],
      "execution_count": 147,
      "outputs": [
        {
          "output_type": "execute_result",
          "data": {
            "text/plain": [
              "<matplotlib.axes._subplots.AxesSubplot at 0x7f6ea7fee710>"
            ]
          },
          "metadata": {
            "tags": []
          },
          "execution_count": 147
        },
        {
          "output_type": "display_data",
          "data": {
            "image/png": "[encoded data removed]",
            "text/plain": [
              "<Figure size 432x288 with 1 Axes>"
            ]
          },
          "metadata": {
            "tags": []
          }
        }
      ]
    },
    {
      "cell_type": "code",
      "metadata": {
        "id": "IK2-eVDjxnY6",
        "outputId": "61d811d6-724e-462e-89f8-e876544ce402",
        "colab": {
          "base_uri": "https://localhost:8080/",
          "height": 1000
        }
      },
      "source": [
        "import collections\n",
        "collections.Counter(training_data.age)"
      ],
      "execution_count": 148,
      "outputs": [
        {
          "output_type": "execute_result",
          "data": {
            "text/plain": [
              "Counter({0: 1,\n",
              "         21: 183,\n",
              "         22: 434,\n",
              "         23: 641,\n",
              "         24: 816,\n",
              "         25: 953,\n",
              "         26: 1193,\n",
              "         27: 1338,\n",
              "         28: 1560,\n",
              "         29: 1702,\n",
              "         30: 1937,\n",
              "         31: 2038,\n",
              "         32: 2050,\n",
              "         33: 2239,\n",
              "         34: 2155,\n",
              "         35: 2246,\n",
              "         36: 2379,\n",
              "         37: 2521,\n",
              "         38: 2631,\n",
              "         39: 2987,\n",
              "         40: 3093,\n",
              "         41: 3122,\n",
              "         42: 3082,\n",
              "         43: 3208,\n",
              "         44: 3294,\n",
              "         45: 3502,\n",
              "         46: 3714,\n",
              "         47: 3719,\n",
              "         48: 3806,\n",
              "         49: 3837,\n",
              "         50: 3753,\n",
              "         51: 3627,\n",
              "         52: 3609,\n",
              "         53: 3648,\n",
              "         54: 3561,\n",
              "         55: 3416,\n",
              "         56: 3589,\n",
              "         57: 3375,\n",
              "         58: 3443,\n",
              "         59: 3280,\n",
              "         60: 3258,\n",
              "         61: 3522,\n",
              "         62: 3568,\n",
              "         63: 3719,\n",
              "         64: 3058,\n",
              "         65: 2594,\n",
              "         66: 2494,\n",
              "         67: 2503,\n",
              "         68: 2235,\n",
              "         69: 1954,\n",
              "         70: 1777,\n",
              "         71: 1646,\n",
              "         72: 1649,\n",
              "         73: 1520,\n",
              "         74: 1451,\n",
              "         75: 1241,\n",
              "         76: 1183,\n",
              "         77: 1099,\n",
              "         78: 1054,\n",
              "         79: 981,\n",
              "         80: 876,\n",
              "         81: 774,\n",
              "         82: 647,\n",
              "         83: 512,\n",
              "         84: 480,\n",
              "         85: 483,\n",
              "         86: 407,\n",
              "         87: 357,\n",
              "         88: 313,\n",
              "         89: 276,\n",
              "         90: 198,\n",
              "         91: 154,\n",
              "         92: 93,\n",
              "         93: 87,\n",
              "         94: 47,\n",
              "         95: 45,\n",
              "         96: 18,\n",
              "         97: 17,\n",
              "         98: 6,\n",
              "         99: 9,\n",
              "         101: 3,\n",
              "         102: 3,\n",
              "         103: 3,\n",
              "         105: 1,\n",
              "         107: 1,\n",
              "         109: 2})"
            ]
          },
          "metadata": {
            "tags": []
          },
          "execution_count": 148
        }
      ]
    },
    {
      "cell_type": "code",
      "metadata": {
        "id": "IXTkSKF1xnXK"
      },
      "source": [
        "ageNew = []\n",
        "for val in training_data.age:\n",
        "    if val > 21:\n",
        "        ageNew.append(val)\n",
        "    else:\n",
        "        ageNew.append(21)\n",
        "        \n",
        "training_data.age = ageNew"
      ],
      "execution_count": 149,
      "outputs": []
    },
    {
      "cell_type": "code",
      "metadata": {
        "id": "4SnBWxCyxnUz",
        "outputId": "eddac9f8-0d3c-4953-c0e2-2ebf2135b711",
        "colab": {
          "base_uri": "https://localhost:8080/",
          "height": 289
        }
      },
      "source": [
        "collections.Counter(training_data.numberoftime3059dayspastduenotworse)"
      ],
      "execution_count": 150,
      "outputs": [
        {
          "output_type": "execute_result",
          "data": {
            "text/plain": [
              "Counter({0: 126018,\n",
              "         1: 16033,\n",
              "         2: 4598,\n",
              "         3: 1754,\n",
              "         4: 747,\n",
              "         5: 342,\n",
              "         6: 140,\n",
              "         7: 54,\n",
              "         8: 25,\n",
              "         9: 12,\n",
              "         10: 4,\n",
              "         11: 1,\n",
              "         12: 2,\n",
              "         13: 1,\n",
              "         96: 5,\n",
              "         98: 264})"
            ]
          },
          "metadata": {
            "tags": []
          },
          "execution_count": 150
        }
      ]
    },
    {
      "cell_type": "code",
      "metadata": {
        "id": "PH7slwATxnRy"
      },
      "source": [
        "New = []\n",
        "med = training_data.numberoftime3059dayspastduenotworse.median()\n",
        "for val in training_data.numberoftime3059dayspastduenotworse:\n",
        "    if ((val == 98) | (val == 96)):\n",
        "        New.append(med)\n",
        "    else:\n",
        "        New.append(val)\n",
        "\n",
        "training_data.numberoftime3059dayspastduenotworse = New"
      ],
      "execution_count": 153,
      "outputs": []
    },
    {
      "cell_type": "code",
      "metadata": {
        "id": "1y_J4YsdwUdn",
        "outputId": "4a1c8ecd-6137-44af-9f8a-251f4d5a24c3",
        "colab": {
          "base_uri": "https://localhost:8080/",
          "height": 341
        }
      },
      "source": [
        "def outlierRatio(data):\n",
        "    functions = [percentile_based_outlier, mad_based_outlier, std_div, outlierVote]\n",
        "    outlierDict = {}\n",
        "    for func in functions:\n",
        "        funcResult = func(data)\n",
        "        count = 0\n",
        "        for val in funcResult:\n",
        "            if val == True:\n",
        "                count += 1 \n",
        "        outlierDict[str(func)[10:].split()[0]] = [count, '{:.2f}%'.format((float(count)/len(data))*100)]\n",
        "    \n",
        "    return outlierDict\n",
        "outlierRatio(training_data.debtratio)"
      ],
      "execution_count": 154,
      "outputs": [
        {
          "output_type": "error",
          "ename": "TypeError",
          "evalue": "ignored",
          "traceback": [
            "\u001b[0;31m---------------------------------------------------------------------------\u001b[0m",
            "\u001b[0;31mTypeError\u001b[0m                                 Traceback (most recent call last)",
            "\u001b[0;32m<ipython-input-154-5c2c74a79691>\u001b[0m in \u001b[0;36m<module>\u001b[0;34m()\u001b[0m\n\u001b[1;32m     11\u001b[0m \u001b[0;34m\u001b[0m\u001b[0m\n\u001b[1;32m     12\u001b[0m     \u001b[0;32mreturn\u001b[0m \u001b[0moutlierDict\u001b[0m\u001b[0;34m\u001b[0m\u001b[0;34m\u001b[0m\u001b[0m\n\u001b[0;32m---> 13\u001b[0;31m \u001b[0moutlierRatio\u001b[0m\u001b[0;34m(\u001b[0m\u001b[0mtraining_data\u001b[0m\u001b[0;34m.\u001b[0m\u001b[0mdebtratio\u001b[0m\u001b[0;34m)\u001b[0m\u001b[0;34m\u001b[0m\u001b[0;34m\u001b[0m\u001b[0m\n\u001b[0m",
            "\u001b[0;32m<ipython-input-154-5c2c74a79691>\u001b[0m in \u001b[0;36moutlierRatio\u001b[0;34m(data)\u001b[0m\n\u001b[1;32m      3\u001b[0m     \u001b[0moutlierDict\u001b[0m \u001b[0;34m=\u001b[0m \u001b[0;34m{\u001b[0m\u001b[0;34m}\u001b[0m\u001b[0;34m\u001b[0m\u001b[0;34m\u001b[0m\u001b[0m\n\u001b[1;32m      4\u001b[0m     \u001b[0;32mfor\u001b[0m \u001b[0mfunc\u001b[0m \u001b[0;32min\u001b[0m \u001b[0mfunctions\u001b[0m\u001b[0;34m:\u001b[0m\u001b[0;34m\u001b[0m\u001b[0;34m\u001b[0m\u001b[0m\n\u001b[0;32m----> 5\u001b[0;31m         \u001b[0mfuncResult\u001b[0m \u001b[0;34m=\u001b[0m \u001b[0mfunc\u001b[0m\u001b[0;34m(\u001b[0m\u001b[0mdata\u001b[0m\u001b[0;34m)\u001b[0m\u001b[0;34m\u001b[0m\u001b[0;34m\u001b[0m\u001b[0m\n\u001b[0m\u001b[1;32m      6\u001b[0m         \u001b[0mcount\u001b[0m \u001b[0;34m=\u001b[0m \u001b[0;36m0\u001b[0m\u001b[0;34m\u001b[0m\u001b[0;34m\u001b[0m\u001b[0m\n\u001b[1;32m      7\u001b[0m         \u001b[0;32mfor\u001b[0m \u001b[0mval\u001b[0m \u001b[0;32min\u001b[0m \u001b[0mfuncResult\u001b[0m\u001b[0;34m:\u001b[0m\u001b[0;34m\u001b[0m\u001b[0;34m\u001b[0m\u001b[0m\n",
            "\u001b[0;32m<ipython-input-134-deae2e02ac57>\u001b[0m in \u001b[0;36moutlierVote\u001b[0;34m(data)\u001b[0m\n\u001b[1;32m      5\u001b[0m     \u001b[0mtemp\u001b[0m \u001b[0;34m=\u001b[0m \u001b[0mzip\u001b[0m\u001b[0;34m(\u001b[0m\u001b[0mdata\u001b[0m\u001b[0;34m.\u001b[0m\u001b[0mindex\u001b[0m\u001b[0;34m,\u001b[0m \u001b[0mx\u001b[0m\u001b[0;34m,\u001b[0m \u001b[0my\u001b[0m\u001b[0;34m,\u001b[0m \u001b[0mz\u001b[0m\u001b[0;34m)\u001b[0m\u001b[0;34m\u001b[0m\u001b[0;34m\u001b[0m\u001b[0m\n\u001b[1;32m      6\u001b[0m     \u001b[0mfinal\u001b[0m \u001b[0;34m=\u001b[0m \u001b[0;34m[\u001b[0m\u001b[0;34m]\u001b[0m\u001b[0;34m\u001b[0m\u001b[0;34m\u001b[0m\u001b[0m\n\u001b[0;32m----> 7\u001b[0;31m     \u001b[0;32mfor\u001b[0m \u001b[0mi\u001b[0m \u001b[0;32min\u001b[0m \u001b[0mrange\u001b[0m\u001b[0;34m(\u001b[0m\u001b[0mlen\u001b[0m\u001b[0;34m(\u001b[0m\u001b[0mtemp\u001b[0m\u001b[0;34m)\u001b[0m\u001b[0;34m)\u001b[0m\u001b[0;34m:\u001b[0m\u001b[0;34m\u001b[0m\u001b[0;34m\u001b[0m\u001b[0m\n\u001b[0m\u001b[1;32m      8\u001b[0m         \u001b[0;32mif\u001b[0m \u001b[0mtemp\u001b[0m\u001b[0;34m[\u001b[0m\u001b[0mi\u001b[0m\u001b[0;34m]\u001b[0m\u001b[0;34m.\u001b[0m\u001b[0mcount\u001b[0m\u001b[0;34m(\u001b[0m\u001b[0;32mFalse\u001b[0m\u001b[0;34m)\u001b[0m \u001b[0;34m>=\u001b[0m \u001b[0;36m2\u001b[0m\u001b[0;34m:\u001b[0m\u001b[0;34m\u001b[0m\u001b[0;34m\u001b[0m\u001b[0m\n\u001b[1;32m      9\u001b[0m             \u001b[0mfinal\u001b[0m\u001b[0;34m.\u001b[0m\u001b[0mappend\u001b[0m\u001b[0;34m(\u001b[0m\u001b[0;32mFalse\u001b[0m\u001b[0;34m)\u001b[0m\u001b[0;34m\u001b[0m\u001b[0;34m\u001b[0m\u001b[0m\n",
            "\u001b[0;31mTypeError\u001b[0m: object of type 'zip' has no len()"
          ]
        }
      ]
    },
    {
      "cell_type": "code",
      "metadata": {
        "id": "EjKHlSRPx8Uy",
        "outputId": "b531d1ac-c5c4-469e-8a6c-cee4d3663517",
        "colab": {
          "base_uri": "https://localhost:8080/",
          "height": 575
        }
      },
      "source": [
        "plotOutlier(training_data.debtratio.sample(1000))"
      ],
      "execution_count": 155,
      "outputs": [
        {
          "output_type": "error",
          "ename": "TypeError",
          "evalue": "ignored",
          "traceback": [
            "\u001b[0;31m---------------------------------------------------------------------------\u001b[0m",
            "\u001b[0;31mTypeError\u001b[0m                                 Traceback (most recent call last)",
            "\u001b[0;32m<ipython-input-155-6ef4a14cdd0b>\u001b[0m in \u001b[0;36m<module>\u001b[0;34m()\u001b[0m\n\u001b[0;32m----> 1\u001b[0;31m \u001b[0mplotOutlier\u001b[0m\u001b[0;34m(\u001b[0m\u001b[0mtraining_data\u001b[0m\u001b[0;34m.\u001b[0m\u001b[0mdebtratio\u001b[0m\u001b[0;34m.\u001b[0m\u001b[0msample\u001b[0m\u001b[0;34m(\u001b[0m\u001b[0;36m1000\u001b[0m\u001b[0;34m)\u001b[0m\u001b[0;34m)\u001b[0m\u001b[0;34m\u001b[0m\u001b[0;34m\u001b[0m\u001b[0m\n\u001b[0m",
            "\u001b[0;32m<ipython-input-135-37676760cfea>\u001b[0m in \u001b[0;36mplotOutlier\u001b[0;34m(x)\u001b[0m\n\u001b[1;32m      3\u001b[0m     \u001b[0;32mfor\u001b[0m \u001b[0max\u001b[0m\u001b[0;34m,\u001b[0m \u001b[0mfunc\u001b[0m \u001b[0;32min\u001b[0m \u001b[0mzip\u001b[0m\u001b[0;34m(\u001b[0m\u001b[0maxes\u001b[0m\u001b[0;34m,\u001b[0m \u001b[0;34m[\u001b[0m\u001b[0mpercentile_based_outlier\u001b[0m\u001b[0;34m,\u001b[0m \u001b[0mmad_based_outlier\u001b[0m\u001b[0;34m,\u001b[0m \u001b[0mstd_div\u001b[0m\u001b[0;34m,\u001b[0m \u001b[0moutlierVote\u001b[0m\u001b[0;34m]\u001b[0m\u001b[0;34m)\u001b[0m\u001b[0;34m:\u001b[0m\u001b[0;34m\u001b[0m\u001b[0;34m\u001b[0m\u001b[0m\n\u001b[1;32m      4\u001b[0m         \u001b[0msns\u001b[0m\u001b[0;34m.\u001b[0m\u001b[0mdistplot\u001b[0m\u001b[0;34m(\u001b[0m\u001b[0mx\u001b[0m\u001b[0;34m,\u001b[0m \u001b[0max\u001b[0m\u001b[0;34m=\u001b[0m\u001b[0max\u001b[0m\u001b[0;34m,\u001b[0m \u001b[0mrug\u001b[0m\u001b[0;34m=\u001b[0m\u001b[0;32mTrue\u001b[0m\u001b[0;34m,\u001b[0m \u001b[0mhist\u001b[0m\u001b[0;34m=\u001b[0m\u001b[0;32mFalse\u001b[0m\u001b[0;34m)\u001b[0m\u001b[0;34m\u001b[0m\u001b[0;34m\u001b[0m\u001b[0m\n\u001b[0;32m----> 5\u001b[0;31m         \u001b[0moutliers\u001b[0m \u001b[0;34m=\u001b[0m \u001b[0mx\u001b[0m\u001b[0;34m[\u001b[0m\u001b[0mfunc\u001b[0m\u001b[0;34m(\u001b[0m\u001b[0mx\u001b[0m\u001b[0;34m)\u001b[0m\u001b[0;34m]\u001b[0m\u001b[0;34m\u001b[0m\u001b[0;34m\u001b[0m\u001b[0m\n\u001b[0m\u001b[1;32m      6\u001b[0m         \u001b[0max\u001b[0m\u001b[0;34m.\u001b[0m\u001b[0mplot\u001b[0m\u001b[0;34m(\u001b[0m\u001b[0moutliers\u001b[0m\u001b[0;34m,\u001b[0m \u001b[0mnp\u001b[0m\u001b[0;34m.\u001b[0m\u001b[0mzeros_like\u001b[0m\u001b[0;34m(\u001b[0m\u001b[0moutliers\u001b[0m\u001b[0;34m)\u001b[0m\u001b[0;34m,\u001b[0m \u001b[0;34m'ro'\u001b[0m\u001b[0;34m,\u001b[0m \u001b[0mclip_on\u001b[0m\u001b[0;34m=\u001b[0m\u001b[0;32mFalse\u001b[0m\u001b[0;34m)\u001b[0m\u001b[0;34m\u001b[0m\u001b[0;34m\u001b[0m\u001b[0m\n\u001b[1;32m      7\u001b[0m \u001b[0;34m\u001b[0m\u001b[0m\n",
            "\u001b[0;32m<ipython-input-134-deae2e02ac57>\u001b[0m in \u001b[0;36moutlierVote\u001b[0;34m(data)\u001b[0m\n\u001b[1;32m      5\u001b[0m     \u001b[0mtemp\u001b[0m \u001b[0;34m=\u001b[0m \u001b[0mzip\u001b[0m\u001b[0;34m(\u001b[0m\u001b[0mdata\u001b[0m\u001b[0;34m.\u001b[0m\u001b[0mindex\u001b[0m\u001b[0;34m,\u001b[0m \u001b[0mx\u001b[0m\u001b[0;34m,\u001b[0m \u001b[0my\u001b[0m\u001b[0;34m,\u001b[0m \u001b[0mz\u001b[0m\u001b[0;34m)\u001b[0m\u001b[0;34m\u001b[0m\u001b[0;34m\u001b[0m\u001b[0m\n\u001b[1;32m      6\u001b[0m     \u001b[0mfinal\u001b[0m \u001b[0;34m=\u001b[0m \u001b[0;34m[\u001b[0m\u001b[0;34m]\u001b[0m\u001b[0;34m\u001b[0m\u001b[0;34m\u001b[0m\u001b[0m\n\u001b[0;32m----> 7\u001b[0;31m     \u001b[0;32mfor\u001b[0m \u001b[0mi\u001b[0m \u001b[0;32min\u001b[0m \u001b[0mrange\u001b[0m\u001b[0;34m(\u001b[0m\u001b[0mlen\u001b[0m\u001b[0;34m(\u001b[0m\u001b[0mtemp\u001b[0m\u001b[0;34m)\u001b[0m\u001b[0;34m)\u001b[0m\u001b[0;34m:\u001b[0m\u001b[0;34m\u001b[0m\u001b[0;34m\u001b[0m\u001b[0m\n\u001b[0m\u001b[1;32m      8\u001b[0m         \u001b[0;32mif\u001b[0m \u001b[0mtemp\u001b[0m\u001b[0;34m[\u001b[0m\u001b[0mi\u001b[0m\u001b[0;34m]\u001b[0m\u001b[0;34m.\u001b[0m\u001b[0mcount\u001b[0m\u001b[0;34m(\u001b[0m\u001b[0;32mFalse\u001b[0m\u001b[0;34m)\u001b[0m \u001b[0;34m>=\u001b[0m \u001b[0;36m2\u001b[0m\u001b[0;34m:\u001b[0m\u001b[0;34m\u001b[0m\u001b[0;34m\u001b[0m\u001b[0m\n\u001b[1;32m      9\u001b[0m             \u001b[0mfinal\u001b[0m\u001b[0;34m.\u001b[0m\u001b[0mappend\u001b[0m\u001b[0;34m(\u001b[0m\u001b[0;32mFalse\u001b[0m\u001b[0;34m)\u001b[0m\u001b[0;34m\u001b[0m\u001b[0;34m\u001b[0m\u001b[0m\n",
            "\u001b[0;31mTypeError\u001b[0m: object of type 'zip' has no len()"
          ]
        },
        {
          "output_type": "display_data",
          "data": {
            "image/png": "[encoded data removed]",
            "text/plain": [
              "<Figure size 432x288 with 4 Axes>"
            ]
          },
          "metadata": {
            "tags": []
          }
        }
      ]
    },
    {
      "cell_type": "code",
      "metadata": {
        "id": "TmeYoROex8W9",
        "outputId": "21e62a7a-671a-4496-cb14-96b8df6a3a9d",
        "colab": {
          "base_uri": "https://localhost:8080/",
          "height": 272
        }
      },
      "source": [
        "\n",
        "def add_freq():\n",
        "    ncount = len(training_data)\n",
        "\n",
        "    ax2=ax.twinx()\n",
        "\n",
        "    ax2.yaxis.tick_left()\n",
        "    ax.yaxis.tick_right()\n",
        "\n",
        "    ax.yaxis.set_label_position('right')\n",
        "    ax2.yaxis.set_label_position('left')\n",
        "\n",
        "    ax2.set_ylabel('Frequency [%]')\n",
        "\n",
        "    for p in ax.patches:\n",
        "        x=p.get_bbox().get_points()[:,0]\n",
        "        y=p.get_bbox().get_points()[1,1]\n",
        "        ax.annotate('{:.1f}%'.format(100.*y/ncount), (x.mean(), y), \n",
        "                ha='center', va='bottom')\n",
        "\n",
        "    ax2.set_ylim(0,100)\n",
        "    ax2.grid(None)\n",
        "ax = sns.countplot(mad_based_outlier(training_data.debtratio))\n",
        "\n",
        "add_freq()"
      ],
      "execution_count": 156,
      "outputs": [
        {
          "output_type": "display_data",
          "data": {
            "image/png": "[encoded data removed]",
            "text/plain": [
              "<Figure size 432x288 with 2 Axes>"
            ]
          },
          "metadata": {
            "tags": []
          }
        }
      ]
    },
    {
      "cell_type": "code",
      "metadata": {
        "id": "q-nWqm0Px8TF"
      },
      "source": [
        "minUpperBound = min([val for (val, out) in zip(training_data.debtratio, mad_based_outlier(training_data.debtratio)) if out == True])"
      ],
      "execution_count": 157,
      "outputs": []
    },
    {
      "cell_type": "code",
      "metadata": {
        "id": "gueJISg6x8Q8"
      },
      "source": [
        "newDebtRatio = []\n",
        "for val in training_data.debtratio:\n",
        "    if val > minUpperBound:\n",
        "        newDebtRatio.append(minUpperBound)\n",
        "    else:\n",
        "        newDebtRatio.append(val)\n",
        "\n",
        "training_data.debtratio = newDebtRatio"
      ],
      "execution_count": 158,
      "outputs": []
    },
    {
      "cell_type": "code",
      "metadata": {
        "id": "icTP2xA6wUbV"
      },
      "source": [
        "def plotOutlierFree(x):\n",
        "    fig, axes = plt.subplots(nrows=4)\n",
        "    nOutliers = []\n",
        "    for ax, func in zip(axes, [percentile_based_outlier, mad_based_outlier, std_div, outlierVote]):\n",
        "        tfOutlier = zip(x, func(x))\n",
        "        nOutliers.append(len([index for (index, bol) in tfOutlier if bol == True]))\n",
        "        outlierFree = [index for (index, bol) in tfOutlier if bol == True]\n",
        "        sns.distplot(outlierFree, ax=ax, rug=True, hist=False)\n",
        "        \n",
        "    kwargs = dict(y=0.95, x=0.05, ha='left', va='top', size=15)\n",
        "    axes[0].set_title('Percentile-based Outliers, removed: {r}'.format(r=nOutliers[0]), **kwargs)\n",
        "    axes[1].set_title('MAD-based Outliers, removed: {r}'.format(r=nOutliers[1]), **kwargs)\n",
        "    axes[2].set_title('STD-based Outliers, removed: {r}'.format(r=nOutliers[2]), **kwargs)\n",
        "    axes[3].set_title('Majority vote based Outliers, removed: {r}'.format(r=nOutliers[3]), **kwargs)\n",
        "    fig.suptitle('Outlier Removed By Method with n={}'.format(len(x)), size=20)\n",
        "    fig = plt.gcf()\n",
        "    fig.set_size_inches(15,10)"
      ],
      "execution_count": 159,
      "outputs": []
    },
    {
      "cell_type": "code",
      "metadata": {
        "id": "tWHf9_xSyJvR",
        "outputId": "80f7a9a0-fd61-4aab-dbde-4d57f4ca63f7",
        "colab": {
          "base_uri": "https://localhost:8080/",
          "height": 560
        }
      },
      "source": [
        "plotOutlierFree(training_data.monthlyincome.sample(1000))"
      ],
      "execution_count": 160,
      "outputs": [
        {
          "output_type": "error",
          "ename": "TypeError",
          "evalue": "ignored",
          "traceback": [
            "\u001b[0;31m---------------------------------------------------------------------------\u001b[0m",
            "\u001b[0;31mTypeError\u001b[0m                                 Traceback (most recent call last)",
            "\u001b[0;32m<ipython-input-160-55f62f425a3b>\u001b[0m in \u001b[0;36m<module>\u001b[0;34m()\u001b[0m\n\u001b[0;32m----> 1\u001b[0;31m \u001b[0mplotOutlierFree\u001b[0m\u001b[0;34m(\u001b[0m\u001b[0mtraining_data\u001b[0m\u001b[0;34m.\u001b[0m\u001b[0mmonthlyincome\u001b[0m\u001b[0;34m.\u001b[0m\u001b[0msample\u001b[0m\u001b[0;34m(\u001b[0m\u001b[0;36m1000\u001b[0m\u001b[0;34m)\u001b[0m\u001b[0;34m)\u001b[0m\u001b[0;34m\u001b[0m\u001b[0;34m\u001b[0m\u001b[0m\n\u001b[0m",
            "\u001b[0;32m<ipython-input-159-4f20c22908ba>\u001b[0m in \u001b[0;36mplotOutlierFree\u001b[0;34m(x)\u001b[0m\n\u001b[1;32m      3\u001b[0m     \u001b[0mnOutliers\u001b[0m \u001b[0;34m=\u001b[0m \u001b[0;34m[\u001b[0m\u001b[0;34m]\u001b[0m\u001b[0;34m\u001b[0m\u001b[0;34m\u001b[0m\u001b[0m\n\u001b[1;32m      4\u001b[0m     \u001b[0;32mfor\u001b[0m \u001b[0max\u001b[0m\u001b[0;34m,\u001b[0m \u001b[0mfunc\u001b[0m \u001b[0;32min\u001b[0m \u001b[0mzip\u001b[0m\u001b[0;34m(\u001b[0m\u001b[0maxes\u001b[0m\u001b[0;34m,\u001b[0m \u001b[0;34m[\u001b[0m\u001b[0mpercentile_based_outlier\u001b[0m\u001b[0;34m,\u001b[0m \u001b[0mmad_based_outlier\u001b[0m\u001b[0;34m,\u001b[0m \u001b[0mstd_div\u001b[0m\u001b[0;34m,\u001b[0m \u001b[0moutlierVote\u001b[0m\u001b[0;34m]\u001b[0m\u001b[0;34m)\u001b[0m\u001b[0;34m:\u001b[0m\u001b[0;34m\u001b[0m\u001b[0;34m\u001b[0m\u001b[0m\n\u001b[0;32m----> 5\u001b[0;31m         \u001b[0mtfOutlier\u001b[0m \u001b[0;34m=\u001b[0m \u001b[0mzip\u001b[0m\u001b[0;34m(\u001b[0m\u001b[0mx\u001b[0m\u001b[0;34m,\u001b[0m \u001b[0mfunc\u001b[0m\u001b[0;34m(\u001b[0m\u001b[0mx\u001b[0m\u001b[0;34m)\u001b[0m\u001b[0;34m)\u001b[0m\u001b[0;34m\u001b[0m\u001b[0;34m\u001b[0m\u001b[0m\n\u001b[0m\u001b[1;32m      6\u001b[0m         \u001b[0mnOutliers\u001b[0m\u001b[0;34m.\u001b[0m\u001b[0mappend\u001b[0m\u001b[0;34m(\u001b[0m\u001b[0mlen\u001b[0m\u001b[0;34m(\u001b[0m\u001b[0;34m[\u001b[0m\u001b[0mindex\u001b[0m \u001b[0;32mfor\u001b[0m \u001b[0;34m(\u001b[0m\u001b[0mindex\u001b[0m\u001b[0;34m,\u001b[0m \u001b[0mbol\u001b[0m\u001b[0;34m)\u001b[0m \u001b[0;32min\u001b[0m \u001b[0mtfOutlier\u001b[0m \u001b[0;32mif\u001b[0m \u001b[0mbol\u001b[0m \u001b[0;34m==\u001b[0m \u001b[0;32mTrue\u001b[0m\u001b[0;34m]\u001b[0m\u001b[0;34m)\u001b[0m\u001b[0;34m)\u001b[0m\u001b[0;34m\u001b[0m\u001b[0;34m\u001b[0m\u001b[0m\n\u001b[1;32m      7\u001b[0m         \u001b[0moutlierFree\u001b[0m \u001b[0;34m=\u001b[0m \u001b[0;34m[\u001b[0m\u001b[0mindex\u001b[0m \u001b[0;32mfor\u001b[0m \u001b[0;34m(\u001b[0m\u001b[0mindex\u001b[0m\u001b[0;34m,\u001b[0m \u001b[0mbol\u001b[0m\u001b[0;34m)\u001b[0m \u001b[0;32min\u001b[0m \u001b[0mtfOutlier\u001b[0m \u001b[0;32mif\u001b[0m \u001b[0mbol\u001b[0m \u001b[0;34m==\u001b[0m \u001b[0;32mTrue\u001b[0m\u001b[0;34m]\u001b[0m\u001b[0;34m\u001b[0m\u001b[0;34m\u001b[0m\u001b[0m\n",
            "\u001b[0;32m<ipython-input-134-deae2e02ac57>\u001b[0m in \u001b[0;36moutlierVote\u001b[0;34m(data)\u001b[0m\n\u001b[1;32m      5\u001b[0m     \u001b[0mtemp\u001b[0m \u001b[0;34m=\u001b[0m \u001b[0mzip\u001b[0m\u001b[0;34m(\u001b[0m\u001b[0mdata\u001b[0m\u001b[0;34m.\u001b[0m\u001b[0mindex\u001b[0m\u001b[0;34m,\u001b[0m \u001b[0mx\u001b[0m\u001b[0;34m,\u001b[0m \u001b[0my\u001b[0m\u001b[0;34m,\u001b[0m \u001b[0mz\u001b[0m\u001b[0;34m)\u001b[0m\u001b[0;34m\u001b[0m\u001b[0;34m\u001b[0m\u001b[0m\n\u001b[1;32m      6\u001b[0m     \u001b[0mfinal\u001b[0m \u001b[0;34m=\u001b[0m \u001b[0;34m[\u001b[0m\u001b[0;34m]\u001b[0m\u001b[0;34m\u001b[0m\u001b[0;34m\u001b[0m\u001b[0m\n\u001b[0;32m----> 7\u001b[0;31m     \u001b[0;32mfor\u001b[0m \u001b[0mi\u001b[0m \u001b[0;32min\u001b[0m \u001b[0mrange\u001b[0m\u001b[0;34m(\u001b[0m\u001b[0mlen\u001b[0m\u001b[0;34m(\u001b[0m\u001b[0mtemp\u001b[0m\u001b[0;34m)\u001b[0m\u001b[0;34m)\u001b[0m\u001b[0;34m:\u001b[0m\u001b[0;34m\u001b[0m\u001b[0;34m\u001b[0m\u001b[0m\n\u001b[0m\u001b[1;32m      8\u001b[0m         \u001b[0;32mif\u001b[0m \u001b[0mtemp\u001b[0m\u001b[0;34m[\u001b[0m\u001b[0mi\u001b[0m\u001b[0;34m]\u001b[0m\u001b[0;34m.\u001b[0m\u001b[0mcount\u001b[0m\u001b[0;34m(\u001b[0m\u001b[0;32mFalse\u001b[0m\u001b[0;34m)\u001b[0m \u001b[0;34m>=\u001b[0m \u001b[0;36m2\u001b[0m\u001b[0;34m:\u001b[0m\u001b[0;34m\u001b[0m\u001b[0;34m\u001b[0m\u001b[0m\n\u001b[1;32m      9\u001b[0m             \u001b[0mfinal\u001b[0m\u001b[0;34m.\u001b[0m\u001b[0mappend\u001b[0m\u001b[0;34m(\u001b[0m\u001b[0;32mFalse\u001b[0m\u001b[0;34m)\u001b[0m\u001b[0;34m\u001b[0m\u001b[0;34m\u001b[0m\u001b[0m\n",
            "\u001b[0;31mTypeError\u001b[0m: object of type 'zip' has no len()"
          ]
        },
        {
          "output_type": "display_data",
          "data": {
            "image/png": "[encoded data removed]",
            "text/plain": [
              "<Figure size 432x288 with 4 Axes>"
            ]
          },
          "metadata": {
            "tags": []
          }
        }
      ]
    },
    {
      "cell_type": "code",
      "metadata": {
        "id": "6Ma4TRZmyJ1M"
      },
      "source": [
        "\n",
        "def replaceOutlier(data, method = outlierVote, replace='median'):\n",
        "    '''replace: median (auto)\n",
        "                'minUpper' which is the upper bound of the outlier detection'''\n",
        "    vote = outlierVote(data)\n",
        "    x = pd.DataFrame(zip(data, vote), columns=['debt', 'outlier'])\n",
        "    if replace == 'median':\n",
        "        replace = x.debt.median()\n",
        "    elif replace == 'minUpper':\n",
        "        replace = min([val for (val, vote) in zip(data, vote) if vote == True])\n",
        "        if replace < data.mean():\n",
        "            return 'There are outliers lower than the sample mean'\n",
        "    debtNew = []\n",
        "    for i in range(x.shape[0]):\n",
        "        if x.iloc[i][1] == True:\n",
        "            debtNew.append(replace)\n",
        "        else:\n",
        "            debtNew.append(x.iloc[i][0])\n",
        "    \n",
        "    return debtNew"
      ],
      "execution_count": 162,
      "outputs": []
    },
    {
      "cell_type": "code",
      "metadata": {
        "id": "cZ8rbBOiyJzf",
        "outputId": "edc3fe6b-fb48-4bd4-f7a7-f86d3b408519",
        "colab": {
          "base_uri": "https://localhost:8080/",
          "height": 307
        }
      },
      "source": [
        "incomeNew = replaceOutlier(training_data.monthlyincome, replace='minUpper')"
      ],
      "execution_count": 163,
      "outputs": [
        {
          "output_type": "error",
          "ename": "TypeError",
          "evalue": "ignored",
          "traceback": [
            "\u001b[0;31m---------------------------------------------------------------------------\u001b[0m",
            "\u001b[0;31mTypeError\u001b[0m                                 Traceback (most recent call last)",
            "\u001b[0;32m<ipython-input-163-644196cb6ee2>\u001b[0m in \u001b[0;36m<module>\u001b[0;34m()\u001b[0m\n\u001b[0;32m----> 1\u001b[0;31m \u001b[0mincomeNew\u001b[0m \u001b[0;34m=\u001b[0m \u001b[0mreplaceOutlier\u001b[0m\u001b[0;34m(\u001b[0m\u001b[0mtraining_data\u001b[0m\u001b[0;34m.\u001b[0m\u001b[0mmonthlyincome\u001b[0m\u001b[0;34m,\u001b[0m \u001b[0mreplace\u001b[0m\u001b[0;34m=\u001b[0m\u001b[0;34m'minUpper'\u001b[0m\u001b[0;34m)\u001b[0m\u001b[0;34m\u001b[0m\u001b[0;34m\u001b[0m\u001b[0m\n\u001b[0m",
            "\u001b[0;32m<ipython-input-162-914722c23504>\u001b[0m in \u001b[0;36mreplaceOutlier\u001b[0;34m(data, method, replace)\u001b[0m\n\u001b[1;32m      3\u001b[0m     '''replace: median (auto)\n\u001b[1;32m      4\u001b[0m                 'minUpper' which is the upper bound of the outlier detection'''\n\u001b[0;32m----> 5\u001b[0;31m     \u001b[0mvote\u001b[0m \u001b[0;34m=\u001b[0m \u001b[0moutlierVote\u001b[0m\u001b[0;34m(\u001b[0m\u001b[0mdata\u001b[0m\u001b[0;34m)\u001b[0m\u001b[0;34m\u001b[0m\u001b[0;34m\u001b[0m\u001b[0m\n\u001b[0m\u001b[1;32m      6\u001b[0m     \u001b[0mx\u001b[0m \u001b[0;34m=\u001b[0m \u001b[0mpd\u001b[0m\u001b[0;34m.\u001b[0m\u001b[0mDataFrame\u001b[0m\u001b[0;34m(\u001b[0m\u001b[0mzip\u001b[0m\u001b[0;34m(\u001b[0m\u001b[0mdata\u001b[0m\u001b[0;34m,\u001b[0m \u001b[0mvote\u001b[0m\u001b[0;34m)\u001b[0m\u001b[0;34m,\u001b[0m \u001b[0mcolumns\u001b[0m\u001b[0;34m=\u001b[0m\u001b[0;34m[\u001b[0m\u001b[0;34m'debt'\u001b[0m\u001b[0;34m,\u001b[0m \u001b[0;34m'outlier'\u001b[0m\u001b[0;34m]\u001b[0m\u001b[0;34m)\u001b[0m\u001b[0;34m\u001b[0m\u001b[0;34m\u001b[0m\u001b[0m\n\u001b[1;32m      7\u001b[0m     \u001b[0;32mif\u001b[0m \u001b[0mreplace\u001b[0m \u001b[0;34m==\u001b[0m \u001b[0;34m'median'\u001b[0m\u001b[0;34m:\u001b[0m\u001b[0;34m\u001b[0m\u001b[0;34m\u001b[0m\u001b[0m\n",
            "\u001b[0;32m<ipython-input-134-deae2e02ac57>\u001b[0m in \u001b[0;36moutlierVote\u001b[0;34m(data)\u001b[0m\n\u001b[1;32m      5\u001b[0m     \u001b[0mtemp\u001b[0m \u001b[0;34m=\u001b[0m \u001b[0mzip\u001b[0m\u001b[0;34m(\u001b[0m\u001b[0mdata\u001b[0m\u001b[0;34m.\u001b[0m\u001b[0mindex\u001b[0m\u001b[0;34m,\u001b[0m \u001b[0mx\u001b[0m\u001b[0;34m,\u001b[0m \u001b[0my\u001b[0m\u001b[0;34m,\u001b[0m \u001b[0mz\u001b[0m\u001b[0;34m)\u001b[0m\u001b[0;34m\u001b[0m\u001b[0;34m\u001b[0m\u001b[0m\n\u001b[1;32m      6\u001b[0m     \u001b[0mfinal\u001b[0m \u001b[0;34m=\u001b[0m \u001b[0;34m[\u001b[0m\u001b[0;34m]\u001b[0m\u001b[0;34m\u001b[0m\u001b[0;34m\u001b[0m\u001b[0m\n\u001b[0;32m----> 7\u001b[0;31m     \u001b[0;32mfor\u001b[0m \u001b[0mi\u001b[0m \u001b[0;32min\u001b[0m \u001b[0mrange\u001b[0m\u001b[0;34m(\u001b[0m\u001b[0mlen\u001b[0m\u001b[0;34m(\u001b[0m\u001b[0mtemp\u001b[0m\u001b[0;34m)\u001b[0m\u001b[0;34m)\u001b[0m\u001b[0;34m:\u001b[0m\u001b[0;34m\u001b[0m\u001b[0;34m\u001b[0m\u001b[0m\n\u001b[0m\u001b[1;32m      8\u001b[0m         \u001b[0;32mif\u001b[0m \u001b[0mtemp\u001b[0m\u001b[0;34m[\u001b[0m\u001b[0mi\u001b[0m\u001b[0;34m]\u001b[0m\u001b[0;34m.\u001b[0m\u001b[0mcount\u001b[0m\u001b[0;34m(\u001b[0m\u001b[0;32mFalse\u001b[0m\u001b[0;34m)\u001b[0m \u001b[0;34m>=\u001b[0m \u001b[0;36m2\u001b[0m\u001b[0;34m:\u001b[0m\u001b[0;34m\u001b[0m\u001b[0;34m\u001b[0m\u001b[0m\n\u001b[1;32m      9\u001b[0m             \u001b[0mfinal\u001b[0m\u001b[0;34m.\u001b[0m\u001b[0mappend\u001b[0m\u001b[0;34m(\u001b[0m\u001b[0;32mFalse\u001b[0m\u001b[0;34m)\u001b[0m\u001b[0;34m\u001b[0m\u001b[0;34m\u001b[0m\u001b[0m\n",
            "\u001b[0;31mTypeError\u001b[0m: object of type 'zip' has no len()"
          ]
        }
      ]
    },
    {
      "cell_type": "code",
      "metadata": {
        "id": "zWWfQ-aByJxP",
        "outputId": "c27f3df5-d54e-4c95-a48d-a108a69c293e",
        "colab": {
          "base_uri": "https://localhost:8080/",
          "height": 164
        }
      },
      "source": [
        "training_data.monthlyincome = incomeNew"
      ],
      "execution_count": 164,
      "outputs": [
        {
          "output_type": "error",
          "ename": "NameError",
          "evalue": "ignored",
          "traceback": [
            "\u001b[0;31m---------------------------------------------------------------------------\u001b[0m",
            "\u001b[0;31mNameError\u001b[0m                                 Traceback (most recent call last)",
            "\u001b[0;32m<ipython-input-164-ea2c0a0b8e87>\u001b[0m in \u001b[0;36m<module>\u001b[0;34m()\u001b[0m\n\u001b[0;32m----> 1\u001b[0;31m \u001b[0mtraining_data\u001b[0m\u001b[0;34m.\u001b[0m\u001b[0mmonthlyincome\u001b[0m \u001b[0;34m=\u001b[0m \u001b[0mincomeNew\u001b[0m\u001b[0;34m\u001b[0m\u001b[0;34m\u001b[0m\u001b[0m\n\u001b[0m",
            "\u001b[0;31mNameError\u001b[0m: name 'incomeNew' is not defined"
          ]
        }
      ]
    },
    {
      "cell_type": "code",
      "metadata": {
        "id": "VByWDLJ_txOM",
        "outputId": "03f6fd9a-8843-4d60-be6a-02e3e902a5f7",
        "colab": {
          "base_uri": "https://localhost:8080/",
          "height": 340
        }
      },
      "source": [
        "collections.Counter(training_data.numberoftimes90dayslate)"
      ],
      "execution_count": 165,
      "outputs": [
        {
          "output_type": "execute_result",
          "data": {
            "text/plain": [
              "Counter({0: 141662,\n",
              "         1: 5243,\n",
              "         2: 1555,\n",
              "         3: 667,\n",
              "         4: 291,\n",
              "         5: 131,\n",
              "         6: 80,\n",
              "         7: 38,\n",
              "         8: 21,\n",
              "         9: 19,\n",
              "         10: 8,\n",
              "         11: 5,\n",
              "         12: 2,\n",
              "         13: 4,\n",
              "         14: 2,\n",
              "         15: 2,\n",
              "         17: 1,\n",
              "         96: 5,\n",
              "         98: 264})"
            ]
          },
          "metadata": {
            "tags": []
          },
          "execution_count": 165
        }
      ]
    },
    {
      "cell_type": "code",
      "metadata": {
        "id": "eMr-tgd-yYiR"
      },
      "source": [
        "def removeSpecificAndPutMedian(data, first = 98, second = 96):\n",
        "    New = []\n",
        "    med = data.median()\n",
        "    for val in data:\n",
        "        if ((val == first) | (val == second)):\n",
        "            New.append(med)\n",
        "        else:\n",
        "            New.append(val)\n",
        "            \n",
        "    return New"
      ],
      "execution_count": 166,
      "outputs": []
    },
    {
      "cell_type": "code",
      "metadata": {
        "id": "0rZ6yYW5yYqw"
      },
      "source": [
        "new = removeSpecificAndPutMedian(training_data.numberoftimes90dayslate)"
      ],
      "execution_count": 167,
      "outputs": []
    },
    {
      "cell_type": "code",
      "metadata": {
        "id": "MbI7ID7EyYue"
      },
      "source": [
        "training_data.numberoftimes90dayslate = new"
      ],
      "execution_count": 168,
      "outputs": []
    },
    {
      "cell_type": "code",
      "metadata": {
        "id": "IMUfafVpyYo_",
        "outputId": "d7f545e4-5a91-4bba-aacb-527e94ad2c2d",
        "colab": {
          "base_uri": "https://localhost:8080/",
          "height": 493
        }
      },
      "source": [
        "collections.Counter(training_data.numberrealestateloansorlines)"
      ],
      "execution_count": 169,
      "outputs": [
        {
          "output_type": "execute_result",
          "data": {
            "text/plain": [
              "Counter({0: 56188,\n",
              "         1: 52338,\n",
              "         2: 31522,\n",
              "         3: 6300,\n",
              "         4: 2170,\n",
              "         5: 689,\n",
              "         6: 320,\n",
              "         7: 171,\n",
              "         8: 93,\n",
              "         9: 78,\n",
              "         10: 37,\n",
              "         11: 23,\n",
              "         12: 18,\n",
              "         13: 15,\n",
              "         14: 7,\n",
              "         15: 7,\n",
              "         16: 4,\n",
              "         17: 4,\n",
              "         18: 2,\n",
              "         19: 2,\n",
              "         20: 2,\n",
              "         21: 1,\n",
              "         23: 2,\n",
              "         25: 3,\n",
              "         26: 1,\n",
              "         29: 1,\n",
              "         32: 1,\n",
              "         54: 1})"
            ]
          },
          "metadata": {
            "tags": []
          },
          "execution_count": 169
        }
      ]
    },
    {
      "cell_type": "code",
      "metadata": {
        "id": "qeIr5xWZyYnL"
      },
      "source": [
        "\n",
        "realNew = []\n",
        "for val in training_data.numberrealestateloansorlines:\n",
        "    if val > 17:\n",
        "        realNew.append(17)\n",
        "    else:\n",
        "        realNew.append(val)\n",
        "training_data.numberrealestateloansorlines = realNew"
      ],
      "execution_count": 170,
      "outputs": []
    },
    {
      "cell_type": "code",
      "metadata": {
        "id": "eok0hyKfyfXZ",
        "outputId": "25b35df0-1ce9-40df-f05c-42a04f9060cf",
        "colab": {
          "base_uri": "https://localhost:8080/",
          "height": 238
        }
      },
      "source": [
        "collections.Counter(training_data.numberoftime6089dayspastduenotworse)"
      ],
      "execution_count": 171,
      "outputs": [
        {
          "output_type": "execute_result",
          "data": {
            "text/plain": [
              "Counter({0: 142396,\n",
              "         1: 5731,\n",
              "         2: 1118,\n",
              "         3: 318,\n",
              "         4: 105,\n",
              "         5: 34,\n",
              "         6: 16,\n",
              "         7: 9,\n",
              "         8: 2,\n",
              "         9: 1,\n",
              "         11: 1,\n",
              "         96: 5,\n",
              "         98: 264})"
            ]
          },
          "metadata": {
            "tags": []
          },
          "execution_count": 171
        }
      ]
    },
    {
      "cell_type": "code",
      "metadata": {
        "id": "ddlLrqc7yfcY"
      },
      "source": [
        "new = removeSpecificAndPutMedian(training_data.numberoftime6089dayspastduenotworse)\n",
        "training_data.numberoftime6089dayspastduenotworse = new"
      ],
      "execution_count": 172,
      "outputs": []
    },
    {
      "cell_type": "code",
      "metadata": {
        "id": "RK0qWSsDyfkm",
        "outputId": "7068c54a-71e4-42a6-cb81-9c2715bca645",
        "colab": {
          "base_uri": "https://localhost:8080/",
          "height": 238
        }
      },
      "source": [
        "collections.Counter(training_data.numberofdependents)"
      ],
      "execution_count": 173,
      "outputs": [
        {
          "output_type": "execute_result",
          "data": {
            "text/plain": [
              "Counter({0.0: 90826,\n",
              "         1.0: 26316,\n",
              "         2.0: 19522,\n",
              "         3.0: 9483,\n",
              "         4.0: 2862,\n",
              "         5.0: 746,\n",
              "         6.0: 158,\n",
              "         7.0: 51,\n",
              "         8.0: 24,\n",
              "         9.0: 5,\n",
              "         10.0: 5,\n",
              "         13.0: 1,\n",
              "         20.0: 1})"
            ]
          },
          "metadata": {
            "tags": []
          },
          "execution_count": 173
        }
      ]
    },
    {
      "cell_type": "code",
      "metadata": {
        "id": "nu1o3zGUyfrU"
      },
      "source": [
        "\n",
        "depNew = []\n",
        "for var in training_data.numberofdependents:\n",
        "    if var > 10:\n",
        "        depNew.append(10)\n",
        "    else:\n",
        "        depNew.append(var)"
      ],
      "execution_count": 174,
      "outputs": []
    },
    {
      "cell_type": "code",
      "metadata": {
        "id": "LWg0WPNPym2c"
      },
      "source": [
        "training_data.numberofdependents = depNew"
      ],
      "execution_count": 175,
      "outputs": []
    },
    {
      "cell_type": "code",
      "metadata": {
        "id": "WYDrQzCrym9i",
        "outputId": "e86d00e8-8320-4775-c193-c13aefc46230",
        "colab": {
          "base_uri": "https://localhost:8080/",
          "height": 224
        }
      },
      "source": [
        "# Feature importance \n",
        "training_data.head()"
      ],
      "execution_count": 176,
      "outputs": [
        {
          "output_type": "execute_result",
          "data": {
            "text/html": [
              "<div>\n",
              "<style scoped>\n",
              "    .dataframe tbody tr th:only-of-type {\n",
              "        vertical-align: middle;\n",
              "    }\n",
              "\n",
              "    .dataframe tbody tr th {\n",
              "        vertical-align: top;\n",
              "    }\n",
              "\n",
              "    .dataframe thead th {\n",
              "        text-align: right;\n",
              "    }\n",
              "</style>\n",
              "<table border=\"1\" class=\"dataframe\">\n",
              "  <thead>\n",
              "    <tr style=\"text-align: right;\">\n",
              "      <th></th>\n",
              "      <th>seriousdlqin2yrs</th>\n",
              "      <th>revolvingutilizationofunsecuredlines</th>\n",
              "      <th>age</th>\n",
              "      <th>numberoftime3059dayspastduenotworse</th>\n",
              "      <th>debtratio</th>\n",
              "      <th>monthlyincome</th>\n",
              "      <th>numberofopencreditlinesandloans</th>\n",
              "      <th>numberoftimes90dayslate</th>\n",
              "      <th>numberrealestateloansorlines</th>\n",
              "      <th>numberoftime6089dayspastduenotworse</th>\n",
              "      <th>numberofdependents</th>\n",
              "    </tr>\n",
              "  </thead>\n",
              "  <tbody>\n",
              "    <tr>\n",
              "      <th>0</th>\n",
              "      <td>1</td>\n",
              "      <td>0.77</td>\n",
              "      <td>45</td>\n",
              "      <td>2.00</td>\n",
              "      <td>0.80</td>\n",
              "      <td>9120.00</td>\n",
              "      <td>13</td>\n",
              "      <td>0.00</td>\n",
              "      <td>6</td>\n",
              "      <td>0.00</td>\n",
              "      <td>2.00</td>\n",
              "    </tr>\n",
              "    <tr>\n",
              "      <th>1</th>\n",
              "      <td>0</td>\n",
              "      <td>0.96</td>\n",
              "      <td>40</td>\n",
              "      <td>0.00</td>\n",
              "      <td>0.12</td>\n",
              "      <td>2600.00</td>\n",
              "      <td>4</td>\n",
              "      <td>0.00</td>\n",
              "      <td>0</td>\n",
              "      <td>0.00</td>\n",
              "      <td>1.00</td>\n",
              "    </tr>\n",
              "    <tr>\n",
              "      <th>2</th>\n",
              "      <td>0</td>\n",
              "      <td>0.66</td>\n",
              "      <td>38</td>\n",
              "      <td>1.00</td>\n",
              "      <td>0.09</td>\n",
              "      <td>3042.00</td>\n",
              "      <td>2</td>\n",
              "      <td>1.00</td>\n",
              "      <td>0</td>\n",
              "      <td>0.00</td>\n",
              "      <td>0.00</td>\n",
              "    </tr>\n",
              "    <tr>\n",
              "      <th>3</th>\n",
              "      <td>0</td>\n",
              "      <td>0.23</td>\n",
              "      <td>30</td>\n",
              "      <td>0.00</td>\n",
              "      <td>0.04</td>\n",
              "      <td>3300.00</td>\n",
              "      <td>5</td>\n",
              "      <td>0.00</td>\n",
              "      <td>0</td>\n",
              "      <td>0.00</td>\n",
              "      <td>0.00</td>\n",
              "    </tr>\n",
              "    <tr>\n",
              "      <th>4</th>\n",
              "      <td>0</td>\n",
              "      <td>0.91</td>\n",
              "      <td>49</td>\n",
              "      <td>1.00</td>\n",
              "      <td>0.02</td>\n",
              "      <td>63588.00</td>\n",
              "      <td>7</td>\n",
              "      <td>0.00</td>\n",
              "      <td>1</td>\n",
              "      <td>0.00</td>\n",
              "      <td>0.00</td>\n",
              "    </tr>\n",
              "  </tbody>\n",
              "</table>\n",
              "</div>"
            ],
            "text/plain": [
              "   seriousdlqin2yrs  ...  numberofdependents\n",
              "0                 1  ...                2.00\n",
              "1                 0  ...                1.00\n",
              "2                 0  ...                0.00\n",
              "3                 0  ...                0.00\n",
              "4                 0  ...                0.00\n",
              "\n",
              "[5 rows x 11 columns]"
            ]
          },
          "metadata": {
            "tags": []
          },
          "execution_count": 176
        }
      ]
    },
    {
      "cell_type": "code",
      "metadata": {
        "id": "1VLCcUIYynEi"
      },
      "source": [
        "from sklearn.ensemble import RandomForestClassifier"
      ],
      "execution_count": 177,
      "outputs": []
    },
    {
      "cell_type": "code",
      "metadata": {
        "id": "i0LW4mCwynB8",
        "outputId": "b5f0df62-a5af-4a95-8411-0f33537be6bc",
        "colab": {
          "base_uri": "https://localhost:8080/",
          "height": 119
        }
      },
      "source": [
        "training_data.columns[1:]"
      ],
      "execution_count": 178,
      "outputs": [
        {
          "output_type": "execute_result",
          "data": {
            "text/plain": [
              "Index(['revolvingutilizationofunsecuredlines', 'age',\n",
              "       'numberoftime3059dayspastduenotworse', 'debtratio', 'monthlyincome',\n",
              "       'numberofopencreditlinesandloans', 'numberoftimes90dayslate',\n",
              "       'numberrealestateloansorlines', 'numberoftime6089dayspastduenotworse',\n",
              "       'numberofdependents'],\n",
              "      dtype='object')"
            ]
          },
          "metadata": {
            "tags": []
          },
          "execution_count": 178
        }
      ]
    },
    {
      "cell_type": "code",
      "metadata": {
        "id": "pvA-q7gBym7c"
      },
      "source": [
        "X = training_data.drop('seriousdlqin2yrs', axis=1)\n",
        "y = training_data.seriousdlqin2yrs\n",
        "features_label = training_data.columns[1:]\n",
        "\n",
        "# Random forest classifier\n",
        "forest = RandomForestClassifier (n_estimators = 10000, random_state=0, n_jobs = -1)\n",
        "forest.fit(X,y)\n",
        "importances = forest.feature_importances_\n",
        "indices = np. argsort(importances)[::-1]\n",
        "for i in range(X.shape[1]):\n",
        "    print (\"%2d) %-*s %f\" % (i + 1, 30, features_label[i],importances[indices[i]]))"
      ],
      "execution_count": null,
      "outputs": []
    },
    {
      "cell_type": "code",
      "metadata": {
        "id": "wscS9DZmym5t"
      },
      "source": [
        "plt.title('Feature Importances')\n",
        "plt.bar(range(X.shape[1]),importances[indices], color=\"green\", align=\"center\")\n",
        "plt.xticks(range(X.shape[1]),features_label, rotation=90)\n",
        "plt.xlim([-1, X.shape[1]])\n",
        "plt.show()"
      ],
      "execution_count": null,
      "outputs": []
    },
    {
      "cell_type": "code",
      "metadata": {
        "id": "WhYNgOEwym0W"
      },
      "source": [
        "# Train base model "
      ],
      "execution_count": null,
      "outputs": []
    },
    {
      "cell_type": "code",
      "metadata": {
        "id": "VXNjBJrNyfhl"
      },
      "source": [
        "from sklearn.linear_model import LogisticRegression\n",
        "from sklearn.ensemble import AdaBoostClassifier, GradientBoostingClassifier, RandomForestClassifier\n",
        "from sklearn.neighbors import KNeighborsClassifier\n",
        "from sklearn.model_selection import train_test_split\n",
        "from sklearn.metrics import roc_auc_score"
      ],
      "execution_count": null,
      "outputs": []
    },
    {
      "cell_type": "code",
      "metadata": {
        "id": "6ncn2qsdy3Ux"
      },
      "source": [
        "X = training_data.drop('seriousdlqin2yrs', axis=1)\n",
        "y = training_data.seriousdlqin2yrs"
      ],
      "execution_count": null,
      "outputs": []
    },
    {
      "cell_type": "code",
      "metadata": {
        "id": "8VmNclBKy3fg"
      },
      "source": [
        "X_train, X_test, y_train, y_test = train_test_split(X, y, test_size=0.2)"
      ],
      "execution_count": null,
      "outputs": []
    },
    {
      "cell_type": "code",
      "metadata": {
        "id": "IR5-uJWgy3eA"
      },
      "source": [
        "# K Neighbor classifier\n",
        "knMod = KNeighborsClassifier(n_neighbors=5, weights='uniform', algorithm='auto', leaf_size=30, p=2,\n",
        "                             metric='minkowski', metric_params=None)"
      ],
      "execution_count": null,
      "outputs": []
    },
    {
      "cell_type": "code",
      "metadata": {
        "id": "FI0lig2Ky3cf"
      },
      "source": [
        "knMod.fit(X_train, y_train)"
      ],
      "execution_count": null,
      "outputs": []
    },
    {
      "cell_type": "code",
      "metadata": {
        "id": "-mfq6g00y3aT"
      },
      "source": [
        "knMod.score(X_test, y_test)"
      ],
      "execution_count": null,
      "outputs": []
    },
    {
      "cell_type": "code",
      "metadata": {
        "id": "J4kjxdpGy3Yl"
      },
      "source": [
        "test_labels=knMod.predict_proba(np.array(X_test.values))[:,1]"
      ],
      "execution_count": null,
      "outputs": []
    },
    {
      "cell_type": "code",
      "metadata": {
        "id": "QEOxWBEdy3S5"
      },
      "source": [
        "roc_auc_score(y_test,test_labels , average='macro', sample_weight=None)"
      ],
      "execution_count": null,
      "outputs": []
    },
    {
      "cell_type": "code",
      "metadata": {
        "id": "UvUdIsHPy3Qz"
      },
      "source": [
        "# Logistic regression\n",
        "glmMod = LogisticRegression(penalty='l1', dual=False, tol=0.0001, C=1.0, fit_intercept=True,\n",
        "                            intercept_scaling=1, class_weight=None, \n",
        "                            random_state=None, solver='liblinear', max_iter=100,\n",
        "                            multi_class='ovr', verbose=2)"
      ],
      "execution_count": null,
      "outputs": []
    },
    {
      "cell_type": "code",
      "metadata": {
        "id": "HePM9n35zF7N"
      },
      "source": [
        "glmMod.fit(X_train, y_train)"
      ],
      "execution_count": null,
      "outputs": []
    },
    {
      "cell_type": "code",
      "metadata": {
        "id": "32e0q0q5zGFw"
      },
      "source": [
        "glmMod.score(X_test, y_test)"
      ],
      "execution_count": null,
      "outputs": []
    },
    {
      "cell_type": "code",
      "metadata": {
        "id": "uS_fzMjZzGEQ"
      },
      "source": [
        "test_labels=glmMod.predict_proba(np.array(X_test.values))[:,1]"
      ],
      "execution_count": null,
      "outputs": []
    },
    {
      "cell_type": "code",
      "metadata": {
        "id": "NFFzA3eEzGBM"
      },
      "source": [
        "roc_auc_score(y_test,test_labels , average='macro', sample_weight=None)"
      ],
      "execution_count": null,
      "outputs": []
    },
    {
      "cell_type": "code",
      "metadata": {
        "id": "ZpvccFTxzPkY"
      },
      "source": [
        "adaMod = AdaBoostClassifier(base_estimator=None, n_estimators=200, learning_rate=1.0)"
      ],
      "execution_count": null,
      "outputs": []
    },
    {
      "cell_type": "code",
      "metadata": {
        "id": "o2VWr61-zPr9"
      },
      "source": [
        "adaMod.fit(X_train, y_train)"
      ],
      "execution_count": null,
      "outputs": []
    },
    {
      "cell_type": "code",
      "metadata": {
        "id": "t7Co-pUmzPpr"
      },
      "source": [
        "adaMod.score(X_test, y_test)"
      ],
      "execution_count": null,
      "outputs": []
    },
    {
      "cell_type": "code",
      "metadata": {
        "id": "zeIYuZCDzPm_"
      },
      "source": [
        "test_labels=adaMod.predict_proba(np.array(X_test.values))[:,1]"
      ],
      "execution_count": null,
      "outputs": []
    },
    {
      "cell_type": "code",
      "metadata": {
        "id": "8t7Ak9-ozPin"
      },
      "source": [
        "roc_auc_score(y_test,test_labels , average='macro', sample_weight=None)"
      ],
      "execution_count": null,
      "outputs": []
    },
    {
      "cell_type": "code",
      "metadata": {
        "id": "XhxKdgVYyYl3"
      },
      "source": [
        "gbMod = GradientBoostingClassifier(loss='deviance', learning_rate=0.1, n_estimators=200, subsample=1.0,\n",
        "                                   min_samples_split=2, min_samples_leaf=1, min_weight_fraction_leaf=0.0, \n",
        "                                   max_depth=3,\n",
        "                                   init=None, random_state=None, max_features=None, verbose=0)"
      ],
      "execution_count": null,
      "outputs": []
    },
    {
      "cell_type": "code",
      "metadata": {
        "id": "m6hW4_VOzXBo"
      },
      "source": [
        ""
      ],
      "execution_count": null,
      "outputs": []
    },
    {
      "cell_type": "code",
      "metadata": {
        "id": "kYCtQ0dHzXU5"
      },
      "source": [
        "# Gradient boosting classifier \n",
        "gbMod.fit(X_train, y_train)"
      ],
      "execution_count": null,
      "outputs": []
    },
    {
      "cell_type": "code",
      "metadata": {
        "id": "fOSKC1S-zXS-"
      },
      "source": [
        "gbMod.score(X_test, y_test)"
      ],
      "execution_count": null,
      "outputs": []
    },
    {
      "cell_type": "code",
      "metadata": {
        "id": "8jJdSJtQzXRB"
      },
      "source": [
        "test_labels=gbMod.predict_proba(np.array(X_test.values))[:,1]"
      ],
      "execution_count": null,
      "outputs": []
    },
    {
      "cell_type": "code",
      "metadata": {
        "id": "HNo8ZSQxzXOn"
      },
      "source": [
        "roc_auc_score(y_test,test_labels , average='macro', sample_weight=None)"
      ],
      "execution_count": null,
      "outputs": []
    },
    {
      "cell_type": "code",
      "metadata": {
        "id": "e28WCcPgzXNK"
      },
      "source": [
        "rfMod = RandomForestClassifier(n_estimators=10, criterion='gini', max_depth=None, min_samples_split=2,\n",
        "                               min_samples_leaf=1, min_weight_fraction_leaf=0.0, max_features='auto',\n",
        "                               max_leaf_nodes=None, bootstrap=True, oob_score=False, n_jobs=1, \n",
        "                               random_state=None, verbose=0)"
      ],
      "execution_count": null,
      "outputs": []
    },
    {
      "cell_type": "code",
      "metadata": {
        "id": "TC0BjlYvzXLp"
      },
      "source": [
        "rfMod.fit(X_train, y_train)"
      ],
      "execution_count": null,
      "outputs": []
    },
    {
      "cell_type": "code",
      "metadata": {
        "id": "A1OiYXtyzXKC"
      },
      "source": [
        "rfMod.score(X_test, y_test)"
      ],
      "execution_count": null,
      "outputs": []
    },
    {
      "cell_type": "code",
      "metadata": {
        "id": "Ej50-HnazXHd"
      },
      "source": [
        "test_labels=rfMod.predict_proba(np.array(X_test.values))[:,1]"
      ],
      "execution_count": null,
      "outputs": []
    },
    {
      "cell_type": "code",
      "metadata": {
        "id": "UqomiR2kzXFv"
      },
      "source": [
        "roc_auc_score(y_test,test_labels , average='macro', sample_weight=None)"
      ],
      "execution_count": null,
      "outputs": []
    },
    {
      "cell_type": "code",
      "metadata": {
        "id": "zuOz5i5MzmKs"
      },
      "source": [
        "# Cross validation "
      ],
      "execution_count": null,
      "outputs": []
    },
    {
      "cell_type": "code",
      "metadata": {
        "id": "SeeM3ZVSzmJI"
      },
      "source": [
        "\n",
        "from sklearn.model_selection import cross_val_score\n",
        "def cvDictGen(functions, scr, X_train=X, y_train=y, cv=5, verbose=1):\n",
        "    cvDict = {}\n",
        "    for func in functions:\n",
        "        cvScore = cross_val_score(func, X_train, y_train, cv=cv, verbose=verbose, scoring=scr)\n",
        "        cvDict[str(func).split('(')[0]] = [cvScore.mean(), cvScore.std()]\n",
        "    \n",
        "    return cvDict\n",
        "\n",
        "def cvDictNormalize(cvDict):\n",
        "    cvDictNormalized = {}\n",
        "    for key in cvDict.keys():\n",
        "        for i in cvDict[key]:\n",
        "            cvDictNormalized[key] = ['{:0.2f}'.format((cvDict[key][0]/cvDict[cvDict.keys()[0]][0])),\n",
        "                                     '{:0.2f}'.format((cvDict[key][1]/cvDict[cvDict.keys()[0]][1]))]\n",
        "    return cvDictNormalized"
      ],
      "execution_count": null,
      "outputs": []
    },
    {
      "cell_type": "code",
      "metadata": {
        "id": "IkB-V4arzmHV"
      },
      "source": [
        "cvD = cvDictGen(functions=[knMod, glmMod, adaMod, gbMod, rfMod], scr='roc_auc')\n",
        "cvD"
      ],
      "execution_count": null,
      "outputs": []
    },
    {
      "cell_type": "code",
      "metadata": {
        "id": "s-5SEjThzl_L"
      },
      "source": [
        "# Hyper parameter optimization using Randomized search\n",
        "from sklearn.model_selection import RandomizedSearchCV\n",
        "from scipy.stats import randint"
      ],
      "execution_count": null,
      "outputs": []
    },
    {
      "cell_type": "code",
      "metadata": {
        "id": "b0S9huIfzl8r"
      },
      "source": [
        "# AdaBoost"
      ],
      "execution_count": null,
      "outputs": []
    },
    {
      "cell_type": "code",
      "metadata": {
        "id": "H2ovnCFv0XfO"
      },
      "source": [
        "adaHyperParams = {'n_estimators': [10,50,100,200,420]}"
      ],
      "execution_count": null,
      "outputs": []
    },
    {
      "cell_type": "code",
      "metadata": {
        "id": "JGhtxrof0X0a"
      },
      "source": [
        "gridSearchAda = RandomizedSearchCV(estimator=adaMod, param_distributions=adaHyperParams, n_iter=5,\n",
        "                                   scoring='roc_auc', fit_params=None, cv=None, verbose=2).fit(X_train, y_train)"
      ],
      "execution_count": null,
      "outputs": []
    },
    {
      "cell_type": "code",
      "metadata": {
        "id": "8v_jGYLy0Xya"
      },
      "source": [
        "gridSearchAda.best_params_, gridSearchAda.best_score_"
      ],
      "execution_count": null,
      "outputs": []
    },
    {
      "cell_type": "code",
      "metadata": {
        "id": "QUHLjevV0Xwa"
      },
      "source": [
        "# Gradient boosting "
      ],
      "execution_count": null,
      "outputs": []
    },
    {
      "cell_type": "code",
      "metadata": {
        "id": "tZYOzoQb0Xum"
      },
      "source": [
        "gbHyperParams = {'loss' : ['deviance', 'exponential'],\n",
        "                 'n_estimators': randint(10, 500),\n",
        "                 'max_depth': randint(1,10)}"
      ],
      "execution_count": null,
      "outputs": []
    },
    {
      "cell_type": "code",
      "metadata": {
        "id": "WQ6A8CgG0Xso"
      },
      "source": [
        "gridSearchGB = RandomizedSearchCV(estimator=gbMod, param_distributions=gbHyperParams, n_iter=10,\n",
        "                                   scoring='roc_auc', fit_params=None, cv=None, verbose=2).fit(X_train, y_train)"
      ],
      "execution_count": null,
      "outputs": []
    },
    {
      "cell_type": "code",
      "metadata": {
        "id": "7nzOWaXt0XqE"
      },
      "source": [
        "gridSearchGB.best_params_, gridSearchGB.best_score_"
      ],
      "execution_count": null,
      "outputs": []
    },
    {
      "cell_type": "code",
      "metadata": {
        "id": "B2KSye-vzoJt"
      },
      "source": [
        ""
      ],
      "execution_count": null,
      "outputs": []
    },
    {
      "cell_type": "code",
      "metadata": {
        "id": "O7PVmkuJ0Xnz"
      },
      "source": [
        "# Train models with help of new hyper parameter"
      ],
      "execution_count": null,
      "outputs": []
    },
    {
      "cell_type": "code",
      "metadata": {
        "id": "jIlXtPJA0Xl4"
      },
      "source": [
        "bestGbModFitted = gridSearchGB.best_estimator_.fit(X_train, y_train)"
      ],
      "execution_count": null,
      "outputs": []
    },
    {
      "cell_type": "code",
      "metadata": {
        "id": "6VQmPwTB0Xjz"
      },
      "source": [
        "bestAdaModFitted = gridSearchAda.best_estimator_.fit(X_train, y_train)"
      ],
      "execution_count": null,
      "outputs": []
    },
    {
      "cell_type": "code",
      "metadata": {
        "id": "pjMVLQod1xxB"
      },
      "source": [
        "cvDictbestpara = cvDictGen(functions=[bestGbModFitted, bestAdaModFitted], scr='roc_auc')"
      ],
      "execution_count": null,
      "outputs": []
    },
    {
      "cell_type": "code",
      "metadata": {
        "id": "1DjiFb9H1xu5"
      },
      "source": [
        "cvDictbestpara"
      ],
      "execution_count": null,
      "outputs": []
    },
    {
      "cell_type": "code",
      "metadata": {
        "id": "kK-KhZH91xsu"
      },
      "source": [
        "test_labels=bestGbModFitted.predict_proba(np.array(X_test.values))[:,1]"
      ],
      "execution_count": null,
      "outputs": []
    },
    {
      "cell_type": "code",
      "metadata": {
        "id": "UrPw9ZRU1xqm"
      },
      "source": [
        "roc_auc_score(y_test,test_labels , average='macro', sample_weight=None)"
      ],
      "execution_count": null,
      "outputs": []
    },
    {
      "cell_type": "code",
      "metadata": {
        "id": "TPf8eMg512Mq"
      },
      "source": [
        "# Feature Transformation"
      ],
      "execution_count": null,
      "outputs": []
    },
    {
      "cell_type": "code",
      "metadata": {
        "id": "PSbOngWJ12LE"
      },
      "source": [
        "import numpy as np\n",
        "from sklearn.preprocessing import FunctionTransformer\n",
        "\n",
        "transformer = FunctionTransformer(np.log1p)\n",
        "X_train_1 = np.array(X_train)\n",
        "X_train_transform = transformer.transform(X_train_1)"
      ],
      "execution_count": null,
      "outputs": []
    },
    {
      "cell_type": "code",
      "metadata": {
        "id": "Ri_rT2sH12JL"
      },
      "source": [
        "bestGbModFitted_transformed = gridSearchGB.best_estimator_.fit(X_train_transform, y_train)"
      ],
      "execution_count": null,
      "outputs": []
    },
    {
      "cell_type": "code",
      "metadata": {
        "id": "r5g8U4m_1xou"
      },
      "source": [
        "bestAdaModFitted_transformed = gridSearchAda.best_estimator_.fit(X_train_transform, y_train)"
      ],
      "execution_count": null,
      "outputs": []
    },
    {
      "cell_type": "code",
      "metadata": {
        "id": "7oxPauwQ2N1t"
      },
      "source": [
        "cvDictbestpara_transform = cvDictGen(functions=[bestGbModFitted_transformed, bestAdaModFitted_transformed],\n",
        "                                     scr='roc_auc')"
      ],
      "execution_count": null,
      "outputs": []
    },
    {
      "cell_type": "code",
      "metadata": {
        "id": "mt5liZLv2Nzn"
      },
      "source": [
        "cvDictbestpara_transform"
      ],
      "execution_count": null,
      "outputs": []
    },
    {
      "cell_type": "code",
      "metadata": {
        "id": "gee8Pjzb2Nxo"
      },
      "source": [
        ""
      ],
      "execution_count": null,
      "outputs": []
    },
    {
      "cell_type": "code",
      "metadata": {
        "id": "ewIHFj121xmu"
      },
      "source": [
        ""
      ],
      "execution_count": null,
      "outputs": []
    }
  ]
}